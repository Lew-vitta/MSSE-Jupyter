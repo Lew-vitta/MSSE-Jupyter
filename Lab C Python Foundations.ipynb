{
 "cells": [
  {
   "cell_type": "markdown",
   "metadata": {},
   "source": [
    "### Name: May B. Dunn \n",
    "### Username: MD004\n",
    "### ID number: 12345\n",
    "**please edit the above with your details to personlise this notebook**"
   ]
  },
  {
   "cell_type": "markdown",
   "metadata": {},
   "source": [
    "# Laboratory C: Python Foundations: List Comprehensions\n",
    "\n"
   ]
  },
  {
   "cell_type": "markdown",
   "metadata": {},
   "source": [
    "# Python for Engineers\n",
    "(c) 2018,2020 Dr Neil Cooke, School of Engineering, Collaborative Teaching Laboratory, University of Birmingham"
   ]
  },
  {
   "cell_type": "markdown",
   "metadata": {},
   "source": [
    "# Introduction\n",
    "This is foundation work. You are advised to complete this before the lab.\n",
    "\n",
    "It consists of 2 exercises with multiple parts that should take approximately 30-60 minutes to complete. It is advised that you complete these before you attend the supervised lab sessions.\n",
    "\n",
    "It introduces basic list comprehensions. \n",
    "\n",
    "Prior to this lab you should have:\n",
    "\n",
    "* completed the previous labs\n",
    "* Reviewed the online support materials for Python provided on Canvas\n",
    "* Installed python on your personal computer and/or be familiar with its use.\n",
    "* Be familiar with other procedural programming languages i.e. C.\n",
    "\n",
    "You should upload this completed notebook to canvas.\n"
   ]
  },
  {
   "cell_type": "markdown",
   "metadata": {},
   "source": [
    "## Learning Outcomes\n",
    "\n",
    "This builds on your previous python knowledge you should have built up during the lab. I cover the following:\n",
    "\n",
    "> Different ways to create lists\n",
    "\n",
    "> Why list comprehension is important in Python\n",
    "\n",
    "> How to convert iterative lines of code into list comprehension\n",
    "\n",
    "**You should complete the pre-lab on you own, before attempting the lab where you should work in pairs (using individual notebooks)**\n",
    "\n",
    "**tasks you are required to do are highlighted in bold throughout this notebook**"
   ]
  },
  {
   "cell_type": "markdown",
   "metadata": {},
   "source": [
    "## Tools to complete this lab\n",
    "\n",
    "* Use this Jupyter notebook and complete/save your work in it. This requires a computing platform capable of running Python 3.x and Jupyter notebook (preferred). NOTE: pressing CTRL+Z on a highlighted cell will return it to its previous state. Use this to undo any changes you have made if you get lost and want to start again.\n",
    "\n",
    "* If for whatever reason you do not or cannot use Jupyter notebooks, then use the PDF document of this as a 'lab sheet' and type / copy the python code into a py file in the order presented in the sheet, using the IDLE python editor and suitable comments between sections e.g. #Exercise 1. This will require a computing platform with Python 3.x installed. (not recommended)"
   ]
  },
  {
   "cell_type": "markdown",
   "metadata": {},
   "source": [
    "# Creating lists\n",
    "Lists can be created using for-loops. For example, if you wanted to make a list of the numbers from 0 to 9, you would create the list like this:"
   ]
  },
  {
   "cell_type": "code",
   "execution_count": null,
   "metadata": {},
   "outputs": [
    {
     "name": "stdout",
     "output_type": "stream",
     "text": [
      "[0, 1, 2, 3, 4, 5, 6, 7, 8, 9]\n"
     ]
    }
   ],
   "source": [
    "l = []\n",
    "for i in range(10):\n",
    "    l.append(i)\n",
    "print(l)"
   ]
  },
  {
   "cell_type": "markdown",
   "metadata": {
    "editable": false
   },
   "source": [
    "You can create all kinds of lists this way:"
   ]
  },
  {
   "cell_type": "code",
   "execution_count": 86,
   "metadata": {},
   "outputs": [
    {
     "name": "stdout",
     "output_type": "stream",
     "text": [
      "['h', 'e', 'l', 'l', 'o']\n"
     ]
    }
   ],
   "source": [
    "l = []\n",
    "s = 'hello'\n",
    "for char in s:\n",
    "    l.append(char)\n",
    "print(l)"
   ]
  },
  {
   "cell_type": "code",
   "execution_count": 87,
   "metadata": {},
   "outputs": [
    {
     "name": "stdout",
     "output_type": "stream",
     "text": [
      "[(0, 0), (0, 1), (0, 2), (0, 3), (0, 4), (1, 0), (1, 1), (1, 2), (1, 3), (1, 4), (2, 0), (2, 1), (2, 2), (2, 3), (2, 4), (3, 0), (3, 1), (3, 2), (3, 3), (3, 4), (4, 0), (4, 1), (4, 2), (4, 3), (4, 4)]\n"
     ]
    }
   ],
   "source": [
    "l = []\n",
    "for i in range(5):\n",
    "    for j in range(5):\n",
    "        l.append((i,j))\n",
    "print(l)"
   ]
  },
  {
   "cell_type": "code",
   "execution_count": 89,
   "metadata": {},
   "outputs": [
    {
     "name": "stdout",
     "output_type": "stream",
     "text": [
      "[1, 4, 9, 16, 25]\n"
     ]
    }
   ],
   "source": [
    "l = []\n",
    "m = [1,2,3,4,5]\n",
    "for i in range(len(m)):\n",
    "    l.append(m[i]**2)\n",
    "print(l)"
   ]
  },
  {
   "cell_type": "markdown",
   "metadata": {},
   "source": [
    "# List Comprehension\n",
    "\n",
    "You can create all these lists using list comprehension. This is a concise method of creating lists instead of using loops in the conventional way.  \n",
    "\n",
    "List comprehension consists of a set of square brackets in which the list will be created. The first part of the content in the square bracket is the expression that you want contained in the list, i.e. a number of a certain kind, or an element of another list. It can be anything you want. The expression is then followed by one or more for-loops. It is with these for-loops that the list comprehension will decide how many expressions will be in the list."
   ]
  },
  {
   "cell_type": "markdown",
   "metadata": {
    "editable": false
   },
   "source": [
    "Take the first example in this notebook:\n",
    "```\n",
    "l = []\n",
    "for i in range(10):\n",
    "    l.append(i)\n",
    "print(l)\n",
    "```\n",
    "\n",
    "This can be done in one line using list comprehension:"
   ]
  },
  {
   "cell_type": "code",
   "execution_count": 5,
   "metadata": {
    "scrolled": false
   },
   "outputs": [
    {
     "name": "stdout",
     "output_type": "stream",
     "text": [
      "[0, 1, 2, 3, 4, 5, 6, 7, 8, 9]\n"
     ]
    }
   ],
   "source": [
    "l = [i for i in range(10)]\n",
    "print(l)"
   ]
  },
  {
   "cell_type": "markdown",
   "metadata": {
    "editable": false
   },
   "source": [
    "The second example would be done using list comprehension like this:"
   ]
  },
  {
   "cell_type": "code",
   "execution_count": 6,
   "metadata": {},
   "outputs": [
    {
     "name": "stdout",
     "output_type": "stream",
     "text": [
      "['h', 'e', 'l', 'l', 'o']\n"
     ]
    }
   ],
   "source": [
    "s = 'hello'\n",
    "l = [char for char in s]\n",
    "print(l)"
   ]
  },
  {
   "cell_type": "markdown",
   "metadata": {
    "editable": false
   },
   "source": [
    "Or even more concisely like this:"
   ]
  },
  {
   "cell_type": "code",
   "execution_count": 7,
   "metadata": {},
   "outputs": [
    {
     "name": "stdout",
     "output_type": "stream",
     "text": [
      "['h', 'e', 'l', 'l', 'o']\n"
     ]
    }
   ],
   "source": [
    "l = [char for char in 'hello']\n",
    "print(l)"
   ]
  },
  {
   "cell_type": "markdown",
   "metadata": {
    "editable": false
   },
   "source": [
    "The third example would be done like this:"
   ]
  },
  {
   "cell_type": "code",
   "execution_count": 1,
   "metadata": {},
   "outputs": [
    {
     "name": "stdout",
     "output_type": "stream",
     "text": [
      "[(0, 0), (0, 1), (0, 2), (0, 3), (0, 4), (1, 0), (1, 1), (1, 2), (1, 3), (1, 4), (2, 0), (2, 1), (2, 2), (2, 3), (2, 4), (3, 0), (3, 1), (3, 2), (3, 3), (3, 4), (4, 0), (4, 1), (4, 2), (4, 3), (4, 4)]\n"
     ]
    }
   ],
   "source": [
    "l = [(i,j) for i in range(5) for j in range(5)]\n",
    "print(l)"
   ]
  },
  {
   "cell_type": "markdown",
   "metadata": {},
   "source": [
    "# Exercise 1\n",
    "**The following fragments of code create lists using for-loops. for each, run the first version using a foor loop and attempt to replicate the output in the second version using a list comprehensions.**"
   ]
  },
  {
   "cell_type": "markdown",
   "metadata": {},
   "source": [
    "## worked example - empty list"
   ]
  },
  {
   "cell_type": "code",
   "execution_count": 9,
   "metadata": {},
   "outputs": [
    {
     "name": "stdout",
     "output_type": "stream",
     "text": [
      "[[], [], [], [], [], [], [], [], []]\n"
     ]
    }
   ],
   "source": [
    "l = []\n",
    "for i in range(9):\n",
    "    l.append([])\n",
    "print(l)"
   ]
  },
  {
   "cell_type": "code",
   "execution_count": 18,
   "metadata": {},
   "outputs": [
    {
     "name": "stdout",
     "output_type": "stream",
     "text": [
      "[[], [], [], [], [], [], [], [], []]\n"
     ]
    }
   ],
   "source": [
    "# list comprehension version\n",
    "l = [[] for i in range(9)]\n",
    "print(l)"
   ]
  },
  {
   "cell_type": "markdown",
   "metadata": {},
   "source": [
    "## array of integers "
   ]
  },
  {
   "cell_type": "code",
   "execution_count": 23,
   "metadata": {},
   "outputs": [
    {
     "name": "stdout",
     "output_type": "stream",
     "text": [
      "[1, 2, 3, 4, 5, 6, 7, 8, 9, 10, 11, 12, 13, 14, 15]\n"
     ]
    }
   ],
   "source": [
    "l = []\n",
    "data = [[1,2,3,4,5],[6,7,8,9,10],[11,12,13,14,15]]\n",
    "for i in range(len(data)):\n",
    "    for j in range(len(data[i])):\n",
    "        l.append(data[i][j])\n",
    "print(l)"
   ]
  },
  {
   "cell_type": "code",
   "execution_count": 23,
   "metadata": {},
   "outputs": [
    {
     "name": "stdout",
     "output_type": "stream",
     "text": [
      "[1, 2, 3, 4, 5, 6, 7, 8, 9, 10, 11, 12, 13, 14, 15]\n"
     ]
    }
   ],
   "source": [
    "# Your list comprehension version here\n",
    "data = [[1,2,3,4,5],[6,7,8,9,10],[11,12,13,14,15]]\n",
    "\n",
    "#if you get stuck try modifying this commented doe below replacing all instances of \n",
    "# X with something more meaningful\n",
    "\n",
    "l = [x for x in data for x in x]\n",
    "print(l)"
   ]
  },
  {
   "cell_type": "markdown",
   "metadata": {},
   "source": [
    "## array of boolean values"
   ]
  },
  {
   "cell_type": "code",
   "execution_count": 92,
   "metadata": {},
   "outputs": [
    {
     "name": "stdout",
     "output_type": "stream",
     "text": [
      "[[True, True, True, True], [True, True, True, True]]\n"
     ]
    }
   ],
   "source": [
    "l = []\n",
    "t = [['a','b','c','d'],['aa','bb','cc','dd']]\n",
    "for i in t:    \n",
    "    l1 = []\n",
    "    for j in i:        \n",
    "        l1.append(True)\n",
    "    l.append(l1)\n",
    "print(l)"
   ]
  },
  {
   "cell_type": "code",
   "execution_count": 149,
   "metadata": {},
   "outputs": [
    {
     "name": "stdout",
     "output_type": "stream",
     "text": [
      "[True, True, True, True, True, True, True, True]\n"
     ]
    }
   ],
   "source": [
    "t = [['a','b','c','d'],['aa','bb','cc','dd']]\n",
    "l = [True for X in t for Y in X]\n",
    "print(l)"
   ]
  },
  {
   "cell_type": "markdown",
   "metadata": {},
   "source": [
    "## list of arrays"
   ]
  },
  {
   "cell_type": "code",
   "execution_count": 47,
   "metadata": {},
   "outputs": [
    {
     "name": "stdout",
     "output_type": "stream",
     "text": [
      "[(0, 0, 0), (0, 0, 1), (0, 1, 0), (0, 1, 1), (1, 0, 0), (1, 0, 1), (1, 1, 0), (1, 1, 1)]\n"
     ]
    }
   ],
   "source": [
    "l = []\n",
    "b = [0,1]\n",
    "for i in range(len(b)):\n",
    "    for j in range(len(b)):\n",
    "        for k in range(len(b)):\n",
    "            l.append((b[i],b[j],b[k]))\n",
    "print(l)"
   ]
  },
  {
   "cell_type": "code",
   "execution_count": 79,
   "metadata": {
    "scrolled": true
   },
   "outputs": [
    {
     "name": "stdout",
     "output_type": "stream",
     "text": [
      "[(0, 0, 0), (0, 0, 1), (0, 1, 0), (0, 1, 1), (1, 0, 0), (1, 0, 1), (1, 1, 0), (1, 1, 1)]\n"
     ]
    }
   ],
   "source": [
    "b = [0,1]\n",
    "l = [(b[i],b[j], b[k]) for i in range(len(b)) for j in range(len(b)) for k in range(len(b))]\n",
    "print(l)"
   ]
  },
  {
   "cell_type": "markdown",
   "metadata": {},
   "source": [
    "# Conditionals in List Comprehensions\n",
    "\n",
    "Sometimes the elements that are in a list have been placed in there by the effect of a conditional. \n",
    "\n",
    "For example, imagine you have a dataset and want to extract info from the set based on a conditional (e.g. the even numbers):"
   ]
  },
  {
   "cell_type": "code",
   "execution_count": 39,
   "metadata": {},
   "outputs": [
    {
     "name": "stdout",
     "output_type": "stream",
     "text": [
      "[40, 2, 30, 2, 2, 50, 6, 6, 6, 386, 2]\n"
     ]
    }
   ],
   "source": [
    "data = [1,9,3,40,3,63,2,5,30,2,59,2,50,6,5,293,6,2039,3,5,6,386,2,59]\n",
    "l = []\n",
    "for d in data:\n",
    "    if d%2 == 0:\n",
    "        l.append(d)\n",
    "print(l)"
   ]
  },
  {
   "cell_type": "markdown",
   "metadata": {
    "editable": false
   },
   "source": [
    "This can be completed in list comprehension:"
   ]
  },
  {
   "cell_type": "code",
   "execution_count": 40,
   "metadata": {
    "scrolled": true
   },
   "outputs": [
    {
     "name": "stdout",
     "output_type": "stream",
     "text": [
      "[40, 2, 30, 2, 2, 50, 6, 6, 6, 386, 2]\n"
     ]
    }
   ],
   "source": [
    "data = [1,9,3,40,3,63,2,5,30,2,59,2,50,6,5,293,6,2039,3,5,6,386,2,59]\n",
    "l = [d for d in data if d%2==0]\n",
    "print(l)"
   ]
  },
  {
   "cell_type": "markdown",
   "metadata": {
    "editable": false
   },
   "source": [
    "You can also incorporate the else statement into list comprehension:"
   ]
  },
  {
   "cell_type": "code",
   "execution_count": 41,
   "metadata": {},
   "outputs": [
    {
     "name": "stdout",
     "output_type": "stream",
     "text": [
      "['Odd', 'Odd', 'Odd', 'Even', 'Odd', 'Odd', 'Even', 'Odd', 'Even', 'Even', 'Odd', 'Even', 'Even', 'Even', 'Odd', 'Odd', 'Even', 'Odd', 'Odd', 'Odd', 'Even', 'Even', 'Even', 'Odd']\n"
     ]
    }
   ],
   "source": [
    "data = [1,9,3,40,3,63,2,5,30,2,59,2,50,6,5,293,6,2039,3,5,6,386,2,59]\n",
    "l = []\n",
    "for d in data:\n",
    "    if d%2==0:\n",
    "        l.append(\"Even\")\n",
    "    else:\n",
    "        l.append(\"Odd\")\n",
    "print(l)"
   ]
  },
  {
   "cell_type": "markdown",
   "metadata": {
    "editable": false
   },
   "source": [
    "In list comprehension:"
   ]
  },
  {
   "cell_type": "code",
   "execution_count": 42,
   "metadata": {},
   "outputs": [
    {
     "name": "stdout",
     "output_type": "stream",
     "text": [
      "['Odd', 'Odd', 'Odd', 'Even', 'Odd', 'Odd', 'Even', 'Odd', 'Even', 'Even', 'Odd', 'Even', 'Even', 'Even', 'Odd', 'Odd', 'Even', 'Odd', 'Odd', 'Odd', 'Even', 'Even', 'Even', 'Odd']\n"
     ]
    }
   ],
   "source": [
    "data = [1,9,3,40,3,63,2,5,30,2,59,2,50,6,5,293,6,2039,3,5,6,386,2,59]\n",
    "l = [\"Even\" if d%2==0 else \"Odd\" for d in data]\n",
    "print(l)"
   ]
  },
  {
   "cell_type": "markdown",
   "metadata": {
    "editable": false
   },
   "source": [
    "List comprehension also works with multiple conditionals:"
   ]
  },
  {
   "cell_type": "code",
   "execution_count": 43,
   "metadata": {},
   "outputs": [
    {
     "name": "stdout",
     "output_type": "stream",
     "text": [
      "['Mammal', 'Reptile', 'Fish', 'Fish', 'Reptile', 'Mammal', 'Mammal', 'Reptile', 'Mammal', 'Fish', 'Reptile', 'Fish', 'Mammal']\n"
     ]
    }
   ],
   "source": [
    "data = [\"Dog\",\"Snake\",\"Salmon\",\"Salmon\",\"Snake\",\"Dog\",\"Dog\",\"Snake\",\"Dog\",\"Salmon\",\"Snake\",\"Salmon\",\"Dog\"]\n",
    "l = []\n",
    "for d in data:\n",
    "    if d == \"Dog\":\n",
    "        l.append(\"Mammal\")\n",
    "    elif d == \"Snake\":\n",
    "        l.append(\"Reptile\")\n",
    "    else:\n",
    "        l.append(\"Fish\")\n",
    "print(l)"
   ]
  },
  {
   "cell_type": "markdown",
   "metadata": {
    "editable": false
   },
   "source": [
    "In list comprehension:"
   ]
  },
  {
   "cell_type": "code",
   "execution_count": 5,
   "metadata": {},
   "outputs": [
    {
     "name": "stdout",
     "output_type": "stream",
     "text": [
      "['Mammal', 'Reptile', 'Fish', 'Fish', 'Reptile', 'Mammal', 'Mammal', 'Reptile', 'Mammal', 'Fish', 'Reptile', 'Fish', 'Mammal']\n"
     ]
    }
   ],
   "source": [
    "data = [\"Dog\",\"Snake\",\"Salmon\",\"Salmon\",\"Snake\",\"Dog\",\"Dog\",\"Snake\",\"Dog\",\"Salmon\",\"Snake\",\"Salmon\",\"Dog\"]\n",
    "l = [\"Mammal\" if d == \"Dog\" else \"Reptile\" if d == \"Snake\" else \"Fish\" for d in data]\n",
    "print(l)"
   ]
  },
  {
   "cell_type": "markdown",
   "metadata": {},
   "source": [
    "# Exercise 2\n",
    "**Change the following pieces of code to include list comprehensions**"
   ]
  },
  {
   "cell_type": "markdown",
   "metadata": {},
   "source": [
    "## 1 worked example: list of integers"
   ]
  },
  {
   "cell_type": "code",
   "execution_count": 35,
   "metadata": {},
   "outputs": [
    {
     "name": "stdout",
     "output_type": "stream",
     "text": [
      "[1, 9, 25, 49, 81]\n"
     ]
    }
   ],
   "source": [
    "numbers = [1,2,3,4,5,6,7,8,9]\n",
    "l = []\n",
    "for n in numbers:\n",
    "    if n%2 == 1:\n",
    "        l.append(n**2)\n",
    "print(l)"
   ]
  },
  {
   "cell_type": "code",
   "execution_count": 36,
   "metadata": {},
   "outputs": [
    {
     "name": "stdout",
     "output_type": "stream",
     "text": [
      "[1, 9, 25, 49, 81]\n"
     ]
    }
   ],
   "source": [
    "numbers = [1,2,3,4,5,6,7,8,9]\n",
    "l = [n**2 for n in numbers if n%2==1]\n",
    "print(l)"
   ]
  },
  {
   "cell_type": "markdown",
   "metadata": {},
   "source": [
    "## 2 lists of booleans"
   ]
  },
  {
   "cell_type": "code",
   "execution_count": 37,
   "metadata": {},
   "outputs": [
    {
     "name": "stdout",
     "output_type": "stream",
     "text": [
      "[[True, False, False, True, False], [False, True, False, False, True], [False, False, True, True, True], [True, True, True, True, False], [False, True, False, True, False]]\n"
     ]
    }
   ],
   "source": [
    "data = [[1,0,0,1,0], [0,1,0,0,1], [0,0,1,1,1], [1,1,1,1,0], [0,1,0,1,0]]\n",
    "l = []\n",
    "for i in data:\n",
    "    t = []\n",
    "    for j in i:\n",
    "        if j == 1:\n",
    "            t.append(True)\n",
    "        else:\n",
    "            t.append(False)\n",
    "    l.append(t)\n",
    "print(l)"
   ]
  },
  {
   "cell_type": "code",
   "execution_count": 81,
   "metadata": {},
   "outputs": [
    {
     "name": "stdout",
     "output_type": "stream",
     "text": [
      "[True, False, False, True, False, False, True, False, False, True, False, False, True, True, True, True, True, True, True, False, False, True, False, True, False]\n"
     ]
    }
   ],
   "source": [
    "data = [[1,0,0,1,0], [0,1,0,0,1], [0,0,1,1,1], [1,1,1,1,0], [0,1,0,1,0]]\n",
    "l = [(True) if y == 1 else (False) for x in data for y in x]\n",
    "print(l)"
   ]
  },
  {
   "cell_type": "markdown",
   "metadata": {},
   "source": [
    "## 3 lists of floats"
   ]
  },
  {
   "cell_type": "code",
   "execution_count": 84,
   "metadata": {},
   "outputs": [
    {
     "name": "stdout",
     "output_type": "stream",
     "text": [
      "[0.2656604362031997, 0.3564008127890539, 0.40954466720945837]\n"
     ]
    }
   ],
   "source": [
    "import random\n",
    "data = [random.uniform(0,1) for i in range(10)]\n",
    "l = []\n",
    "for i in data:\n",
    "    if i < 0.5:\n",
    "        l.append(i)\n",
    "print(l)"
   ]
  },
  {
   "cell_type": "code",
   "execution_count": 82,
   "metadata": {},
   "outputs": [
    {
     "name": "stdout",
     "output_type": "stream",
     "text": [
      "[0.09766043526708279, 0.004407522146565368, 0.2727120827298599, 0.2774244818964686, 0.2980693098617556]\n"
     ]
    }
   ],
   "source": [
    "# Your code here\n",
    "import random\n",
    "data = [random.uniform(0,1) for i in range(10)]\n",
    "l = [i for i in data if i < 0.5]\n",
    "print(l)"
   ]
  },
  {
   "cell_type": "markdown",
   "metadata": {},
   "source": [
    "## 4 List of String"
   ]
  },
  {
   "cell_type": "code",
   "execution_count": 44,
   "metadata": {},
   "outputs": [
    {
     "name": "stdout",
     "output_type": "stream",
     "text": [
      "['0', '1', '2', 'NA', 'NA', 'NA', 'NA', 'NA', 'NA', 'NA']\n"
     ]
    }
   ],
   "source": [
    "l = []\n",
    "for i in range(10):\n",
    "    if i < 3:\n",
    "        l.append(str(i))\n",
    "    else:\n",
    "        l.append('NA')\n",
    "print(l)"
   ]
  },
  {
   "cell_type": "code",
   "execution_count": 24,
   "metadata": {},
   "outputs": [
    {
     "name": "stdout",
     "output_type": "stream",
     "text": [
      "['0', '1', '2', 'NA', 'NA', 'NA', 'NA', 'NA', 'NA', 'NA']\n"
     ]
    }
   ],
   "source": [
    "l = [str(i) if i < 3 else 'NA' for i in range(10) ] #your code here  [d for d in data if d%2==0]\n",
    "\n",
    "print(l) "
   ]
  },
  {
   "cell_type": "markdown",
   "metadata": {},
   "source": [
    "# End of Lab\n",
    "\n",
    "This is the end of your introduction list comprehensions. \n",
    "\n",
    "Please note this is not a complete reference but is designed to introduce you to concepts and common misconceptions of the python language, and hopefully some good practice such as variable naming and exhaustive commenting of code.\n",
    "\n",
    "Please consult the online reference materials to find out more (Canvas has links).\n",
    "\n",
    "Jupyter notebooks are not just for coding; you can write in them too in markup language. So note in the next cell what what you learned/found difficult or easy in the space below.\n",
    "\n"
   ]
  },
  {
   "cell_type": "markdown",
   "metadata": {},
   "source": [
    "**please reflect on your learning below**\n",
    "\n",
    "### I rate this lab (out of 5): 5\n",
    "\n",
    "### What I find easy:\n",
    "Lorem ipsum dolor sit amet, consectetur adipiscing elit, sed do eiusmod tempor incididunt ut labore et dolore magna aliqua.\n",
    "\n",
    "### What I find difficult:\n",
    "Lorem ipsum dolor sit amet, consectetur adipiscing elit, sed do eiusmod tempor incididunt ut labore et dolore magna aliqua.\n",
    "\n",
    "### What I should improve:\n",
    "Lorem ipsum dolor sit amet, consectetur adipiscing elit, sed do eiusmod tempor incididunt ut labore et dolore magna aliqua."
   ]
  },
  {
   "cell_type": "markdown",
   "metadata": {},
   "source": [
    "# Next steps\n",
    "\n",
    "* **Upload this completed .pynb notebook to canvas**\n",
    "* **Progress to the next lab**"
   ]
  },
  {
   "cell_type": "markdown",
   "metadata": {},
   "source": [
    "# Python for Engineers\n",
    "(c) 2018,2020 Dr Neil Cooke, School of Engineering, Collaborative Teaching Laboratory, University of Birmingham"
   ]
  },
  {
   "cell_type": "code",
   "execution_count": null,
   "metadata": {},
   "outputs": [],
   "source": []
  }
 ],
 "metadata": {
  "interpreter": {
   "hash": "97cc609b13305c559618ec78a438abc56230b9381f827f22d070313b9a1f3777"
  },
  "kernelspec": {
   "display_name": "Python 3.10.0 64-bit",
   "name": "python3"
  },
  "language_info": {
   "codemirror_mode": {
    "name": "ipython",
    "version": 3
   },
   "file_extension": ".py",
   "mimetype": "text/x-python",
   "name": "python",
   "nbconvert_exporter": "python",
   "pygments_lexer": "ipython3",
   "version": "3.10.0"
  }
 },
 "nbformat": 4,
 "nbformat_minor": 2
}
