{
 "cells": [
  {
   "cell_type": "markdown",
   "metadata": {},
   "source": [
    "### Name: Lewis Vitta\n",
    "### Username: LXV842\n",
    "### ID number: 2047942\n",
    "**please edit the above with your details to personlise this notebook**"
   ]
  },
  {
   "cell_type": "markdown",
   "metadata": {},
   "source": [
    "# Laboratory 3: Modelling a 32-bit ALU \n"
   ]
  },
  {
   "cell_type": "markdown",
   "metadata": {},
   "source": [
    "# Python for Engineers\n",
    "(c) 2018,2020 Dr Neil Cooke, School of Engineering, Collaborative Teaching Laboratory, University of Birmingham"
   ]
  },
  {
   "cell_type": "markdown",
   "metadata": {},
   "source": [
    "# Introduction\n",
    "\n",
    "In this lab, you will be simulating a 32-bit ALU out of logic gates in Python.\n",
    "\n",
    "An arithmetic logic unit (ALU) is a combinational digital electronic circuit that performs arithmetic and bitwise operations on integer binary numbers. \n",
    "\n",
    "You will be programming the gates and the different components of a 32-bit ALU, such as a half-adder, a full-adder and multiplexors."
   ]
  },
  {
   "cell_type": "markdown",
   "metadata": {},
   "source": [
    "# Learning Outcomes\n",
    "In previous labs, you should have become more familiar and confident with programming in Python. This lab reinforces this knowledge using an electrical engineering concepts and use of boolean logic. \n",
    "\n",
    "By the end of this lab you will have:\n",
    "\n",
    "> Revised the operation of an ALU\n",
    "\n",
    "> Implemented a 32-Bit ALU out of Logic gates in Python.\n",
    "\n",
    "\n",
    "**You should complete the pre-lab individually, before attempting the lab where you should work in pairs (using individual notebooks)**\n",
    "\n",
    "**tasks you are required to do are highlighted in bold throughout this notebook**\n",
    " \n"
   ]
  },
  {
   "cell_type": "markdown",
   "metadata": {},
   "source": [
    "## Tools to complete this lab\n",
    "\n",
    "* Use this Jupyter notebook and complete/save your work in it. This requires a computing platform capable of running Python 3.x and Jupyter notebook (preferred). NOTE: pressing CTRL+Z on a highlighted cell will return it to itsprevious state. Use this to undo any changes you have made if you get lost and want to start again.\n",
    "\n",
    "* If for whatever reason you do not or cannot use Jupyter notebooks, then use the PDF document of this as a 'lab sheet' and type / copy the python code into a py file in the order presented in the sheet, using the IDLE python editor and suitable comments between sections e.g. #Exercise 1. This will require a computing platform with Python 3.x installed. (not recommended)"
   ]
  },
  {
   "cell_type": "markdown",
   "metadata": {},
   "source": [
    "# Introduction to ALU\n",
    "\n",
    "The ALU shown below inputs 2 x 32-bit numbers. There are also 2 control inputs. The control inputs determine the operation of the ALU: add, substract, AND, OR etc.\n",
    "\n",
    "The result is a 32-bit output. In addition there are zero, carry and overflow signals. The zero indicates a zero answer, carry the most-significant bit not output, and Overflow to indicate difference in sign of output to that of inputs.\n",
    "\n",
    "Before proceeeding, please consult reference texts/online for more information if you do not not understand the above."
   ]
  },
  {
   "cell_type": "markdown",
   "metadata": {
    "editable": false
   },
   "source": [
    "![alu]\n",
    "\n",
    "[alu]: images/32-bit-ALU.png"
   ]
  },
  {
   "cell_type": "markdown",
   "metadata": {},
   "source": [
    "# Exercise 1: Logic gates\n",
    "You will be using 4 logic gates: the AND gate, OR gate, NOT gate and XOR gate.\n",
    "\n",
    "![4-gates]\n",
    "\n",
    "[4-gates]: images/4basicgates.gif"
   ]
  },
  {
   "cell_type": "markdown",
   "metadata": {},
   "source": [
    "**Implement functions to compute the logic gates above. The input will be of type int, and will be either 1 or 0.**"
   ]
  },
  {
   "cell_type": "code",
   "execution_count": 9,
   "metadata": {},
   "outputs": [
    {
     "name": "stdout",
     "output_type": "stream",
     "text": [
      "0\n",
      "0\n",
      "1\n",
      "0 \n",
      "\n",
      "0\n",
      "1\n",
      "1\n",
      "1 \n",
      "\n",
      "0\n",
      "1\n",
      "0\n",
      "1 \n",
      "\n",
      "0\n",
      "1\n"
     ]
    }
   ],
   "source": [
    "def and_gate(a,b):\n",
    "    \"\"\"Function to emulate the AND gate\"\"\"    \n",
    "    return a & b\n",
    "    \n",
    "def or_gate(a,b):\n",
    "    \"\"\"Function to emulate the OR gate\"\"\"     \n",
    "    return a | b\n",
    "def not_gate(a):\n",
    "    \"\"\"Function to emulate the NOT gate\"\"\"    \n",
    "    return ~a+2  \n",
    "    \n",
    "def xor_gate(a,b):\n",
    "    \"\"\"Function to emulate the XOR gate\"\"\"    \n",
    "    return a^b\n",
    "\n",
    "#and gates\n",
    "print(and_gate(0,0))\n",
    "print(and_gate(0,1))\n",
    "print(and_gate(1,1))\n",
    "print(and_gate(1,0), \"\\n\")\n",
    "#or gates\n",
    "print(or_gate(0,0))\n",
    "print(or_gate(0,1))\n",
    "print(or_gate(1,1))\n",
    "print(or_gate(1,0), \"\\n\")\n",
    "#xor gates\n",
    "print(xor_gate(0,0))\n",
    "print(xor_gate(0,1))\n",
    "print(xor_gate(1,1))\n",
    "print(xor_gate(1,0), \"\\n\")\n",
    "#not gates\n",
    "print(not_gate(1))\n",
    "print(not_gate(0))"
   ]
  },
  {
   "cell_type": "markdown",
   "metadata": {},
   "source": [
    "# Exercise 2: Multiplexor\n",
    "\n",
    "Another important component that you will need is a multiplexor. The multiplexor can have multiple inputs and depending on the control line, will send one of the inputs to the output. This ALU will only need a 1-bit 2-way multiplexor. This will take in 2 inputs and a control line and will return one of the inputs, dependent on what is on the control line."
   ]
  },
  {
   "cell_type": "markdown",
   "metadata": {
    "editable": false
   },
   "source": [
    "![multiplexor]\n",
    "\n",
    "[multiplexor]: images/multiplexor.gif"
   ]
  },
  {
   "cell_type": "markdown",
   "metadata": {},
   "source": [
    "**Implement a 2-bit 2-way multiplexor that takes 2 inputs, a and b, and a control signal. All inputs will be of type int and will be either 1 or 0. When the control signal is 0, the multiplexor must return input a as the output. When the control signal is 1, the multiplexor must return input b as the output.**"
   ]
  },
  {
   "cell_type": "code",
   "execution_count": 8,
   "metadata": {},
   "outputs": [
    {
     "data": {
      "text/plain": [
       "0"
      ]
     },
     "execution_count": 8,
     "metadata": {},
     "output_type": "execute_result"
    }
   ],
   "source": [
    "def multiplexor(a,b,control):\n",
    "    \"\"\"Function to emulate a 2-bit 2-way multiplexor,\n",
    "    When the control signal is 0, the output is a,\n",
    "    when the control signal is 1, the output is b\n",
    "    \"\"\"\n",
    "    # if control = 0/1 then return a/b\n",
    "    if control == 0:\n",
    "        return a\n",
    "    elif control == 1:\n",
    "        return b  \n",
    "#call multiplexer, a = 0, b = 1, control = 0, output: 0    \n",
    "multiplexor(0,1,0)"
   ]
  },
  {
   "cell_type": "markdown",
   "metadata": {},
   "source": [
    "# Exercise 3: Bitwise AND, OR\n",
    "Another 2 components of the ALU are 32-bit AND and 32-bit OR. These take in two inputs, both of which are 32 bits, and return a 32 bit output. They are created by running 32 AND and OR gates in parallel and applying the operation on each individual bit of the inputs. The diagrams below should help you to understand how they work.\n",
    "\n",
    "![32bitand]\n",
    "![32bitor]\n",
    "\n",
    "[32bitand]: images/32bitand.gif\n",
    "[32bitor]: images/32bitor.gif"
   ]
  },
  {
   "cell_type": "markdown",
   "metadata": {},
   "source": [
    "** Implement 32-bit AND and 32-bit OR functions that take 32-bit inputs and give 32-bit outputs. The inputs must be in a string format. **\n",
    "\n",
    "For example, the following lines of code\n",
    "```\n",
    "a = '00100000100000000000100000000001'\n",
    "b = '00100000000000010000000100000001'\n",
    "c = and_32bit(a,b)\n",
    "print(c)\n",
    "```\n",
    "should return\n",
    "```(0,0,1,0,0,0,0,0,0,0,0,0,0,0,0,0,0,0,0,0,0,0,0,0,0,0,0,0,0,0,0,1)```"
   ]
  },
  {
   "cell_type": "code",
   "execution_count": 7,
   "metadata": {},
   "outputs": [
    {
     "name": "stdout",
     "output_type": "stream",
     "text": [
      "(0, 0, 1, 0, 0, 0, 0, 0, 0, 0, 0, 0, 0, 0, 0, 0, 0, 0, 0, 0, 0, 0, 0, 0, 0, 0, 0, 0, 0, 0, 0, 1) \n",
      " (0, 0, 1, 0, 0, 0, 0, 0, 1, 0, 0, 0, 0, 0, 0, 1, 0, 0, 0, 0, 1, 0, 0, 1, 0, 0, 0, 0, 0, 0, 0, 1)\n"
     ]
    }
   ],
   "source": [
    "def and_32bit(a,b):\n",
    "    \"\"\"Function to emulate a 32-bit AND operator,\n",
    "    input is 2 strings of length 32,\n",
    "    output is 1 tuple of length 32\"\"\"\n",
    "    #returns a tuple of every output of an AND gate applied to each bit in a and b    \n",
    "    return tuple([int(a[i]) & int(b[i]) for i in range(32)])  \n",
    "\n",
    "def or_32bit(a,b):\n",
    "    \"\"\"Function to emulate a 32-bit OR operator,\n",
    "    input is 2 strings, a and b, which have length 32,\n",
    "    output is 1 tuple, which has length 32\"\"\"\n",
    "    #returns a tuple of every output of an OR gate applied to each bit in a and b  \n",
    "    return tuple([int(a[i]) | int(b[i]) for i in range(32)])  \n",
    "     \n",
    "\n",
    "a = '00100000100000000000100000000001'\n",
    "b = '00100000000000010000000100000001'\n",
    "# print results from calling both and and or gate with a,b\n",
    "print(and_32bit(a, b),\"\\n\",or_32bit(a,b))"
   ]
  },
  {
   "cell_type": "markdown",
   "metadata": {},
   "source": [
    "# Exercise 4: Half adder\n",
    "The ALU that you will be creating will only be capable of addition and subtraction. For addition, you will need a full adder, but before that you will need a half adder.  \n",
    "A half adder adds two single binary digits together. It has two outputs: sum (s) and carry (c). The carry represents overflow into the next digit of multi-digit addition.  \n",
    "\n",
    "The truth table for a half adder is as such:\n",
    "\n",
    "|Inputs|Outputs|\n",
    "|------|-------|\n",
    "\n",
    "\n",
    "|A|B|C|S|\n",
    "|-|-|-|-|\n",
    "|0|0|0|0|\n",
    "|1|0|0|1|\n",
    "|0|1|0|1|\n",
    "|1|1|1|0|\n",
    "\n",
    "\n",
    "\n",
    "![halfadder]\n",
    "\n",
    "[halfadder]: images/halfadder.gif\n",
    "\n",
    "Your half adder function must take in 2 integers, a and b, which will be either 1 or 0. It must return a tuple with the carry and the sum, in that order. The sum and the carry are also integers and will be either 1 or 0."
   ]
  },
  {
   "cell_type": "markdown",
   "metadata": {},
   "source": [
    "**Implement a half adder that takes in 2 integers, a and b, and returns a tuple with the carry and the sum in that order.** "
   ]
  },
  {
   "cell_type": "code",
   "execution_count": 6,
   "metadata": {},
   "outputs": [
    {
     "data": {
      "text/plain": [
       "(0, 1)"
      ]
     },
     "execution_count": 6,
     "metadata": {},
     "output_type": "execute_result"
    }
   ],
   "source": [
    "def half_adder(a,b):\n",
    "    \"\"\"Function to emulate a half adder with inputs a and b,\n",
    "    s is the sum, or output of the XOR gate,    \n",
    "    c is the carry, or the output of the AND gate\"\"\"\n",
    "    # count = a & b\n",
    "    c = a & b\n",
    "    # sum = a xor b \n",
    "    s = a ^ b        \n",
    "    return(c,s)\n",
    "# call half adder with arguments, a = 0, b =1\n",
    "half_adder(0,1)"
   ]
  },
  {
   "cell_type": "markdown",
   "metadata": {},
   "source": [
    "# Exercise 5: Full adder\n",
    "A full adder is a component that will perform a 1-bit add. It takes in 2 inputs and a carry in and will return a 1-bit output and a carry out.  \n",
    "Your full adder function must take in 3 integers, a, b and c_in, where a and b are the 1-bit inputs and c is the carry in. It will return 2 integers, c_out and q, where c_out is the carry out and q is the 1-bit sum output.  \n",
    "(Hint: use the half adder function that you have created in the full adder function)  \n",
    "\n",
    "![fulladder]\n",
    "\n",
    "[fulladder]: images/fulladder.gif"
   ]
  },
  {
   "cell_type": "markdown",
   "metadata": {},
   "source": [
    "**Implement a full adder that takes in 3 integers, a, b and c_in, and returns a tuple with the carry and the sum, in that order.**"
   ]
  },
  {
   "cell_type": "code",
   "execution_count": 41,
   "metadata": {},
   "outputs": [
    {
     "name": "stdout",
     "output_type": "stream",
     "text": [
      "(1, 0)\n"
     ]
    }
   ],
   "source": [
    "def full_adder(a,b,c_in):\n",
    "    \"\"\"A full adder built using 2 half-adders with inputs a,b and c_in, \n",
    "    c_out is the carry out, or the output of the XOR gate,\n",
    "    q is the 1-bit sum output, or the c-output of the second half-adder\"\"\"\n",
    "    # Your code here\n",
    "    #a&b,a^b : apply half_adder function to a and b \n",
    "    c_out, q = half_adder(a,b) \n",
    "    # apply half adder function to the previous sum, q, and the c_in bit\n",
    "    c_out2, q = half_adder(q,c_in)    \n",
    "    # c_out is an or gate applied to the 'count' from both half adder functions\n",
    "    c_out = c_out | c_out2\n",
    "    \n",
    "    return c_out, q\n",
    "    \n",
    "print(full_adder(1,1,0))\n"
   ]
  },
  {
   "cell_type": "markdown",
   "metadata": {
    "editable": false
   },
   "source": [
    "Binary numbers can have many zeros in them. In our 32-bit binaries, some will have many zeros at the beginning and only start having ones at the end. So before we make a 32-bit adder, it would be good to have a function that takes a less than 32-bit binary number and converts it to the full 32 bits.  \n",
    "\n",
    "For example, the number 14 can be represented in 4-bit binary as 1110, but the full 32-bit representation is 00000000000000000000000000001110. A function that takes the 1110 and converts it to 00000000000000000000000000001110 will make the next exercises easier."
   ]
  },
  {
   "cell_type": "markdown",
   "metadata": {},
   "source": [
    "**Implement a function that takes a less than 32-bit binary number in string format and converts it to the full 32-bit representation of the number. **\n",
    "\n",
    "For example,\n",
    "```\n",
    "a = '1101'\n",
    "print(convert_32bit(a))\n",
    "```\n",
    "should return\n",
    "```\n",
    "00000000000000000000000000001110\n",
    "```"
   ]
  },
  {
   "cell_type": "code",
   "execution_count": 3,
   "metadata": {},
   "outputs": [
    {
     "name": "stdout",
     "output_type": "stream",
     "text": [
      "00000000000000000000000000001101\n"
     ]
    }
   ],
   "source": [
    "def convert_32bit(a):\n",
    "    \"\"\"Function that takes a string version of a less than 32-bit binary number\n",
    "    and returns a string version of the 32-bit representation of the number\"\"\"\n",
    "    # appends '0's to the variable a, so that it is 32 bits in length \n",
    "    a = (32-len(a))*\"0\" + a\n",
    "    return a\n",
    "a = '1101'\n",
    "print(convert_32bit(a))"
   ]
  },
  {
   "cell_type": "markdown",
   "metadata": {},
   "source": [
    "# Exercise 6: 32-bit Full Adder\n",
    "A 32-bit full adder is created out of 32 single bit adders that work on each bit of the 2 inputs. Each individual adder will be given a carry except for the least-significant adder.  \n",
    "\n",
    "For example, for 2 32-bit numbers 00000000000000000000000000001110 and 00000000000000000000000000001111, the 32-bit adder will have 1 adder work on the least-significant bits of the numbers, the second adder work on the second least-significant bits of the numbers, and so on. The initial carry in of the 32-bit adder is 0. The following diagram should make it easier to understand.  \n",
    "\n",
    "![32bitadder]\n",
    "\n",
    "[32bitadder]: images\\32bitfulladder.gif\n",
    "\n",
    "Remember that when adding binary numbers, it is done from the right, so bare that in mind when writing your functions."
   ]
  },
  {
   "cell_type": "markdown",
   "metadata": {},
   "source": [
    "**Implement a 32-bit full adder that takes in 2 32-bit inputs in the string format you have so far been working with, and returns a string output that is the sum of the 2 numbers, and an integer that is the carry of the adder.**"
   ]
  },
  {
   "cell_type": "code",
   "execution_count": 12,
   "metadata": {},
   "outputs": [
    {
     "name": "stdout",
     "output_type": "stream",
     "text": [
      "([0, 0, 0, 0, 0, 0, 0, 0, 0, 0, 0, 0, 0, 0, 0, 0, 0, 0, 0, 0, 0, 0, 0, 0, 0, 0, 0, 1, 0, 1, 1, 1], 0)\n"
     ]
    }
   ],
   "source": [
    "def add32(a,b):\n",
    "    \"\"\"Function that takes 2 32-bit binary numbers in string format and returns a tuple with the sum of the \n",
    "    numbers in tuple format and an integer for the carry\"\"\"\n",
    "    #convert vairables to 32 bits\n",
    "    a = convert_32bit(a)\n",
    "    b = convert_32bit(b)\n",
    "    \n",
    "    c = 0 #declare c, as the count bit for full adder\n",
    "    q_out = [] #declares a list for the sum of each individual bit\n",
    "    \n",
    "    for i in range(32):         \n",
    "        #repeat the fuller adder function 32 times. for each bit right to left.\n",
    "        c, q = full_adder(int(a[31-i]),int(b[31-i]),c)       \n",
    "        #append the sum, q, output to the q_out list\n",
    "        q_out.append(q)\n",
    "    q_out = q_out[::-1] #reverse the list, to correct the order of bits\n",
    "    return q_out, c\n",
    "\n",
    "a = '1010'\n",
    "b = '1101'\n",
    "\n",
    "print(add32(a,b))\n"
   ]
  },
  {
   "cell_type": "markdown",
   "metadata": {},
   "source": [
    "# Exercise 7: Subtraction\n",
    "There is a simple way we can take the 32-bit adder change a few things to enable it to also perform subtraction.  \n",
    "\n",
    "Your 32-bit adder function should have an initial starting carry in of 0. When the 32-bit adder can do addition and subtraction, that initial carry in becomes a control line. Also an XOR gate is added before the second input of each individual adder. The bit from the second input and the control line go through this XOR gate.  \n",
    "\n",
    "When the data going down the control line is 0, the 32-bit adder will perform addition of the inputs. When the data going down the control line is 1, the 32-bit adder will perform subtraction of the inputs. The control is still used as a carry in.\n",
    "\n",
    "![sub]\n",
    "\n",
    "[sub]: images\\addsubxor.gif\n",
    "\n",
    "These are simplified directions of using two's compliment in subtraction of binary numbers. So when you perform\n",
    "```\n",
    "addsub32('0001','0010',1)\n",
    "```\n",
    "your function should return\n",
    "```\n",
    "('11111111111111111111111111111111', 0)\n",
    "```"
   ]
  },
  {
   "cell_type": "markdown",
   "metadata": {},
   "source": [
    "**Take your 32-bit adder function and adapt it so that it is also able to perform the subtraction of the 2 inputs. Your new function should now take 3 inputs: two 32-bit binary numbers as string and an integer for the control line.**"
   ]
  },
  {
   "cell_type": "code",
   "execution_count": 16,
   "metadata": {},
   "outputs": [
    {
     "name": "stdout",
     "output_type": "stream",
     "text": [
      "([1, 1, 1, 1, 1, 1, 1, 1, 1, 1, 1, 1, 1, 1, 1, 1, 1, 1, 1, 1, 1, 1, 1, 1, 1, 1, 1, 1, 1, 1, 1, 1], 0)\n"
     ]
    }
   ],
   "source": [
    "def add_sub32(a,b,control):\n",
    "    \"\"\"Function that takes 2 32-bit binary numbers in string format and a control digit \n",
    "    and returns a tuple with the addition or the difference of the numbers (i.e. a + b or a - b)\n",
    "    in tuple format and an integer for the carry,\n",
    "    if control is 0 then addition is performed, if control is 1 then subtraction is performed\"\"\"\n",
    "    # convert to 32 bit\n",
    "    a = convert_32bit(a)\n",
    "    b = convert_32bit(b)\n",
    "    # c starts as control, 0 if addition, 1 if subtraction\n",
    "    c = control\n",
    "    q_out = []\n",
    "    for i in range(32): \n",
    "        #repeat the fuller adder function 32 times for each bit right to left.\n",
    "        # b[31-i]^control, adds an xor gate, to dictate if addition or subtraction        \n",
    "        c, q = full_adder(int(a[31-i]),int(b[31-i])^control,c)\n",
    "        #append each q in the for loop to q_out \n",
    "        q_out.append(q)     \n",
    "    return q_out[::-1], c\n",
    "\n",
    "\n",
    "print(add_sub32('0001','0010',1))"
   ]
  },
  {
   "cell_type": "markdown",
   "metadata": {},
   "source": [
    "# Exercise 8: Overflow\n",
    "Another component of the ALU that you need to consider is overflow. When the operation with the given inputs returns a value that is too big, we get a carry value. This changes the most-significant bit. In twos-complement, this would return an output with a different sign value than what it is supposed to be.  \n",
    "\n",
    "Overflow and carry is only necessary when computing addition and subtraction, so it is something you have to think about implementing into the 32-bit adder. You need an overflow output (1 or 0) that simply tells you that the size of the inputs and the operation has resulted in overflow. We only have to do this for addition.  \n",
    "\n",
    "The overflow will the result of an OR gate. The inputs of the OR gate will be the outputs of two 3-input AND gates. The inputs of the AND gates will be certain combinations of the two 32-bit inputs and the 32-bit result. See the image below for clarification.\n",
    "\n",
    "![overflow]\n",
    "\n",
    "[overflow]: images/overflow.gif"
   ]
  },
  {
   "cell_type": "markdown",
   "metadata": {},
   "source": [
    "### 3-input AND gate\n",
    "To implement overflow into the adder, you need an AND gate that takes 3 inputs. This gate will return a 1 if all three inputs are 1, or 0 otherwise.\n",
    "\n",
    "**Implement a function that takes in 3 inputs and returns the AND output given the inputs.**"
   ]
  },
  {
   "cell_type": "code",
   "execution_count": 17,
   "metadata": {},
   "outputs": [
    {
     "data": {
      "text/plain": [
       "0"
      ]
     },
     "execution_count": 17,
     "metadata": {},
     "output_type": "execute_result"
    }
   ],
   "source": [
    "def and_gate_3(a,b,c):\n",
    "    \"\"\"An and gate that takes three bits as arguments, gives zero unless all\n",
    "    bits have a value of 1.\n",
    "    \"\"\"\n",
    "    # Your code here\n",
    "    return a & b & c\n",
    "and_gate_3(1,1,0)"
   ]
  },
  {
   "cell_type": "markdown",
   "metadata": {},
   "source": [
    "**Now adapt the 32-bit adder function so that it returns the tuple with the result, carry and now the overflow.**"
   ]
  },
  {
   "cell_type": "code",
   "execution_count": 18,
   "metadata": {},
   "outputs": [
    {
     "name": "stdout",
     "output_type": "stream",
     "text": [
      "([1, 0, 0, 0, 0, 0, 0, 0, 0, 0, 0, 0, 0, 0, 0, 0, 0, 0, 0, 0, 0, 0, 0, 0, 0, 0, 0, 0, 0, 0, 0, 0], 0, 1)\n"
     ]
    }
   ],
   "source": [
    "def add_sub_overflow32(a,b,control):\n",
    "    \"\"\"This functions works as a 32 bit adder and subtractor and outputs two's \n",
    "    compliment binary, and a carry and overflow bit.\n",
    "    \"\"\"\n",
    "    # convert the variables to 32 bit\n",
    "    a = convert_32bit(a)\n",
    "    b = convert_32bit(b)\n",
    "    # c starts as control, 0 if addition, 1 if subtraction\n",
    "    c = control\n",
    "    q_out = []      \n",
    "        \n",
    "    for i in range(32):         \n",
    "        c, q = full_adder(int(a[31-i]),int(b[31-i])^control,c)\n",
    "        q_out.append(q)   \n",
    "    q_out = q_out[::-1]\n",
    "    #overflow is made of two 3 input AND gates of which the first takes the most significant q_out bit, a not \n",
    "    #gate of the most significant bit in b xor control, and not gate of a's most significant bit\n",
    "    overflow = and_gate_3(q_out[0],not_gate(int(b[0])^control), not_gate(int(a[0]))) \n",
    "    # the second takes a NOT gate to the most significant q_out bit, the most significant bit in b xor control,\n",
    "    #and the most significant bit in a\n",
    "    overflow1 = and_gate_3(not_gate(q_out[0]),int(b[0])^control, int(a[0]))\n",
    "    #bring the two together with an or gate\n",
    "    overflow = overflow | overflow1\n",
    "    \n",
    "    return q_out, c, overflow\n",
    "\n",
    "a = '01111111111111111111111111111111'\n",
    "b = '1'\n",
    "\n",
    "print(add_sub_overflow32(a,b,0))"
   ]
  },
  {
   "cell_type": "markdown",
   "metadata": {},
   "source": [
    "# Exercise 9: Negative Output, Zero Output, and the Final ALU\n",
    "\n",
    "You also need to consider signals which indicate whether the result is negative or zero.  \n",
    "\n",
    "To create an output for the negative signal is easy: if the most significant bit is 1, the result is negative.  \n",
    "\n",
    "If the result is zero, then every bit in the result must be zero. \n",
    "\n",
    "You can check if a result is a zero by passing it through a 32-bit OR gate followed by a 1-bit NOT gate. \n",
    "\n",
    "The OR gate outputs a 0 only if all the bits are 0, and outputs 1 otherwise. \n",
    "\n",
    "The NOT gate then just switches the signal around. So by the end of the NOT gate, if the result was zero, the zero output would be a 1, and 0 otherwise.  \n",
    "\n",
    "You can pass your result through a 32-bit or gate by checking each bit of the result and if even one of the bits is zero, then the result of the or gate is 1.\n",
    "\n",
    "---\n",
    "\n",
    "Therefore final ALU will have 3 main units: the 32-bit AND, 32-bit OR and the 32-bit adder with a control line. \n",
    "\n",
    "It should also have outputs for overflow, carry, negative and zero. \n",
    "\n",
    "But out of the 3 main units, you need to be able to choose what operation you want to perform. This is based on what the inputs of the control lines are.  \n",
    "\n",
    "If the control lines are (0,0), the result should be the AND operation.  \n",
    "If the control lines are (0,1), the result should be the OR operation. \n",
    "If the control lines are (1,0), the result should be the addition operation.  \n",
    "If the control lines are (1,1), the result should be the subtraction operation.  \n",
    "All of this can be achieved using multiplexers.  \n",
    "\n",
    "The final ALU will look like this:\n",
    "\n",
    "![fullalu]\n",
    "\n",
    "[fullalu]: images/fullalu.gif"
   ]
  },
  {
   "cell_type": "markdown",
   "metadata": {},
   "source": [
    "**Implement a final ALU function using the functions you have thus far created, that takes 4 arguments, the 2 inputs and 2 control signals, and returns a tuple with the result in tuple format, the zero bit, negative bit, overflow bit and the carry bit.**"
   ]
  },
  {
   "cell_type": "code",
   "execution_count": 43,
   "metadata": {},
   "outputs": [
    {
     "name": "stdout",
     "output_type": "stream",
     "text": [
      "Operation\t\t\t\t\t\t Result \t\t\t\t       z  n  o  c\n",
      "AND ((0, 0, 0, 0, 0, 0, 0, 0, 0, 0, 0, 0, 0, 0, 0, 0, 0, 0, 0, 0, 0, 0, 0, 0, 0, 0, 0, 0, 1, 0, 0, 0), 0, 0, 0, 0)\n",
      "OR  ((0, 0, 0, 0, 0, 0, 0, 0, 0, 0, 0, 0, 0, 0, 0, 0, 0, 0, 0, 0, 0, 0, 0, 0, 0, 0, 0, 0, 1, 1, 1, 1), 0, 0, 0, 0)\n",
      "ADD ([0, 0, 0, 0, 0, 0, 0, 0, 0, 0, 0, 0, 0, 0, 0, 0, 0, 0, 0, 0, 0, 0, 0, 0, 0, 0, 0, 1, 0, 1, 1, 1], 0, 0, 0, 0)\n",
      "SUB ([1, 1, 1, 1, 1, 1, 1, 1, 1, 1, 1, 1, 1, 1, 1, 1, 1, 1, 1, 1, 1, 1, 1, 1, 1, 1, 1, 1, 1, 1, 0, 1], 0, 1, 0, 0)\n"
     ]
    }
   ],
   "source": [
    "def alu(a,b,c1,c0):\n",
    "    \"\"\"This ALU takes four arguments. a and b are binary numbers with a maximum\n",
    "    of 32 elements(either a list or a tuple), c1 and c0 are control bits.\n",
    "    for bitwise AND, bitwise OR, addition and subtraction, enter 00, 01, 10, 11\n",
    "    respectively for the values of c1 and c0 respectively.\n",
    "    \n",
    "    Function should return the result, zero output, negative output, overflow output and carry, in that order\n",
    "    \"\"\"\n",
    "    # Convert the variables to 32 but\n",
    "    a = convert_32bit(a)\n",
    "    b = convert_32bit(b)\n",
    "    # perform the add_sub_overflow functin on a, b, taking c0 as the control bit (0/1 add/sub)\n",
    "    q, carry, overflow = add_sub_overflow32(a,b, c0)\n",
    "    # use the multiplexor to choose AND/OR\n",
    "    mp = multiplexor(and_32bit(a,b),or_32bit(a,b),c0)\n",
    "    #use a multiplexor to choose between add/sub or and/or ouput as the result \n",
    "    result = multiplexor(mp, q, c1)    \n",
    "    \n",
    "    #negative if the most significant bit = 1.      \n",
    "    negative = result[0]    \n",
    "    #if there are NO \"1\"s in the result then the answer will be zero\n",
    "    if 1 in result:\n",
    "        zero = 0\n",
    "    else:\n",
    "        zero = 1    \n",
    "    \n",
    "    return result, zero, negative, overflow, carry  \n",
    "\n",
    "a = '1010'\n",
    "b = '1101'\n",
    "\n",
    "print(\"Operation\\t\\t\\t\\t\\t\\t Result \\t\\t\\t\\t       z  n  o  c\")\n",
    "print(\"AND\", alu(a,b,0,0))\n",
    "print(\"OR \", alu(a,b,0,1))\n",
    "print(\"ADD\", alu(a,b,1,0))\n",
    "print(\"SUB\", alu(a,b,1,1))"
   ]
  },
  {
   "cell_type": "markdown",
   "metadata": {},
   "source": [
    "# End of Lab\n",
    "\n",
    "This is the end of the Lab.\n",
    "\n",
    "You should have gained a sense of achievement in implementing a full 32-bit ALU in Python. \n",
    "\n",
    "Jupyter notebooks are not just for coding; you can write in them too in markup language. So note in the next cell what what you learned/found difficult or easy in the space below.\n",
    "\n"
   ]
  },
  {
   "cell_type": "markdown",
   "metadata": {},
   "source": [
    "**please reflect on your learning below**\n",
    "\n",
    "### I rate this lab (out of 5): 5\n",
    "\n",
    "### What I find easy:\n",
    "making the full adder and the 32 bit converter were nice to implement with many alternative approaches, but show how simple steps come together with the later stages of the lab to create a whole product. with many functions called to perform  relatively simple processes (addition)\n",
    "### What I find difficult:\n",
    "Implementing the overflow was quite difficult, ran into a few promblems such as taking the least significant bit instead of the most. was challeniging process to try and process mentally and implement into code. \n",
    "\n",
    "### What I should improve:\n",
    "There could be a better way to work out 'zero' in the alu "
   ]
  },
  {
   "cell_type": "markdown",
   "metadata": {},
   "source": [
    "# Next Learning Steps\n",
    "\n",
    "* **Upload this completed ipynb notebook to canvas**\n",
    "* **Proceed to the next lab.**"
   ]
  },
  {
   "cell_type": "markdown",
   "metadata": {},
   "source": [
    "# Python for Engineers\n",
    "(c) 2018,2020 Dr Neil Cooke, School of Engineering, Collaborative Teaching Laboratory, University of Birmingham"
   ]
  },
  {
   "cell_type": "code",
   "execution_count": null,
   "metadata": {},
   "outputs": [],
   "source": []
  }
 ],
 "metadata": {
  "kernelspec": {
   "display_name": "Python 3",
   "language": "python",
   "name": "python3"
  },
  "language_info": {
   "codemirror_mode": {
    "name": "ipython",
    "version": 3
   },
   "file_extension": ".py",
   "mimetype": "text/x-python",
   "name": "python",
   "nbconvert_exporter": "python",
   "pygments_lexer": "ipython3",
   "version": "3.8.5"
  }
 },
 "nbformat": 4,
 "nbformat_minor": 2
}
