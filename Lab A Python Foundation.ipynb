{
 "cells": [
  {
   "cell_type": "markdown",
   "metadata": {},
   "source": [
    "### Name: Lewis Vitta\n",
    "### Username: LXV842\n",
    "### ID number: 2047942\n",
    "**please edit the above with your details to personlise this notebook**"
   ]
  },
  {
   "cell_type": "markdown",
   "metadata": {},
   "source": [
    "# Laboratory A: Python Foundation: Variables, Keywords and Data Types"
   ]
  },
  {
   "cell_type": "markdown",
   "metadata": {
    "editable": false
   },
   "source": [
    "# Python for Engineers\n",
    "(c) 2018,2019,2020 Dr Neil Cooke, School of Engineering, Collaborative Teaching Laboratory, University of Birmingham"
   ]
  },
  {
   "cell_type": "markdown",
   "metadata": {},
   "source": [
    "# Introduction\n",
    "\n",
    "This is foundation work. \n",
    "\n",
    "It consists of 8 short exercises that should take no more than 30-60 minutes to complete.\n",
    "\n",
    "It is advised that you complete these before beginning the lab sessions. \n",
    "\n",
    "It introduces basic programming concepts and Python syntax.\n",
    "\n",
    "Prior to this lab you should have:\n",
    "\n",
    "* Begun the series of python lectures/videos\n",
    "* Reviewed the online support materials for Python provided on Canvas\n",
    "* Installed python on your personal computer and/or be familiar with its use.\n",
    "* Be familiar with other procedural programming languages i.e. C.\n",
    "\n",
    "You should upload this completed notebook to canvas. \n",
    "\n",
    "In the labs you will write a series of functions, which together, will simulate an electronic circuits.\n"
   ]
  },
  {
   "cell_type": "markdown",
   "metadata": {},
   "source": [
    "## Learning Outcomes\n",
    "\n",
    "This is a gentle introduction to the Python language and its syntax assuming that you have previous programming knowledge. You are advised to complete this before the lab. I cover the following:\n",
    "\n",
    "> Variable names can only contain letters, number and underscores. Names cannot be started with a number.\n",
    "\n",
    "> Variable types do not need to be stated explicitly in Python. The interpreter will assume a type depending on how the variable is declared.\n",
    "\n",
    "> Python has 'reserved words' (or 'keywords') which cannot be used for the names of variables and constants.\n",
    "\n",
    "> There are 5 built-in data types: Numbers, Strings, Lists, Tuples and Dictionaries\n",
    "\n",
    "> Mathematical operators do not only have to be used with numbers, but can be used with other data types too (like strings)\n",
    "\n",
    "> Python uses float division by default on integers, with floor division using a separate operator\n",
    "\n",
    "> Data types can be changed in a program using casting\n",
    "\n",
    "**tasks you are required to do are highlighted in bold throughout this notebook**"
   ]
  },
  {
   "cell_type": "markdown",
   "metadata": {},
   "source": [
    "## Tools to complete this lab\n",
    "\n",
    "* Use this Jupyter notebook and complete/save your work in it. This requires a computing platform capable of running Python 3.x and Jupyter notebook (Anaconda distribution is preferred at the time of writing). \n",
    "\n",
    "* NOTE: pressing CTRL+Z on a highlighted cell will return it to its previous state. Use this to undo any changes you have made if you get lost and want to start again.\n",
    "\n",
    "* If for whatever reason you do not or cannot use Jupyter notebooks, then use the PDF document of this as a 'lab sheet' and type / copy the python code into a py file in the order presented in the sheet, using the IDLE python editor and suitable comments between sections e.g. #Exercise 1. This will require a computing platform with Python 3.x installed. (not recommended)\n"
   ]
  },
  {
   "cell_type": "markdown",
   "metadata": {
    "editable": false
   },
   "source": [
    "# Exercise 1: Variable Names"
   ]
  },
  {
   "cell_type": "markdown",
   "metadata": {},
   "source": [
    "Some conventions:\n",
    "* Variable names cannot be any series of characters and symbols. \n",
    "* There are a few rules which decide whether a variable name is legal. \n",
    "* Some variable names are legal, but defy convention. For example, 'ThisVariable' is a legal name for a variable, but using capital letters to separate the words (camel case) is not convention. \n",
    "* Variable and function names should be written with lower case letters, with words separated by underscores (snake case). \n",
    "\n",
    "**Try running the cells below (press shift enter when editing a cell to run it) to find which variable names are legal,and which are not. Change the variable names so they match the Python naming convention. **"
   ]
  },
  {
   "cell_type": "code",
   "execution_count": 1,
   "metadata": {},
   "outputs": [],
   "source": [
    "power_10 = 4"
   ]
  },
  {
   "cell_type": "code",
   "execution_count": 2,
   "metadata": {},
   "outputs": [],
   "source": [
    "voltage = 5.34 # V"
   ]
  },
  {
   "cell_type": "code",
   "execution_count": 3,
   "metadata": {},
   "outputs": [],
   "source": [
    "total_current = 13.12 # A"
   ]
  },
  {
   "cell_type": "code",
   "execution_count": 4,
   "metadata": {},
   "outputs": [],
   "source": [
    "no_of_loops = 8"
   ]
  },
  {
   "cell_type": "code",
   "execution_count": 5,
   "metadata": {},
   "outputs": [],
   "source": [
    "reactive_power_ = 67.2 # W"
   ]
  },
  {
   "cell_type": "code",
   "execution_count": 6,
   "metadata": {},
   "outputs": [],
   "source": [
    "impedance_start = 23.4 # Ohms"
   ]
  },
  {
   "cell_type": "markdown",
   "metadata": {
    "editable": false
   },
   "source": [
    "**the following function converts camel case to snake case. Run this function to load it in memory (shift-enter while in the cell below).**"
   ]
  },
  {
   "cell_type": "code",
   "execution_count": 2,
   "metadata": {},
   "outputs": [],
   "source": [
    "import re # import a regular expression library with is used to parse text\n",
    "\n",
    "#convert function takes in a CamelCase variable name and converts it to snake_case variable name\n",
    "def convert(name):\n",
    "    s1 = re.sub('(.)([A-Z][a-z]+)', r'\\1_\\2', name)\n",
    "    return re.sub('([a-z0-9])([A-Z])', r'\\1_\\2', s1).lower()"
   ]
  },
  {
   "cell_type": "markdown",
   "metadata": {
    "editable": false
   },
   "source": [
    "**now using the variable names you corrected previously, call the convert function with each one to determine new output.**"
   ]
  },
  {
   "cell_type": "code",
   "execution_count": 3,
   "metadata": {
    "scrolled": true
   },
   "outputs": [
    {
     "name": "stdout",
     "output_type": "stream",
     "text": [
      "no__of__loops\n",
      "kinda forgot variable names\n",
      "doesn't add underscores ^\n"
     ]
    }
   ],
   "source": [
    "print(convert(\"No_Of_Loops\")) #we are printing as multiple calls to functions in a cell will only result in the final call output\n",
    "print(convert(\"KINDA FORGOT VARIABLE NAMES\"))\n",
    "print(convert(\"Doesn't add underscores ^\")) "
   ]
  },
  {
   "cell_type": "markdown",
   "metadata": {
    "editable": false
   },
   "source": [
    "# Exercise 2. Declaring Constants"
   ]
  },
  {
   "cell_type": "markdown",
   "metadata": {},
   "source": [
    "* Constants should be declared at the top of a program. \n",
    "* The convention for constants is to use all caps with underscores to separate words. \n",
    "* However constants are just a variable the user doesnt change, and can be written using any legal variable name. \n",
    "* Unlike other languages (such as C), the data type of a variable does *not* need to be explicitly declared.\n",
    "\n",
    "**Run the cells below and tweak the variable declarations to make the programs work correctly. \n",
    "Only the declarations need to be changed.**"
   ]
  },
  {
   "cell_type": "code",
   "execution_count": 9,
   "metadata": {},
   "outputs": [
    {
     "name": "stdout",
     "output_type": "stream",
     "text": [
      "Hello World\n"
     ]
    }
   ],
   "source": [
    "DEFAULT_STRING = \"Hello World\" # initialised string prior to user input\n",
    "\n",
    "string_entered = False # initialised flag to determine whether user has entered string\n",
    "\n",
    "'''\n",
    "in the real world there will be code here which does something- get user input \n",
    "'''\n",
    "\n",
    "if string_entered == False: #user has not entered a string\n",
    "    print(DEFAULT_STRING) # output the initialised string\n",
    "    \n",
    "#note: use flags in real programming only as a last resort!"
   ]
  },
  {
   "cell_type": "code",
   "execution_count": 10,
   "metadata": {},
   "outputs": [
    {
     "name": "stdout",
     "output_type": "stream",
     "text": [
      "28.26\n"
     ]
    }
   ],
   "source": [
    "PI = 3.14 #value of PI to 2 dp\n",
    "\n",
    "radius = 3 #radius of a circle\n",
    "area_of_a_circle = PI * radius**2 #calculate areas of circle from radius using well known formula...\n",
    "\n",
    "print(area_of_a_circle) # output the result."
   ]
  },
  {
   "cell_type": "markdown",
   "metadata": {
    "editable": false
   },
   "source": [
    "# Exercise 3: Reserved Words"
   ]
  },
  {
   "cell_type": "markdown",
   "metadata": {
    "editable": false
   },
   "source": [
    "* Python has 'reserved words' (or 'key words') which have a built-in function. \n",
    "* Variables and constants cannot have the same name as these words or else the interpreter will be confused (hence the name 'reserved').\n",
    "\n",
    "**The program below uses two variables with names which are the same as reserved words. Change the names of these variables so that the program can be run.**"
   ]
  },
  {
   "cell_type": "code",
   "execution_count": 11,
   "metadata": {},
   "outputs": [
    {
     "name": "stdout",
     "output_type": "stream",
     "text": [
      "For a voltage of 5 ∠ 30 V : the current is 0.01 ∠ 29.7 A\n"
     ]
    }
   ],
   "source": [
    "R_wire = 0.6 #resistance of wire\n",
    "L_wire = 0.3 #inductance of wire\n",
    "\n",
    "#compute current in RL circuiut given real and imaginary voltages\n",
    "def get_current(R, L, voltage_real, voltage_imag):\n",
    "  R_equiv = R/3 \n",
    "  L_equiv = L/3\n",
    "  current_real = round(voltage_real/(R_equiv+R_wire),2)\n",
    "  current_imag = round(voltage_imag - (L_equiv+L_wire),2)\n",
    "  raise_voltage = \"For a voltage of {} ∠ {} V : \".format(voltage_real,voltage_imag)\n",
    "  return_current = \"the current is {} ∠ {} A\".format(current_real,current_imag)\n",
    "  print(raise_voltage+return_current)\n",
    "\n",
    "get_current(2000, 0.001, 5, 30)"
   ]
  },
  {
   "cell_type": "markdown",
   "metadata": {
    "editable": false
   },
   "source": [
    "## void and fruitful functions\n",
    "\n",
    "If you have used other programming languages, you may have noticed that this function does not have a return value; the function does not return anything when called. \n",
    "\n",
    "This is called a 'void function'. If a function does have a return value, it is called a 'fruitful function'.\n",
    "\n",
    "These concepts will be covered more in depth in Lab 1."
   ]
  },
  {
   "cell_type": "markdown",
   "metadata": {
    "editable": false
   },
   "source": [
    "# Exercise 4: Data Types"
   ]
  },
  {
   "cell_type": "markdown",
   "metadata": {},
   "source": [
    "Python has 5 built in data types which you need to become very familiar with:\n",
    "\n",
    "<center>*Numbers* - int, long, float, complex </center>\n",
    "<center>*Strings* - created using either single quotes ('') or double quotes (\"\")</center>\n",
    "<center>*Lists* - can store all data types, used to create arrays of numbers and text</center>\n",
    "<center>*Tuples* - stores an ordered series of data which is immutable (cannot be changed)</center>\n",
    "<center>*Dictionaries* - stores pairs of data called 'keys' and 'values', where calling a key will return its associated value</center>"
   ]
  },
  {
   "cell_type": "markdown",
   "metadata": {},
   "source": [
    "* As mentioned in exercise 2, Python will assume the type of a variable based on how you declare it. \n",
    "* If it is delcared with inverted commas, it is assumed to be a string. \n",
    "* If it is declared with a decimal point, it is assumed to be a float. \n",
    "\n",
    "To check which type Python has assumed a variable (or object) to be, you can use the ```type()``` function call. \n",
    "* The argument this function takes is the name of the object you are testing. Using the ```type()``` function may come in useful when debugging a program.\n",
    "\n",
    "**For an example, try running the cell below to determine its type (float)**"
   ]
  },
  {
   "cell_type": "code",
   "execution_count": 12,
   "metadata": {
    "editable": false
   },
   "outputs": [
    {
     "data": {
      "text/plain": [
       "float"
      ]
     },
     "execution_count": 12,
     "metadata": {},
     "output_type": "execute_result"
    }
   ],
   "source": [
    "my_num = 1.5\n",
    "type(my_num)"
   ]
  },
  {
   "cell_type": "markdown",
   "metadata": {},
   "source": [
    "**Now use the ```type()``` function call to find the types of the variables below:**"
   ]
  },
  {
   "cell_type": "code",
   "execution_count": 13,
   "metadata": {},
   "outputs": [
    {
     "data": {
      "text/plain": [
       "str"
      ]
     },
     "execution_count": 13,
     "metadata": {},
     "output_type": "execute_result"
    }
   ],
   "source": [
    "circuit_arrangement = 'parallel'\n",
    "type(circuit_arrangement)"
   ]
  },
  {
   "cell_type": "code",
   "execution_count": 14,
   "metadata": {},
   "outputs": [
    {
     "data": {
      "text/plain": [
       "int"
      ]
     },
     "execution_count": 14,
     "metadata": {},
     "output_type": "execute_result"
    }
   ],
   "source": [
    "initial_voltage = 5\n",
    "type(initial_voltage)"
   ]
  },
  {
   "cell_type": "code",
   "execution_count": 15,
   "metadata": {},
   "outputs": [
    {
     "data": {
      "text/plain": [
       "list"
      ]
     },
     "execution_count": 15,
     "metadata": {},
     "output_type": "execute_result"
    }
   ],
   "source": [
    "sensor_output = [1.4,5.2,3.4,1.0,6.3,2.4]\n",
    "type(sensor_output)"
   ]
  },
  {
   "cell_type": "code",
   "execution_count": 16,
   "metadata": {},
   "outputs": [
    {
     "data": {
      "text/plain": [
       "tuple"
      ]
     },
     "execution_count": 16,
     "metadata": {},
     "output_type": "execute_result"
    }
   ],
   "source": [
    "resistors = (180,1000,2500,3900)\n",
    "type(resistors)"
   ]
  },
  {
   "cell_type": "code",
   "execution_count": 17,
   "metadata": {},
   "outputs": [
    {
     "data": {
      "text/plain": [
       "dict"
      ]
     },
     "execution_count": 17,
     "metadata": {},
     "output_type": "execute_result"
    }
   ],
   "source": [
    "conversion_values = {'1':'0001','2':'0010','3':'0011','4':'0100'}\n",
    "type(conversion_values)"
   ]
  },
  {
   "cell_type": "markdown",
   "metadata": {
    "editable": false
   },
   "source": [
    "# Exercise 5: Basic Operations"
   ]
  },
  {
   "cell_type": "markdown",
   "metadata": {},
   "source": [
    "* Data types can be operated on in different ways. \n",
    "* Each cell below uses a different operator to act on a variable(s). \n",
    "\n",
    "**See which data types can be operated on by which operator by adding and removing comments (#). Any line preceeded by a # will be ignored by the interpreter.**"
   ]
  },
  {
   "cell_type": "code",
   "execution_count": 18,
   "metadata": {},
   "outputs": [
    {
     "name": "stdout",
     "output_type": "stream",
     "text": [
      "[2, 1, 3, 4, 2, 4]\n"
     ]
    }
   ],
   "source": [
    "''' Addition '''\n",
    "\n",
    "x = 5\n",
    "y = 6\n",
    "\n",
    "x = 4.1\n",
    "y = 2.8\n",
    "\n",
    "x = 'Hello '\n",
    "y = 'World!'\n",
    "\n",
    "x = [2,1,3]\n",
    "y = [4,2,4]\n",
    " \n",
    "#x = (2,1,3)\n",
    "#y = (4,2,4)\n",
    "\n",
    "#x = {2:3,4:6,7:3}\n",
    "#y = {3:1,5:3,1:0}\n",
    "\n",
    "\n",
    "\n",
    "print(x+y)"
   ]
  },
  {
   "cell_type": "code",
   "execution_count": 19,
   "metadata": {},
   "outputs": [],
   "source": [
    "# Write a summary of what you found. For which data types is this operation valid? Which aren't?\n",
    "#\n",
    "#For the + operation all data types except the dictionary are valid. \n",
    "#\n",
    "#\n",
    "#\n",
    "#\n",
    "#\n",
    "#\n",
    "#\n"
   ]
  },
  {
   "cell_type": "code",
   "execution_count": 20,
   "metadata": {},
   "outputs": [
    {
     "name": "stdout",
     "output_type": "stream",
     "text": [
      "-4.2\n"
     ]
    }
   ],
   "source": [
    "''' Subtraction '''\n",
    "\n",
    "x = 3\n",
    "y = 9\n",
    "\n",
    "x = 2.5\n",
    "y = 6.7\n",
    "\n",
    "##x = 'Subtract '\n",
    "##y = 'Strings'\n",
    "\n",
    "##x = [5,3,6]\n",
    "##y = [2,7,4]\n",
    " \n",
    "##x = (5,3,6)\n",
    "##y = (2,7,4)\n",
    "\n",
    "#x = {'one':'uno','two':'dos','three':'tres'}\n",
    "#y = {'four':'cuatro','five':'cinco','six':'seis'}\n",
    "\n",
    "\n",
    "\n",
    "print(x-y)"
   ]
  },
  {
   "cell_type": "code",
   "execution_count": 21,
   "metadata": {},
   "outputs": [],
   "source": [
    "# Write a summary of what you found. For which data types is this operation valid? Which aren't?\n",
    "#\n",
    "# the - operator is only valid for Ints and Floats\n",
    "#\n",
    "#\n",
    "#\n",
    "#\n",
    "#\n",
    "#\n",
    "#\n"
   ]
  },
  {
   "cell_type": "code",
   "execution_count": 22,
   "metadata": {},
   "outputs": [
    {
     "name": "stdout",
     "output_type": "stream",
     "text": [
      "(3, 4, 7, 3, 4, 7, 3, 4, 7, 3, 4, 7)\n"
     ]
    }
   ],
   "source": [
    "''' Multiplication '''\n",
    "\n",
    "x = 6\n",
    "\n",
    "x = 3.4\n",
    "\n",
    "x = 'Multiplication'\n",
    "\n",
    "x = [3,4,7]\n",
    "\n",
    "x = (3,4,7)\n",
    "\n",
    "#x = {2:4,5:7,8:10}\n",
    "\n",
    "\n",
    "\n",
    "print(x*4)"
   ]
  },
  {
   "cell_type": "code",
   "execution_count": 23,
   "metadata": {},
   "outputs": [],
   "source": [
    "# Write a summary of what you found. For which data types is this operation valid? Which aren't?\n",
    "#\n",
    "#\n",
    "#\n",
    "#All types are valid for integer multiplication, except the dictionary \n",
    "#\n",
    "#\n",
    "#\n",
    "#\n",
    "#\n"
   ]
  },
  {
   "cell_type": "code",
   "execution_count": 24,
   "metadata": {
    "scrolled": true
   },
   "outputs": [
    {
     "name": "stdout",
     "output_type": "stream",
     "text": [
      "1.575\n"
     ]
    }
   ],
   "source": [
    "''' Division '''\n",
    "\n",
    "x = 9\n",
    "\n",
    "x = 6.3\n",
    "\n",
    "#x = 'Division'\n",
    "\n",
    "#x = [5,7,3]\n",
    "\n",
    "#x = (5,7,3)\n",
    "\n",
    "#x = {4:3,6:2,8:6}\n",
    "\n",
    "\n",
    "\n",
    "print(x/4)"
   ]
  },
  {
   "cell_type": "markdown",
   "metadata": {},
   "source": [
    "**Write a summary of what you found. For which data types is this operation valid? Which aren't?**\n",
    "\n",
    " For division integers and floats are both valid. for 9/4 or any non-integer answer python will automatically convert to a float (float division)\n",
    "\n",
    "\n"
   ]
  },
  {
   "cell_type": "code",
   "execution_count": 25,
   "metadata": {},
   "outputs": [
    {
     "name": "stdout",
     "output_type": "stream",
     "text": [
      "6.041666666666667\n",
      "1.5\n"
     ]
    }
   ],
   "source": [
    "''' Floor Division '''\n",
    "# This operation only works with numbers. Some languages, like C, will treat integers differently when they are divided.\n",
    "# The default type of division is 'integer division' (or 'floor division'). Python however, will always perform floating\n",
    "# point division by default, unless the // operator is used. Change the operators to see Python handles division for\n",
    "# integers and floats.\n",
    "\n",
    "\n",
    "x = 72.5\n",
    "y = 12\n",
    "\n",
    "print(x/y)\n",
    "\n",
    "\n",
    "a = 6\n",
    "b = 4\n",
    "\n",
    "print(a/b)"
   ]
  },
  {
   "cell_type": "markdown",
   "metadata": {},
   "source": [
    "**Write a summary of what you found. For which data types is this operation valid? Which aren't?**\n",
    "for floor division \"//\" flaots and ints are both valid. Floor division will round down to the integer value from whatever the float division answer is.\n"
   ]
  },
  {
   "cell_type": "code",
   "execution_count": 26,
   "metadata": {},
   "outputs": [
    {
     "name": "stdout",
     "output_type": "stream",
     "text": [
      "3.5\n",
      "5.25\n"
     ]
    }
   ],
   "source": [
    "''' Modulo '''\n",
    "# Again, modulo only works with numbers. This cell uses the same numbers as the previous.\n",
    "# Find the difference between the // and % operators. Is there any similarity between the two?\n",
    "\n",
    "x = 3.5\n",
    "y = 4\n",
    "\n",
    "print(x%y)\n",
    "\n",
    "\n",
    "a = 21\n",
    "b = 4\n",
    "\n",
    "print(a/b)"
   ]
  },
  {
   "cell_type": "markdown",
   "metadata": {},
   "source": [
    "**Write a summary of what you found. For which data types is this operation valid? Which aren't?**\n",
    "Modulo will return the remainder from division, similarly floor division is the whole number from division.\n",
    "\n",
    "take a = 21, b = 4. the floor returns 5, the modulo 1. 21/4 is 5 remainder 1. or 5.25"
   ]
  },
  {
   "cell_type": "markdown",
   "metadata": {
    "editable": false
   },
   "source": [
    "# Exercise 6: Assignment and Equality Operators"
   ]
  },
  {
   "cell_type": "markdown",
   "metadata": {},
   "source": [
    "* Python uses two operators which are very similar, but have very different meanings. \n",
    "* These are the '=' and '==' operators, or the assignment and equality operators respectively.\n",
    "\n",
    "*The assignment operator should only be used when setting a variable equal to a value. This must be done from left to right, unlike mathematics. For example, writing 'x = 4' will set the variable equal to four. But writing '4 = x' (right to left assignment) is not valid and will return an error.\n",
    "\n",
    "*The equality operator checks whether two values are the same. The values can be stored in variables, or just be the plain value. For example, you can type 'x == 4' and 'x == y', both of these are valid.\n",
    "\n",
    "**In the cell below, check if you can use right to left comparison of variables, that is, you can write the value first, then the variable.**"
   ]
  },
  {
   "cell_type": "code",
   "execution_count": 27,
   "metadata": {},
   "outputs": [
    {
     "name": "stdout",
     "output_type": "stream",
     "text": [
      "Right to left comparison is valid\n"
     ]
    }
   ],
   "source": [
    "x = 4\n",
    "if 4==x:\n",
    "    print(\"Right to left comparison is valid\")\n",
    "else:\n",
    "    print(\"Right to left comparison is invalid\")"
   ]
  },
  {
   "cell_type": "markdown",
   "metadata": {
    "editable": false
   },
   "source": [
    "# Exercise 7: Casting\n"
   ]
  },
  {
   "cell_type": "markdown",
   "metadata": {},
   "source": [
    "* Sometimes when a variable is defined it is of one type, but later in the program the type needs to change, either for an operation to work or to make a comparison etc. \n",
    "* Converting a data type from one to another is called 'casting'.\n",
    "* To convert to a float, integer or string, use the functions float(), int() and str() respectively. \n",
    "* The argument for this function is simply the object you want to cast.\n",
    "\n",
    "**Using the three casting functions listed above, change the data types of the variables in the programs below to remove the type errors.**"
   ]
  },
  {
   "cell_type": "code",
   "execution_count": 28,
   "metadata": {},
   "outputs": [
    {
     "name": "stdout",
     "output_type": "stream",
     "text": [
      "BSKDAM1005\n"
     ]
    }
   ],
   "source": [
    "part_number = 1005\n",
    "part_name = 'BSKDAM'\n",
    "\n",
    "\n",
    "product_code = part_name + str(part_number)\n",
    "\n",
    "print(product_code)"
   ]
  },
  {
   "cell_type": "code",
   "execution_count": 29,
   "metadata": {},
   "outputs": [
    {
     "name": "stdout",
     "output_type": "stream",
     "text": [
      "0.21552299999999747\n"
     ]
    }
   ],
   "source": [
    "decimal_number = '45.215523'\n",
    "\n",
    "remainder = float(decimal_number)%1\n",
    "\n",
    "print(remainder)"
   ]
  },
  {
   "cell_type": "code",
   "execution_count": 30,
   "metadata": {},
   "outputs": [
    {
     "name": "stdout",
     "output_type": "stream",
     "text": [
      "You can make an account\n"
     ]
    }
   ],
   "source": [
    "user_age = '24'\n",
    "\n",
    "if int(user_age) >= 11:\n",
    "    print(\"You can make an account\")\n",
    "else:\n",
    "    print(\"You cannot make an account\")"
   ]
  },
  {
   "cell_type": "markdown",
   "metadata": {
    "editable": false
   },
   "source": [
    "# Exercise 8: User Input"
   ]
  },
  {
   "cell_type": "markdown",
   "metadata": {},
   "source": [
    "* Values can be assigned to variables by obtaining input from a user, for example through using a keyboard. \n",
    "* Python uses the function 'input()' where the argument is text to be displayed on screen, e.g \"Enter Value: \". All data stored using the input() command is stored as a string. \n",
    "* In order to use input for calculations, if the user inputs a number, the data must be cast.\n",
    "\n",
    "**Find and fix the errors in the program below. In the remaining cell, write a program which takes in a number from the user, and prints the value of the number squared.**"
   ]
  },
  {
   "cell_type": "code",
   "execution_count": 36,
   "metadata": {},
   "outputs": [
    {
     "name": "stdout",
     "output_type": "stream",
     "text": [
      "How many stars would you like? : 5\n",
      "*****\n"
     ]
    }
   ],
   "source": [
    "num_of_stars = input(\"How many stars would you like? : \") #get number of stars from user\n",
    "star_string = '' #initialise variable star string\n",
    "\n",
    "for x in range(int(num_of_stars)): #for every star\n",
    "    star_string += '*' #add a star to the star string\n",
    "    \n",
    "print(star_string) #output the star string to the user"
   ]
  },
  {
   "cell_type": "markdown",
   "metadata": {
    "editable": false
   },
   "source": [
    "**Write a program which asks the user to enter a number, then prints out the value of the number squared:**"
   ]
  },
  {
   "cell_type": "code",
   "execution_count": 38,
   "metadata": {},
   "outputs": [
    {
     "name": "stdout",
     "output_type": "stream",
     "text": [
      "Enter a number 69.420\n",
      "4819.1364\n"
     ]
    }
   ],
   "source": [
    "# your program here\n",
    "\n",
    "x = input(\"Enter a number \")\n",
    "print(float(x)**2)\n",
    "\n",
    "\n",
    "\n",
    "\n"
   ]
  },
  {
   "cell_type": "markdown",
   "metadata": {},
   "source": [
    "# End of Lab\n",
    "\n",
    "\n",
    "This is the end of your introduction to Variables, Keywords and Data Types. \n",
    "\n",
    "Please note this is not a complete reference but is designed to introduce you to concepts and common misconceptions of the python language, and hopefully some good practice such as variable naming and exhaustive commenting of your code...\n",
    "\n",
    "Please consult the online reference materials to find out more (Canvas has links).\n",
    "\n",
    "Jupyter notebooks are not just for coding; you can write notes like these in markup language. \n",
    "\n",
    "So note in the next cell what what you learned/found difficult or easy in the space below.\n"
   ]
  },
  {
   "cell_type": "markdown",
   "metadata": {},
   "source": [
    "**please reflect on your learning below**\n",
    "\n",
    "### I rate this lab (out of 5): 5\n",
    "\n",
    "### What I find easy:\n",
    "All of the above\n",
    "\n"
   ]
  },
  {
   "cell_type": "markdown",
   "metadata": {},
   "source": [
    "# Next steps\n",
    "\n",
    "* **Upload this completed .pynb notebook to canvas**\n",
    "* **Progress to the next lab**\n"
   ]
  },
  {
   "cell_type": "markdown",
   "metadata": {},
   "source": [
    "# Python for Engineers\n",
    "(c) 2018, 2019, 2020 Dr Neil Cooke, School of Engineering, Collaborative Teaching Laboratory, University of Birmingham"
   ]
  },
  {
   "cell_type": "code",
   "execution_count": null,
   "metadata": {},
   "outputs": [],
   "source": []
  }
 ],
 "metadata": {
  "kernelspec": {
   "display_name": "Python 3",
   "language": "python",
   "name": "python3"
  },
  "language_info": {
   "codemirror_mode": {
    "name": "ipython",
    "version": 3
   },
   "file_extension": ".py",
   "mimetype": "text/x-python",
   "name": "python",
   "nbconvert_exporter": "python",
   "pygments_lexer": "ipython3",
   "version": "3.8.3"
  }
 },
 "nbformat": 4,
 "nbformat_minor": 1
}
