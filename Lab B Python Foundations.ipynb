{
 "cells": [
  {
   "cell_type": "markdown",
   "metadata": {},
   "source": [
    "### Name: Lewis Vitta\n",
    "### Username: LXV842\n",
    "### ID number: 2047942\n",
    "**please edit the above with your details to personlise this notebook**"
   ]
  },
  {
   "cell_type": "markdown",
   "metadata": {},
   "source": [
    "# Laboratory B: Python Foundations - Dictionaries, Tuples and Classes\n"
   ]
  },
  {
   "cell_type": "markdown",
   "metadata": {},
   "source": [
    "# Python for Engineers\n",
    "(c) 2018,2020,2020(v3) Dr Neil Cooke, School of Engineering, Collaborative Teaching Laboratory, University of Birmingham"
   ]
  },
  {
   "cell_type": "markdown",
   "metadata": {},
   "source": [
    "# Introduction\n",
    "\n",
    "This is foundation work. It consists of 3 sections that should take approximately 30-60 minutes to complete.\n",
    "\n",
    "It introduced basic programming concepts of Dictionarys, Tuples and Classes.\n",
    "\n",
    "Prior to this lab you should have\n",
    "* Completed previous labs\n",
    "* Viewed the python videos\n",
    "* Reviewed the online support materials for Python provided on Canvas\n",
    "* Installed python on your personal computer and/or be familiar with its use.\n",
    "* Be familiar with other procedural programming languages i.e. C.\n"
   ]
  },
  {
   "cell_type": "markdown",
   "metadata": {},
   "source": [
    "## Learning Outcomes\n",
    "\n",
    "This is a gentle introduction to the Python language and its syntax assuming that you have previous programming knowledge. I cover the following:\n",
    "\n",
    "> What dictionaries are and how to define them\n",
    "\n",
    "> How to index a dictionary\n",
    "\n",
    "> Which data types can be used as keys and which ones are illegal\n",
    "\n",
    "> Which methods can be used on dictionaries\n",
    "\n",
    "> What a tuple is an how to define one\n",
    "\n",
    "> How to index a tuple\n",
    "\n",
    "> What tuple packing and unpacking are\n",
    "\n",
    "> When and how to use tuple assignment\n",
    "\n",
    "> How to gather arguments using the ```*``` operator\n",
    "\n",
    "> How to scatter a tuple\n",
    "\n",
    "> What classes are and how to use them\n",
    "\n",
    "\n",
    "**tasks you are required to do are highlighted in bold throughout this notebook**\n"
   ]
  },
  {
   "cell_type": "markdown",
   "metadata": {},
   "source": [
    "## Tools to complete this lab\n",
    "\n",
    "* Use this Jupyter notebook and complete/save your work in it. This requires a computing platform capable of running Python 3.x and Jupyter notebook (Anaconda distribution preferred). NOTE: pressing CTRL+Z on a highlighted cell will return it to its previous state. Use this to undo any changes you have made if you get lost and want to start again.\n",
    "\n",
    "* If for whatever reason you do not or cannot use Jupyter notebooks, then use the PDF document of this as a 'lab sheet' and type / copy the python code into a py file in the order presented in the sheet, using the IDLE python editor and suitable comments between sections e.g. #Exercise 1. This will require a computing platform with Python 3.x installed. (not recommended)"
   ]
  },
  {
   "cell_type": "markdown",
   "metadata": {},
   "source": [
    "# Exercise 1: Define a Dictionary\n",
    "\n",
    "A dictionary is similar to a list, but more general. A dictionary contains a collection of keys and a collection of values. Each key is associated with a single value. This association is refered to as a key-value pair, or an item.\n",
    "\n",
    "A dictionary is indexed by its key. So to find a certain value of a dictionary, you would have to index the dictionary with the key as the argument."
   ]
  },
  {
   "cell_type": "markdown",
   "metadata": {},
   "source": [
    "There are several ways to create a dictionary in Python. \n",
    "One way is to use the built-in ```dict()``` function. The ```{}``` brackets represent an empty dictionary.\n",
    "\n",
    "**Run the cell below to create an empty dictionary.**"
   ]
  },
  {
   "cell_type": "code",
   "execution_count": 6,
   "metadata": {},
   "outputs": [
    {
     "data": {
      "text/plain": [
       "{}"
      ]
     },
     "execution_count": 6,
     "metadata": {},
     "output_type": "execute_result"
    }
   ],
   "source": [
    "students = dict() #create an empty dictionary to record students\n",
    "students"
   ]
  },
  {
   "cell_type": "markdown",
   "metadata": {},
   "source": [
    "The ```{}``` brackets represent an empty dictionary."
   ]
  },
  {
   "cell_type": "markdown",
   "metadata": {},
   "source": [
    "# Exercise 2: Add Items to a Dictionary"
   ]
  },
  {
   "cell_type": "markdown",
   "metadata": {
    "editable": false
   },
   "source": [
    "Adding items to a dictionary is similar to reassigning values of a list. To add an item, use square brackets with the key inside the brackets and then assign your corresponding value:"
   ]
  },
  {
   "cell_type": "code",
   "execution_count": 7,
   "metadata": {
    "editable": false
   },
   "outputs": [
    {
     "data": {
      "text/plain": [
       "{'John Smith': 'jxs101'}"
      ]
     },
     "execution_count": 7,
     "metadata": {},
     "output_type": "execute_result"
    }
   ],
   "source": [
    "students['John Smith'] = 'jxs101'\n",
    "students"
   ]
  },
  {
   "cell_type": "markdown",
   "metadata": {},
   "source": [
    "**Create a dictionary called 'eng_2_ger'. Add a key called 'one' with a value called 'eins'.**"
   ]
  },
  {
   "cell_type": "code",
   "execution_count": 11,
   "metadata": {},
   "outputs": [
    {
     "data": {
      "text/plain": [
       "{'one': 'eins'}"
      ]
     },
     "execution_count": 11,
     "metadata": {},
     "output_type": "execute_result"
    }
   ],
   "source": [
    "#Create dictionary\n",
    "eng_2_ger = dict()\n",
    "eng_2_ger['one'] = 'eins'\n",
    "eng_2_ger"
   ]
  },
  {
   "cell_type": "markdown",
   "metadata": {},
   "source": [
    "# Exercise 3: Use Curly Brace Notation"
   ]
  },
  {
   "cell_type": "markdown",
   "metadata": {},
   "source": [
    "You can also create a dictionary with elements already in it using the ```{}``` brackets:"
   ]
  },
  {
   "cell_type": "code",
   "execution_count": 1,
   "metadata": {
    "editable": false
   },
   "outputs": [
    {
     "data": {
      "text/plain": [
       "{'John Smith': 'jxs101',\n",
       " 'George St-Pierre': 'gsp103',\n",
       " 'Lucy Elizabeth Graham': 'leg102'}"
      ]
     },
     "execution_count": 1,
     "metadata": {},
     "output_type": "execute_result"
    }
   ],
   "source": [
    "students = {'John Smith': 'jxs101', 'George St-Pierre': 'gsp103', 'Lucy Elizabeth Graham': 'leg102'}\n",
    "students"
   ]
  },
  {
   "cell_type": "markdown",
   "metadata": {},
   "source": [
    "**Create a dictionary which stores the denary numbers 1 to 5 as keys, with their binary equivalents as values.**"
   ]
  },
  {
   "cell_type": "code",
   "execution_count": 7,
   "metadata": {},
   "outputs": [
    {
     "data": {
      "text/plain": [
       "{'1': '0001', '2': '0010', '3': '0011', '4': '0100', '5': '0101'}"
      ]
     },
     "execution_count": 7,
     "metadata": {},
     "output_type": "execute_result"
    }
   ],
   "source": [
    "#Create dictionary\n",
    "\n",
    "Numbers = {'1': '0001', '2': '0010', '3': '0011', '4': '0100', '5': '0101'}\n",
    "Numbers\n"
   ]
  },
  {
   "cell_type": "markdown",
   "metadata": {},
   "source": [
    "# Exercise 4: Index a Dictionary"
   ]
  },
  {
   "cell_type": "markdown",
   "metadata": {
    "editable": false
   },
   "source": [
    "Notice that a dictionary is not ordered. This should not be a problem since dictionaries are indexed by keys instead of integers. Note that indexing a dictionary like this:"
   ]
  },
  {
   "cell_type": "code",
   "execution_count": 5,
   "metadata": {
    "editable": false
   },
   "outputs": [
    {
     "ename": "KeyError",
     "evalue": "0",
     "output_type": "error",
     "traceback": [
      "\u001b[0;31m---------------------------------------------------------------------------\u001b[0m",
      "\u001b[0;31mKeyError\u001b[0m                                  Traceback (most recent call last)",
      "\u001b[0;32m<ipython-input-5-78d24d99529b>\u001b[0m in \u001b[0;36m<module>\u001b[0;34m\u001b[0m\n\u001b[0;32m----> 1\u001b[0;31m \u001b[0mstudents\u001b[0m\u001b[0;34m[\u001b[0m\u001b[0;36m0\u001b[0m\u001b[0;34m]\u001b[0m\u001b[0;34m\u001b[0m\u001b[0;34m\u001b[0m\u001b[0m\n\u001b[0m",
      "\u001b[0;31mKeyError\u001b[0m: 0"
     ]
    }
   ],
   "source": [
    "students[0]"
   ]
  },
  {
   "cell_type": "markdown",
   "metadata": {
    "editable": false
   },
   "source": [
    "is incorrect and will return an error. Dictionaries have to be indexed by a key, only if the integer is a key will this work. Like this:"
   ]
  },
  {
   "cell_type": "code",
   "execution_count": 6,
   "metadata": {
    "editable": false
   },
   "outputs": [
    {
     "name": "stdout",
     "output_type": "stream",
     "text": [
      "jxs101\n"
     ]
    }
   ],
   "source": [
    "print(students['John Smith'])"
   ]
  },
  {
   "cell_type": "markdown",
   "metadata": {},
   "source": [
    "**Create a dictionary called 'numbers' with keys which are the numbers 1 to 10 and values which are the squares of the keys. Write a for loop which prints the square numbers for every even number from 1 to 10.**"
   ]
  },
  {
   "cell_type": "code",
   "execution_count": 22,
   "metadata": {},
   "outputs": [
    {
     "name": "stdout",
     "output_type": "stream",
     "text": [
      "4\n",
      "16\n",
      "36\n",
      "64\n",
      "100\n"
     ]
    }
   ],
   "source": [
    "#Create dictionary\n",
    "Numbers = {'1': '1', '2': '4', '3': '9', '4': '16', '5': '25', '6': '36', '7': '49', '8': '64', '9': '81', '10': '100'}\n",
    "#for loop\n",
    "for x in Numbers:\n",
    "    if int(x)%2 == 0:\n",
    "        #print statement\n",
    "        print(Numbers[x])\n"
   ]
  },
  {
   "cell_type": "markdown",
   "metadata": {},
   "source": [
    "# Exercise 5: Datatypes in Dictionaries"
   ]
  },
  {
   "cell_type": "markdown",
   "metadata": {
    "editable": false
   },
   "source": [
    "A dictionary can also have multiple datatypes as its values"
   ]
  },
  {
   "cell_type": "code",
   "execution_count": 21,
   "metadata": {
    "editable": false
   },
   "outputs": [
    {
     "data": {
      "text/plain": [
       "{'Name': 'John Smith',\n",
       " 'Age': 19,\n",
       " 'Course': 'Electrical and Electronic Engineering',\n",
       " 'Marks': {'Electrical Engineering 1': 71, 'IDP': 65}}"
      ]
     },
     "execution_count": 21,
     "metadata": {},
     "output_type": "execute_result"
    }
   ],
   "source": [
    "jxs101 = {'Name': 'John Smith', 'Age': 19, 'Course': 'Electrical and Electronic Engineering', 'Marks': {'Electrical Engineering 1': 71, 'IDP': 65}}\n",
    "jxs101"
   ]
  },
  {
   "cell_type": "markdown",
   "metadata": {},
   "source": [
    "**A hospital is using dicitonaries to keep records for patient information. Write a dictionary which stores the name, age, height and weight of a patient. Print the age height and weight of the patient.**"
   ]
  },
  {
   "cell_type": "code",
   "execution_count": 37,
   "metadata": {},
   "outputs": [
    {
     "name": "stdout",
     "output_type": "stream",
     "text": [
      "12 205.74 420\n"
     ]
    }
   ],
   "source": [
    "#Create dictionary\n",
    "patient0 = {'Name': 'John Smith', 'Age': 12, 'Height': 205.74, 'Weight': 420}\n",
    "\n",
    "\n",
    "#print statement\n",
    "print(patient0['Age'], patient0['Height'], patient0['Weight'])"
   ]
  },
  {
   "cell_type": "markdown",
   "metadata": {},
   "source": [
    "# Exercise 6: The len() and value() functions"
   ]
  },
  {
   "cell_type": "markdown",
   "metadata": {},
   "source": [
    "You can also check the length of a dictionary or check if a key or value exists in a dictionary. The ```values()``` method can be used to return all the values in a dictionary. \n",
    "\n",
    "**Run the cell below and see what each function returns:**"
   ]
  },
  {
   "cell_type": "code",
   "execution_count": 38,
   "metadata": {
    "editable": false
   },
   "outputs": [
    {
     "name": "stdout",
     "output_type": "stream",
     "text": [
      "3\n",
      "True\n",
      "True\n"
     ]
    }
   ],
   "source": [
    "print(len(students))\n",
    "print('Lucy Elizabeth Graham' in students)\n",
    "print('gsp103' in students.values())"
   ]
  },
  {
   "cell_type": "markdown",
   "metadata": {
    "editable": false
   },
   "source": [
    "The ```len()``` function returns the number of key-value pairs (or 'items'), so this always returns an integers. The ```in``` operator here will return a Boolean value: true or false. If the key/value is in the dictionary, then the operation will return True. To check a key, simply write the key in ' ' marks followed by ```in```. To check a value, make sure to use the ```values()``` dot operation."
   ]
  },
  {
   "cell_type": "markdown",
   "metadata": {},
   "source": [
    "**Using the dictionary you created earlier, print the length and check if two keys and two values are in the dictionary. Pick the keys and values such that one of each will return true and the others will return false.**"
   ]
  },
  {
   "cell_type": "code",
   "execution_count": 58,
   "metadata": {},
   "outputs": [
    {
     "name": "stdout",
     "output_type": "stream",
     "text": [
      "4\n",
      "False\n",
      "True\n",
      "False\n",
      "True\n"
     ]
    }
   ],
   "source": [
    "#print length\n",
    "print(len(patient0))\n",
    "\n",
    "#check keys\n",
    "print(420 in patient0)\n",
    "print('Name' in patient0)\n",
    "\n",
    "#check values\n",
    "print('Name' in patient0.values())\n",
    "print(12 in patient0.values())"
   ]
  },
  {
   "cell_type": "markdown",
   "metadata": {},
   "source": [
    "# Exercise 7: Illegal Keys"
   ]
  },
  {
   "cell_type": "markdown",
   "metadata": {},
   "source": [
    "Not all datatypes can be used as keys. \n",
    "\n",
    "**Run the cell below to see if lists can be used as keys:**"
   ]
  },
  {
   "cell_type": "code",
   "execution_count": 59,
   "metadata": {
    "editable": false
   },
   "outputs": [
    {
     "ename": "TypeError",
     "evalue": "unhashable type: 'list'",
     "output_type": "error",
     "traceback": [
      "\u001b[0;31m---------------------------------------------------------------------------\u001b[0m",
      "\u001b[0;31mTypeError\u001b[0m                                 Traceback (most recent call last)",
      "\u001b[0;32m<ipython-input-59-1a8c7d1a6897>\u001b[0m in \u001b[0;36m<module>\u001b[0;34m\u001b[0m\n\u001b[0;32m----> 1\u001b[0;31m \u001b[0mdictionary\u001b[0m \u001b[0;34m=\u001b[0m \u001b[0;34m{\u001b[0m\u001b[0;34m[\u001b[0m\u001b[0;36m1\u001b[0m\u001b[0;34m,\u001b[0m\u001b[0;36m2\u001b[0m\u001b[0;34m,\u001b[0m\u001b[0;36m3\u001b[0m\u001b[0;34m,\u001b[0m\u001b[0;36m4\u001b[0m\u001b[0;34m,\u001b[0m\u001b[0;36m5\u001b[0m\u001b[0;34m]\u001b[0m\u001b[0;34m:\u001b[0m \u001b[0;34m'Dictionary'\u001b[0m\u001b[0;34m}\u001b[0m\u001b[0;34m\u001b[0m\u001b[0;34m\u001b[0m\u001b[0m\n\u001b[0m",
      "\u001b[0;31mTypeError\u001b[0m: unhashable type: 'list'"
     ]
    }
   ],
   "source": [
    "dictionary = {[1,2,3,4,5]: 'Dictionary'}"
   ]
  },
  {
   "cell_type": "markdown",
   "metadata": {
    "editable": false
   },
   "source": [
    "You should have found that this returned an error. In Python, dictionaries work through the use of hashtables. This means that using the ```in``` operator takes the same amount of time regardless of the number of items in the dictionary.  \n",
    "But this also does mean that keys in a dictionary must be immutable. So lists cannot be used as keys in a dictionary. "
   ]
  },
  {
   "cell_type": "markdown",
   "metadata": {},
   "source": [
    "# Exercise 8: Write a Function with Dictionaries\n",
    "**Write a function that takes a string and returns a dictionary in which the keys are the letters in the string and the values are the number of times the letter appears in the string.**"
   ]
  },
  {
   "cell_type": "code",
   "execution_count": 87,
   "metadata": {},
   "outputs": [
    {
     "name": "stdout",
     "output_type": "stream",
     "text": [
      "{'4': 7, '3': 9, '2': 3, 'r': 2, '5': 3, '6': 1, 'd': 1, '7': 2, 'h': 1, 'e': 1, 'g': 3, 'u': 1, 'n': 1, '8': 4, '9': 6, 't': 6, 'y': 4, '0': 4, 'b': 2, 'v': 5, 'm': 3, '[': 1, 'j': 3, ',': 1}\n"
     ]
    }
   ],
   "source": [
    "def string_dict(a):\n",
    "    #Create a dictionary \n",
    "    letter_count = dict()\n",
    "    #for each charcater, b, in string a\n",
    "    for b in a: \n",
    "        #if the letter is the dictonary add 1 to it's value, else enter it into the dictionary with value 1\n",
    "        if b in letter_count:\n",
    "            letter_count[b] += 1\n",
    "        \n",
    "        else:\n",
    "            letter_count[b] = 1\n",
    "    print(letter_count)\n",
    "#Call Function \n",
    "string_dict('432r56d7rhegug34n789gty3528yt03b409ty354vm9[43vt09j,23m4tjv08943ymj89v3vbt')    "
   ]
  },
  {
   "cell_type": "code",
   "execution_count": 84,
   "metadata": {},
   "outputs": [],
   "source": [
    "def string_dict_answer(a):\n",
    "    dictionary = dict()\n",
    "    for c in a:\n",
    "        if c not in dictionary:\n",
    "            dictionary[c] = 1\n",
    "        else:\n",
    "            dictionary[c] += 1\n",
    "    return dictionary"
   ]
  },
  {
   "cell_type": "markdown",
   "metadata": {},
   "source": [
    "# Exercise 9: Defining Tuples\n",
    "\n",
    "A tuple is an immutable datatype, similar to a list. It is a sequence of values that is indexed by integers. The value can be of any type.  \n",
    "A tuple can be created in many different ways:"
   ]
  },
  {
   "cell_type": "code",
   "execution_count": 88,
   "metadata": {
    "editable": false
   },
   "outputs": [],
   "source": [
    "t = tuple() # Returns empty tuple\n",
    "t = tuple('abcde')\n",
    "t = 'a','b','c','d','e'\n",
    "t = ('a','b','c','d','e')"
   ]
  },
  {
   "cell_type": "markdown",
   "metadata": {},
   "source": [
    "Most list operators such as using ```[]``` to index and slicing work on tuples. **Run the cell below to see what each of the functions do:**"
   ]
  },
  {
   "cell_type": "code",
   "execution_count": 89,
   "metadata": {
    "editable": false
   },
   "outputs": [
    {
     "name": "stdout",
     "output_type": "stream",
     "text": [
      "1\n",
      "(2, 3)\n",
      "()\n",
      "(1, 3, 5)\n",
      "(5, 4, 3, 2, 1)\n"
     ]
    }
   ],
   "source": [
    "t = (1,2,3,4,5)\n",
    "print(t[0])\n",
    "print(t[1:3])\n",
    "print(t[3:1])\n",
    "print(t[::2])\n",
    "print(t[::-1])"
   ]
  },
  {
   "cell_type": "markdown",
   "metadata": {
    "editable": false
   },
   "source": [
    "Tuple elements an be accessed the same way as lists. Tuples are ordered, and so can be indexed using integers to represent a elements place in the list. Note how this is different to dictionaries. Here are some ways to index a tuple/list/strings:\n",
    "\n",
    "> Using ```t[n]``` will return the nth element in the tuple. \n",
    "\n",
    "> Using ```t[n:m]``` (where m > n) will return a tuple containing the elements from n to m-1 (NOT m)\n",
    "\n",
    "> Using ```t[n:m]``` (where m < n) will return an empty tuple\n",
    "\n",
    "> If no n is given, n will be assumed to be zero\n",
    "\n",
    "> Using ```t[n::m]``` will return a tuple starting containing the elements starting at n and increasing with step size m\n",
    "\n",
    "> You can use negative values for the step size which will move backwards\n",
    "\n",
    "> If no n is given for a negative step size, then n is assumed to be the final element of the list"
   ]
  },
  {
   "cell_type": "markdown",
   "metadata": {},
   "source": [
    "**Create a tuple containing the square numbers of 1 to 10. Write code to:**\n",
    "\n",
    "**- print the elements backwards**\n",
    "**- print every second element**\n",
    "**- print every third element backwards**\n",
    "**- print elements 3 to 7**"
   ]
  },
  {
   "cell_type": "code",
   "execution_count": 107,
   "metadata": {},
   "outputs": [
    {
     "name": "stdout",
     "output_type": "stream",
     "text": [
      "('100', '81', '64', '49', '36', '25', '16', '9', '4', '1')\n",
      "('1', '9', '25', '49', '81')\n",
      "('1',)\n",
      "('16', '25', '36', '49')\n"
     ]
    }
   ],
   "source": [
    "#Create tuple\n",
    "t = '1', '4', '9', '16', '25', '36', '49', '64', '81', '100'\n",
    "#print statement\n",
    "print(t[::-1])\n",
    "#print statement\n",
    "print(t[::2])\n",
    "#print statement\n",
    "print(t[::-3])\n",
    "#print statement\n",
    "print(t[3:7])"
   ]
  },
  {
   "cell_type": "markdown",
   "metadata": {},
   "source": [
    "# Exercise 10: Tuples are Immutable Datatypes"
   ]
  },
  {
   "cell_type": "markdown",
   "metadata": {
    "editable": false
   },
   "source": [
    "Unlike lists, you cannot modify a tuple as they are an immutable data type. (Immutable meaning unable to be changed)"
   ]
  },
  {
   "cell_type": "code",
   "execution_count": 68,
   "metadata": {
    "editable": false
   },
   "outputs": [
    {
     "ename": "NameError",
     "evalue": "name 't' is not defined",
     "output_type": "error",
     "traceback": [
      "\u001b[0;31m---------------------------------------------------------------------------\u001b[0m",
      "\u001b[0;31mNameError\u001b[0m                                 Traceback (most recent call last)",
      "\u001b[0;32m<ipython-input-68-28b8e5df48e8>\u001b[0m in \u001b[0;36m<module>\u001b[0;34m\u001b[0m\n\u001b[0;32m----> 1\u001b[0;31m \u001b[0mt\u001b[0m\u001b[0;34m[\u001b[0m\u001b[0;36m0\u001b[0m\u001b[0;34m]\u001b[0m \u001b[0;34m=\u001b[0m \u001b[0;36m6\u001b[0m\u001b[0;34m\u001b[0m\u001b[0;34m\u001b[0m\u001b[0m\n\u001b[0m",
      "\u001b[0;31mNameError\u001b[0m: name 't' is not defined"
     ]
    }
   ],
   "source": [
    "t[0] = 6"
   ]
  },
  {
   "cell_type": "markdown",
   "metadata": {
    "editable": false
   },
   "source": [
    "You can however replace tuples with other tuples, by creating a new tuple and referencing it using the variable name as the old tuple:"
   ]
  },
  {
   "cell_type": "code",
   "execution_count": null,
   "metadata": {
    "editable": false
   },
   "outputs": [],
   "source": [
    "t = (6,) + t[1:]\n",
    "t"
   ]
  },
  {
   "cell_type": "markdown",
   "metadata": {},
   "source": [
    "**Replace the tuple ```old``` with itself plus the last 4 elements of the tuple ```extra```. Store the data in a tuple called ```new```**"
   ]
  },
  {
   "cell_type": "code",
   "execution_count": 110,
   "metadata": {},
   "outputs": [
    {
     "name": "stdout",
     "output_type": "stream",
     "text": [
      "(1, 2, 3, 4, 5, 5, 4, 3, 2, 1)\n"
     ]
    }
   ],
   "source": [
    "old = (1,2,3,4,5)\n",
    "extra = (5,4,3,2,1)\n",
    "\n",
    "#define new tuple\n",
    "new = (old+extra)\n",
    "\n",
    "#print statement\n",
    "print(new)"
   ]
  },
  {
   "cell_type": "markdown",
   "metadata": {},
   "source": [
    "# Exercise 11: Tuple Packing"
   ]
  },
  {
   "cell_type": "markdown",
   "metadata": {},
   "source": [
    "Tuple assignment in Python allows us to assign tuples to tuple in a general context, e.g. \n",
    "```(name,age,course) = john_smith```  \n",
    "Tuple assignment can be broken down into tuple packing and tuple unpacking. In tuple packing, the values on the left of the assignment are packed together in a tuple.\n",
    "\n",
    "**Run the cell below to create the tuple.**"
   ]
  },
  {
   "cell_type": "code",
   "execution_count": 111,
   "metadata": {
    "editable": false
   },
   "outputs": [
    {
     "data": {
      "text/plain": [
       "('John Smith', 19, 'Electrical and Electronic Engineering')"
      ]
     },
     "execution_count": 111,
     "metadata": {},
     "output_type": "execute_result"
    }
   ],
   "source": [
    "john_smith = ('John Smith',19,'Electrical and Electronic Engineering')\n",
    "john_smith"
   ]
  },
  {
   "cell_type": "markdown",
   "metadata": {},
   "source": [
    "**Using tuple packing, create a tuple to store your name, age and degree title.**"
   ]
  },
  {
   "cell_type": "code",
   "execution_count": 113,
   "metadata": {},
   "outputs": [
    {
     "data": {
      "text/plain": [
       "('Lewis Vitta', 19, 'Electrical and Electronic Engineering')"
      ]
     },
     "execution_count": 113,
     "metadata": {},
     "output_type": "execute_result"
    }
   ],
   "source": [
    "#Create tuple\n",
    "lewis_vitta = ('Lewis Vitta', 19, 'Electrical and Electronic Engineering')\n",
    "lewis_vitta"
   ]
  },
  {
   "cell_type": "markdown",
   "metadata": {},
   "source": [
    "# Exercise 12: Tuple Unpacking"
   ]
  },
  {
   "cell_type": "markdown",
   "metadata": {
    "editable": false
   },
   "source": [
    "In tuple unpacking, the values of the tuple on the right of the assignment are unpacked into the variables on the left:"
   ]
  },
  {
   "cell_type": "code",
   "execution_count": 1,
   "metadata": {
    "editable": false
   },
   "outputs": [
    {
     "ename": "NameError",
     "evalue": "name 'john_smith' is not defined",
     "output_type": "error",
     "traceback": [
      "\u001b[0;31m---------------------------------------------------------------------------\u001b[0m",
      "\u001b[0;31mNameError\u001b[0m                                 Traceback (most recent call last)",
      "\u001b[0;32m<ipython-input-1-085e2641a855>\u001b[0m in \u001b[0;36m<module>\u001b[0;34m\u001b[0m\n\u001b[0;32m----> 1\u001b[0;31m \u001b[0mname\u001b[0m\u001b[0;34m,\u001b[0m\u001b[0mage\u001b[0m\u001b[0;34m,\u001b[0m\u001b[0mcourse\u001b[0m \u001b[0;34m=\u001b[0m \u001b[0mjohn_smith\u001b[0m\u001b[0;34m\u001b[0m\u001b[0;34m\u001b[0m\u001b[0m\n\u001b[0m\u001b[1;32m      2\u001b[0m \u001b[0mprint\u001b[0m\u001b[0;34m(\u001b[0m\u001b[0mname\u001b[0m\u001b[0;34m)\u001b[0m\u001b[0;34m\u001b[0m\u001b[0;34m\u001b[0m\u001b[0m\n\u001b[1;32m      3\u001b[0m \u001b[0mprint\u001b[0m\u001b[0;34m(\u001b[0m\u001b[0mage\u001b[0m\u001b[0;34m)\u001b[0m\u001b[0;34m\u001b[0m\u001b[0;34m\u001b[0m\u001b[0m\n\u001b[1;32m      4\u001b[0m \u001b[0mprint\u001b[0m\u001b[0;34m(\u001b[0m\u001b[0mcourse\u001b[0m\u001b[0;34m)\u001b[0m\u001b[0;34m\u001b[0m\u001b[0;34m\u001b[0m\u001b[0m\n",
      "\u001b[0;31mNameError\u001b[0m: name 'john_smith' is not defined"
     ]
    }
   ],
   "source": [
    "name,age,course = john_smith\n",
    "print(name)\n",
    "print(age)\n",
    "print(course)"
   ]
  },
  {
   "cell_type": "markdown",
   "metadata": {},
   "source": [
    "**Using your tuple from exercise 3, create and assign three variables called 'my_name' , 'my_age' and 'my_degree' using the values stored in the tuple.**"
   ]
  },
  {
   "cell_type": "code",
   "execution_count": 116,
   "metadata": {},
   "outputs": [
    {
     "name": "stdout",
     "output_type": "stream",
     "text": [
      "Lewis Vitta\n"
     ]
    }
   ],
   "source": [
    "my_name, my_age, my_degree = lewis_vitta\n",
    "print(my_age)"
   ]
  },
  {
   "cell_type": "markdown",
   "metadata": {},
   "source": [
    "# Exercise 13: Swapping Variables"
   ]
  },
  {
   "cell_type": "markdown",
   "metadata": {
    "editable": false
   },
   "source": [
    "Tuple assignment is also useful in swapping variables and removes the need of temporary variables in many problems. This operation must be completed in a single line for the variables to be swapped simultaneously. "
   ]
  },
  {
   "cell_type": "code",
   "execution_count": 118,
   "metadata": {
    "editable": false
   },
   "outputs": [
    {
     "name": "stdout",
     "output_type": "stream",
     "text": [
      "4 5\n"
     ]
    }
   ],
   "source": [
    "a = 5\n",
    "b = 4\n",
    "a,b = b,a\n",
    "print(a,b)"
   ]
  },
  {
   "cell_type": "markdown",
   "metadata": {
    "editable": false
   },
   "source": [
    "The number of variables on both sides of assignment must be the same for tuple assignment to work."
   ]
  },
  {
   "cell_type": "code",
   "execution_count": 117,
   "metadata": {
    "editable": false
   },
   "outputs": [
    {
     "ename": "ValueError",
     "evalue": "not enough values to unpack (expected 4, got 3)",
     "output_type": "error",
     "traceback": [
      "\u001b[0;31m---------------------------------------------------------------------------\u001b[0m",
      "\u001b[0;31mValueError\u001b[0m                                Traceback (most recent call last)",
      "\u001b[0;32m<ipython-input-117-65fd05daaa1f>\u001b[0m in \u001b[0;36m<module>\u001b[0;34m\u001b[0m\n\u001b[0;32m----> 1\u001b[0;31m \u001b[0ma\u001b[0m\u001b[0;34m,\u001b[0m\u001b[0mb\u001b[0m\u001b[0;34m,\u001b[0m\u001b[0mc\u001b[0m\u001b[0;34m,\u001b[0m\u001b[0md\u001b[0m \u001b[0;34m=\u001b[0m \u001b[0;36m1\u001b[0m\u001b[0;34m,\u001b[0m\u001b[0;36m2\u001b[0m\u001b[0;34m,\u001b[0m\u001b[0;36m3\u001b[0m\u001b[0;34m\u001b[0m\u001b[0;34m\u001b[0m\u001b[0m\n\u001b[0m",
      "\u001b[0;31mValueError\u001b[0m: not enough values to unpack (expected 4, got 3)"
     ]
    }
   ],
   "source": [
    "a,b,c,d = 1,2,3"
   ]
  },
  {
   "cell_type": "markdown",
   "metadata": {},
   "source": [
    "**In the cell below swap the variables 'name' , 'age' and 'course' with the new variables 'my_name' , 'my_age' and 'my_degree'**"
   ]
  },
  {
   "cell_type": "code",
   "execution_count": 128,
   "metadata": {},
   "outputs": [
    {
     "name": "stdout",
     "output_type": "stream",
     "text": [
      "Lewis Vitta 19 Electrical and Electronic Engineering John Smith 20 Metallurgy and Ageing\n"
     ]
    }
   ],
   "source": [
    "#create tuples\n",
    "john_smith = ('John Smith',20,'Metallurgy and Ageing')\n",
    "lewis_vitta = ('Lewis Vitta', 19, 'Electrical and Electronic Engineering')\n",
    "#tuple packing\n",
    "my_name, my_age, my_degree = lewis_vitta\n",
    "(name,age,course) = john_smith\n",
    "\n",
    "#Swap variables\n",
    "name, age, course, my_name, my_age, my_degree = my_name, my_age, my_degree, name, age, course\n",
    "print(name, age, course, my_name, my_age, my_degree)"
   ]
  },
  {
   "cell_type": "markdown",
   "metadata": {},
   "source": [
    "# Exercise 14: Tuple Assignment from Functions"
   ]
  },
  {
   "cell_type": "markdown",
   "metadata": {},
   "source": [
    "Sometimes in a function it is useful to return 2 values instead of 1, however a function can only return 1 value. This is solved by setting the return value in a function as a tuple of the elements that you wish to return."
   ]
  },
  {
   "cell_type": "code",
   "execution_count": 129,
   "metadata": {
    "editable": false
   },
   "outputs": [
    {
     "data": {
      "text/plain": [
       "('Barbara Windsor', 'Electrical and Electronic Engineering')"
      ]
     },
     "execution_count": 129,
     "metadata": {},
     "output_type": "execute_result"
    }
   ],
   "source": [
    "def name_course(student):\n",
    "    name = student['Name']\n",
    "    course = student['Course']\n",
    "    return name,course\n",
    "\n",
    "barbara_windsor = {'Name': 'Barbara Windsor', 'Age': 42, 'Course': 'Electrical and Electronic Engineering'}\n",
    "name_course(barbara_windsor)"
   ]
  },
  {
   "cell_type": "markdown",
   "metadata": {},
   "source": [
    "**Write a function which takes in the value radius and returns pi times the radius squared and 4/3 pi times radius cubed**"
   ]
  },
  {
   "cell_type": "code",
   "execution_count": 137,
   "metadata": {},
   "outputs": [
    {
     "data": {
      "text/plain": [
       "(0.04000000000000001, 0.03351032163829113)"
      ]
     },
     "execution_count": 137,
     "metadata": {},
     "output_type": "execute_result"
    }
   ],
   "source": [
    "import math\n",
    "\n",
    "def circle_and_sphere(r):\n",
    "    area_of_circle = r**2\n",
    "    vol_of_sphere = (4/3)*math.pi*r**3\n",
    "    \n",
    "    #return statement\n",
    "    return area_of_circle, vol_of_sphere\n",
    "    \n",
    "circle_and_sphere(0.2)"
   ]
  },
  {
   "cell_type": "markdown",
   "metadata": {},
   "source": [
    "# Exercise 15: The ```*``` Operator"
   ]
  },
  {
   "cell_type": "markdown",
   "metadata": {},
   "source": [
    "The ```*``` operator can be used to 'gather' function arguments into a tuple and 'scatter' tuple variables into separate arguments.  \n",
    "Gathering lets us create functions that can take an unspecified number of arguments. \n",
    "\n",
    "**Run the cell below and observe its output**"
   ]
  },
  {
   "cell_type": "code",
   "execution_count": 139,
   "metadata": {},
   "outputs": [
    {
     "name": "stdout",
     "output_type": "stream",
     "text": [
      "('my', 'name', 'is', 'charles', 'the', 'II')\n",
      "my\n",
      "name\n",
      "is\n",
      "charles\n",
      "the\n",
      "II\n"
     ]
    }
   ],
   "source": [
    "def print_multiple(*args):\n",
    "    print(args)\n",
    "    for arg in args:\n",
    "        print(arg)\n",
    "        \n",
    "print_multiple('my','name','is','charles', 'the', 'II')"
   ]
  },
  {
   "cell_type": "markdown",
   "metadata": {},
   "source": [
    "**Run the above cell again, but this time change the number of arguments in the function call. You should see that the function will work for any number of arguments.**"
   ]
  },
  {
   "cell_type": "markdown",
   "metadata": {},
   "source": [
    "# Exercise 16: Scattering a Tuple"
   ]
  },
  {
   "cell_type": "markdown",
   "metadata": {
    "editable": false
   },
   "source": [
    "Scattering lets us take sequences of values and pass it to a function as multiple arguments:"
   ]
  },
  {
   "cell_type": "code",
   "execution_count": 140,
   "metadata": {
    "editable": false,
    "scrolled": true
   },
   "outputs": [
    {
     "ename": "TypeError",
     "evalue": "set_name_course() missing 2 required positional arguments: 'name' and 'course'",
     "output_type": "error",
     "traceback": [
      "\u001b[0;31m---------------------------------------------------------------------------\u001b[0m",
      "\u001b[0;31mTypeError\u001b[0m                                 Traceback (most recent call last)",
      "\u001b[0;32m<ipython-input-140-8949fbada39a>\u001b[0m in \u001b[0;36m<module>\u001b[0;34m\u001b[0m\n\u001b[1;32m      4\u001b[0m \u001b[0;34m\u001b[0m\u001b[0m\n\u001b[1;32m      5\u001b[0m \u001b[0mrobert_ryan\u001b[0m \u001b[0;34m=\u001b[0m \u001b[0;34m{\u001b[0m\u001b[0;34m'Name'\u001b[0m\u001b[0;34m:\u001b[0m\u001b[0;34m'Robert Ryan'\u001b[0m\u001b[0;34m,\u001b[0m\u001b[0;34m'Age'\u001b[0m\u001b[0;34m:\u001b[0m\u001b[0;36m21\u001b[0m\u001b[0;34m,\u001b[0m\u001b[0;34m'Course'\u001b[0m\u001b[0;34m:\u001b[0m\u001b[0;34m'Electrical and Electronic Engineering'\u001b[0m\u001b[0;34m}\u001b[0m\u001b[0;34m\u001b[0m\u001b[0;34m\u001b[0m\u001b[0m\n\u001b[0;32m----> 6\u001b[0;31m \u001b[0mset_name_course\u001b[0m\u001b[0;34m(\u001b[0m\u001b[0mrobert_ryan\u001b[0m\u001b[0;34m)\u001b[0m\u001b[0;34m\u001b[0m\u001b[0;34m\u001b[0m\u001b[0m\n\u001b[0m",
      "\u001b[0;31mTypeError\u001b[0m: set_name_course() missing 2 required positional arguments: 'name' and 'course'"
     ]
    }
   ],
   "source": [
    "def set_name_course(student,name,course):\n",
    "    student['Name'] = name\n",
    "    student['Course'] = course\n",
    "\n",
    "robert_ryan = {'Name':'Robert Ryan','Age':21,'Course':'Electrical and Electronic Engineering'}\n",
    "set_name_course(robert_ryan)"
   ]
  },
  {
   "cell_type": "code",
   "execution_count": 141,
   "metadata": {
    "editable": false
   },
   "outputs": [
    {
     "name": "stdout",
     "output_type": "stream",
     "text": [
      "{'Name': 'Ryan Robert', 'Age': 21, 'Course': 'Civil Engineering'}\n"
     ]
    }
   ],
   "source": [
    "argument = (robert_ryan,'Ryan Robert','Civil Engineering')\n",
    "set_name_course(*argument)\n",
    "print(robert_ryan)"
   ]
  },
  {
   "cell_type": "markdown",
   "metadata": {},
   "source": [
    "**In the cell below, write a function call to scatter the elements of the tuple '**"
   ]
  },
  {
   "cell_type": "code",
   "execution_count": 146,
   "metadata": {},
   "outputs": [
    {
     "name": "stdout",
     "output_type": "stream",
     "text": [
      "({'Name': 'Robert Ryan', 'Age': 21, 'Course': 'Electrical and Electronic Engineering'}, 'Ryan Robert', 'Civil Engineering')\n"
     ]
    }
   ],
   "source": [
    "def scatr(*args):\n",
    "    for arg in args:\n",
    "        print(arg)\n",
    "    \n",
    "\n",
    "scatr(argument)"
   ]
  },
  {
   "cell_type": "markdown",
   "metadata": {
    "editable": false
   },
   "source": [
    "---"
   ]
  },
  {
   "cell_type": "markdown",
   "metadata": {},
   "source": [
    "# Exercise 17: Classes\n",
    "\n",
    "Note that section 3 is an advanced topic and introduces the concept of object orientation. You *do not* need this to complete lab 2. However, classes are a fundamental part of the python language so it is recommended that you complete this section.\n",
    "\n",
    "**run all code in the cells below as you follow the explanation**\n",
    "\n",
    "A class is a programmer-defined type and is the basis for object oriented programming. all programming you do in C is funtional/procedural. Languages like c++ , Java and Python ass the concept of object orientation. In essence, unlike a function, a class holds both function and data (this is called encapsulation). The class is a type and multiple instances of it may be created, each of which is called an object. This the term \"object-oriented programming\".\n",
    "\n",
    "Classes are defined like this:\n"
   ]
  },
  {
   "cell_type": "code",
   "execution_count": 147,
   "metadata": {
    "editable": false
   },
   "outputs": [],
   "source": [
    "class Student:\n",
    "    \"\"\"Represents a student at university\"\"\""
   ]
  },
  {
   "cell_type": "markdown",
   "metadata": {
    "editable": false
   },
   "source": [
    "By defining a class called ```Student``` we have now created a class object."
   ]
  },
  {
   "cell_type": "code",
   "execution_count": 148,
   "metadata": {
    "editable": false
   },
   "outputs": [
    {
     "data": {
      "text/plain": [
       "__main__.Student"
      ]
     },
     "execution_count": 148,
     "metadata": {},
     "output_type": "execute_result"
    }
   ],
   "source": [
    "Student"
   ]
  },
  {
   "cell_type": "markdown",
   "metadata": {
    "editable": false
   },
   "source": [
    "We can create objects which are instances of a class. Every object is an instance of some class."
   ]
  },
  {
   "cell_type": "code",
   "execution_count": 149,
   "metadata": {
    "editable": false
   },
   "outputs": [
    {
     "data": {
      "text/plain": [
       "__main__.Student"
      ]
     },
     "execution_count": 149,
     "metadata": {},
     "output_type": "execute_result"
    }
   ],
   "source": [
    "john_smith = Student\n",
    "john_smith"
   ]
  },
  {
   "cell_type": "markdown",
   "metadata": {
    "editable": false
   },
   "source": [
    "We can assign values to instances using dot notation. These values of the instance are called attributes."
   ]
  },
  {
   "cell_type": "code",
   "execution_count": 150,
   "metadata": {
    "editable": false
   },
   "outputs": [
    {
     "name": "stdout",
     "output_type": "stream",
     "text": [
      "John Smith , 19\n"
     ]
    }
   ],
   "source": [
    "john_smith.name = \"John Smith\"\n",
    "john_smith.age = 19\n",
    "\n",
    "print(john_smith.name,',',john_smith.age)"
   ]
  },
  {
   "cell_type": "markdown",
   "metadata": {},
   "source": [
    "Instances can also be passed as arguments like any other object. You can also use instances as return values.\n",
    "\n",
    "**carefully  run and study the code below to determine its function**"
   ]
  },
  {
   "cell_type": "code",
   "execution_count": 152,
   "metadata": {
    "editable": false
   },
   "outputs": [
    {
     "name": "stdout",
     "output_type": "stream",
     "text": [
      "19\n",
      "<__main__.Student object at 0x7f4ac4bd9760>\n"
     ]
    }
   ],
   "source": [
    "def age(student):\n",
    "    return student.age\n",
    "\n",
    "print(age(john_smith))\n",
    "\n",
    "def student_generator(name,age):\n",
    "    student = Student()\n",
    "    student.name = name\n",
    "    student.age = age\n",
    "    return student\n",
    "\n",
    "billy_ross = student_generator(\"Billy Ross\",19)\n",
    "print(billy_ross)"
   ]
  },
  {
   "cell_type": "markdown",
   "metadata": {},
   "source": [
    "Attributes of an instance are also mutable. This means they can be changed at runtime - even in a function. \n",
    "\n",
    "**observe the demonstration of a mutable object below**"
   ]
  },
  {
   "cell_type": "code",
   "execution_count": 153,
   "metadata": {
    "editable": false,
    "scrolled": true
   },
   "outputs": [
    {
     "name": "stdout",
     "output_type": "stream",
     "text": [
      "Ross Billy , 23\n",
      "Billy Ross\n"
     ]
    }
   ],
   "source": [
    "billy_ross.name, billy_ross.age = \"Ross Billy\",23\n",
    "print(billy_ross.name, ',', billy_ross.age)\n",
    "\n",
    "def name_change(student,name):\n",
    "    student.name = name\n",
    "name_change(billy_ross, \"Billy Ross\")\n",
    "print(billy_ross.name)"
   ]
  },
  {
   "cell_type": "markdown",
   "metadata": {},
   "source": [
    "A class can also have methods. These are functions that are associated to specific classes. Methods are defined inside the class definition, making the method explicit for that class. A method is also called differently to a normal function. To invoke a method dot notation is used.\n"
   ]
  },
  {
   "cell_type": "code",
   "execution_count": 154,
   "metadata": {
    "editable": false
   },
   "outputs": [],
   "source": [
    "class Student:\n",
    "    \"\"\"Represents a university student\"\"\"\n",
    "    def print_student(student):\n",
    "        print(\"Name: {}, Age: {}\".format(student.name, student.age))"
   ]
  },
  {
   "cell_type": "markdown",
   "metadata": {
    "editable": false
   },
   "source": [
    "A method can be called by using dot notation on the class name itself, or on the instance that the method is being applied to:"
   ]
  },
  {
   "cell_type": "code",
   "execution_count": 155,
   "metadata": {
    "editable": false
   },
   "outputs": [
    {
     "name": "stdout",
     "output_type": "stream",
     "text": [
      "Name: John Smith, Age: 19\n",
      "Name: John Smith, Age: 19\n"
     ]
    }
   ],
   "source": [
    "john_smith = Student()\n",
    "john_smith.name = \"John Smith\"; john_smith.age = 19\n",
    "\n",
    "Student.print_student(john_smith)\n",
    "john_smith.print_student()"
   ]
  },
  {
   "cell_type": "markdown",
   "metadata": {
    "editable": false
   },
   "source": [
    "It is convention to write ```self``` as the first argument of a method in Python. So the method would be written as:"
   ]
  },
  {
   "cell_type": "code",
   "execution_count": 156,
   "metadata": {
    "editable": false
   },
   "outputs": [],
   "source": [
    "class Student:\n",
    "    \"\"\"Represents a university student\"\"\"\n",
    "    def print_student(self):\n",
    "        print(\"Name: {}, Age: {}\".format(self.name, self.age))"
   ]
  },
  {
   "cell_type": "markdown",
   "metadata": {
    "editable": false
   },
   "source": [
    "Methods can be used to do almost anything related to the class:"
   ]
  },
  {
   "cell_type": "code",
   "execution_count": 6,
   "metadata": {
    "editable": false
   },
   "outputs": [],
   "source": [
    "class Student:\n",
    "    \"\"\"Represents a university student\"\"\"\n",
    "    def print_student(self):\n",
    "        print(\"Name: {}, Age: {}\".format(self.name, self.age))\n",
    "    def change_name(self,new_name):\n",
    "        self.name = new_name\n",
    "    def change_age(self,new_age):\n",
    "        self.age = new_age"
   ]
  },
  {
   "cell_type": "markdown",
   "metadata": {
    "editable": false
   },
   "source": [
    "We can also do certain things at the initialisation of an instance by using the ```__init__``` method. This is a special method that is invoked when an instance is first initialised. We can use it to set attributes straight away instead of defining them after an instance is created."
   ]
  },
  {
   "cell_type": "code",
   "execution_count": 158,
   "metadata": {
    "editable": false
   },
   "outputs": [],
   "source": [
    "class Student:\n",
    "    \"\"\"Represents a university student\"\"\"\n",
    "    def __init__(self,name,age):\n",
    "        self.name = name\n",
    "        self.age = age\n",
    "    def print_student(self):\n",
    "        print(\"Name: {}, Age: {}\".format(self.name, self.age))\n",
    "    def change_name(self,new_name):\n",
    "        self.name = new_name\n",
    "    def change_age(self,new_age):\n",
    "        self.age = new_age"
   ]
  },
  {
   "cell_type": "markdown",
   "metadata": {
    "editable": false
   },
   "source": [
    "There are other special methods like ```__str__``` that we can use. ```__str__``` returns a string representation of an object which will be displayed when the ```print``` function is used."
   ]
  },
  {
   "cell_type": "code",
   "execution_count": 159,
   "metadata": {
    "editable": false
   },
   "outputs": [],
   "source": [
    "class Student:\n",
    "    \"\"\"Represents a university student\"\"\"\n",
    "    def __init__(self, name, age):\n",
    "        self.name = name\n",
    "        self.age = age\n",
    "    def __str__(self):\n",
    "        return 'Name: {}\\n Age: {}'.format(self.name,self.age)\n",
    "    def change_name(self,new_name):\n",
    "        self.name = new_name\n",
    "    def change_age(self,new_age):\n",
    "        self.age = new_age"
   ]
  },
  {
   "cell_type": "code",
   "execution_count": null,
   "metadata": {
    "editable": false
   },
   "outputs": [],
   "source": [
    "john_smith = Student(\"John Smith\",19)\n",
    "print(john_smith)"
   ]
  },
  {
   "cell_type": "markdown",
   "metadata": {
    "editable": false
   },
   "source": [
    "We can also define class attributes. These are attributes that are associated with the class in which they were created. Every instance of this class will have these attributes automatically. Class attributes are different to instance attributes in that instance attributes are associated with the instances."
   ]
  },
  {
   "cell_type": "code",
   "execution_count": 21,
   "metadata": {
    "editable": false
   },
   "outputs": [],
   "source": [
    "class Student:\n",
    "    \"\"\"Represents a university student\"\"\"\n",
    "    school_names = [\"Engineering\",\"Mathematics\",\"Computer Science\",\"Physics\",\"Psychology\",\"Chemistry\",\"Biology\",\"Medicine and Dentistry\"]\n",
    "    \n",
    "    def __init__(self,name,age,school):\n",
    "        self.name = name\n",
    "        self.age = age\n",
    "        self.school = school\n",
    "    def __str__(self):\n",
    "        return 'Name: {}\\n Age: {}\\n School of {}'.format(self.name,self.age,self.school_names[self.school])\n",
    "    def change_name(self,new_name):\n",
    "        self.name = new_name\n",
    "    def change_age(self,new_age):\n",
    "        self.age = new_age"
   ]
  },
  {
   "cell_type": "code",
   "execution_count": 22,
   "metadata": {
    "editable": false
   },
   "outputs": [
    {
     "name": "stdout",
     "output_type": "stream",
     "text": [
      "Name: John Smith\n",
      " Age: 19\n",
      " School of Engineering\n"
     ]
    }
   ],
   "source": [
    "john_smith = Student('John Smith',19,0)\n",
    "print(john_smith)"
   ]
  },
  {
   "cell_type": "markdown",
   "metadata": {
    "editable": false
   },
   "source": [
    "Another important aspect of object oriented programming is inheritance. This is where a new class is defined as a modified version of a previously defined class. To define a class that inherits from another class, the name of the existing class is kept inside parentheses in the class definition:"
   ]
  },
  {
   "cell_type": "code",
   "execution_count": 23,
   "metadata": {
    "editable": false
   },
   "outputs": [],
   "source": [
    "class Undergraduate(Student):\n",
    "    \"\"\"Represents an undergraduate university student\"\"\""
   ]
  },
  {
   "cell_type": "markdown",
   "metadata": {
    "editable": false
   },
   "source": [
    "When a new class inherits from a previously defined class, the new class is called the child and the previously defined class is called the parent. A child will inherit all methods from its parent."
   ]
  },
  {
   "cell_type": "code",
   "execution_count": 24,
   "metadata": {
    "editable": false
   },
   "outputs": [
    {
     "name": "stdout",
     "output_type": "stream",
     "text": [
      "Name: Joe Bloggs\n",
      " Age: 20\n",
      " School of Computer Science \n",
      "\n",
      "Name: Joe Bloggs\n",
      " Age: 21\n",
      " School of Computer Science\n"
     ]
    }
   ],
   "source": [
    "joe_bloggs = Undergraduate(\"Joe Bloggs\",20,2)\n",
    "print(joe_bloggs, \"\\n\")\n",
    "joe_bloggs.change_age(21)\n",
    "print(joe_bloggs)"
   ]
  },
  {
   "cell_type": "markdown",
   "metadata": {
    "editable": false
   },
   "source": [
    "However when we create a new child class, we can create it with it's own methods and attributes. We can use the keyword super() to refer to the parent class and the methods that are in the parent:"
   ]
  },
  {
   "cell_type": "code",
   "execution_count": 165,
   "metadata": {
    "editable": false
   },
   "outputs": [],
   "source": [
    "class Phd(Student):\n",
    "    \"\"\"Represents a PhD university student\"\"\"\n",
    "    def __init__(self,name,age,school,thesis,supervisor):\n",
    "        super().__init__(name,age,school)\n",
    "        self.thesis = thesis\n",
    "        self.supervisor = supervisor\n",
    "    def __str__(self):\n",
    "        return \"Name: {}\\n Age: {}\\n School of {}\\n Thesis: {}\\n Supervisor: {}\".format(self.name,self.age,\n",
    "                                                                                        self.school_names[self.school],self.thesis,\n",
    "                                                                                       self.supervisor)\n",
    "    def change_supervisor(self,new_supervisor):\n",
    "        self.supervisor = new_supervisor"
   ]
  },
  {
   "cell_type": "code",
   "execution_count": 166,
   "metadata": {
    "editable": false,
    "scrolled": false
   },
   "outputs": [
    {
     "name": "stdout",
     "output_type": "stream",
     "text": [
      "Name: Srinivasa Ramanujan\n",
      " Age: 31\n",
      " School of Mathematics\n",
      " Thesis: Highly Composite Numbers\n",
      " Supervisor: G. H. Hardy \n",
      "\n",
      "Name: Srinivasa Ramanujan\n",
      " Age: 31\n",
      " School of Mathematics\n",
      " Thesis: Highly Composite Numbers\n",
      " Supervisor: J. E. Littlewood\n"
     ]
    }
   ],
   "source": [
    "p = Phd(\"Srinivasa Ramanujan\",31,1,\"Highly Composite Numbers\",\"G. H. Hardy\")\n",
    "print(p,'\\n')\n",
    "p.change_supervisor(\"J. E. Littlewood\")\n",
    "print(p)"
   ]
  },
  {
   "cell_type": "markdown",
   "metadata": {
    "editable": false
   },
   "source": [
    "The methods defined in a child class will not work on an instance of the parent class."
   ]
  },
  {
   "cell_type": "code",
   "execution_count": 167,
   "metadata": {
    "editable": false
   },
   "outputs": [
    {
     "name": "stdout",
     "output_type": "stream",
     "text": [
      "Name: J. R. Smith\n",
      " Age: 29\n",
      " School of Psychology\n"
     ]
    },
    {
     "ename": "AttributeError",
     "evalue": "'Student' object has no attribute 'change_supervisor'",
     "output_type": "error",
     "traceback": [
      "\u001b[0;31m---------------------------------------------------------------------------\u001b[0m",
      "\u001b[0;31mAttributeError\u001b[0m                            Traceback (most recent call last)",
      "\u001b[0;32m<ipython-input-167-0732d2d370a9>\u001b[0m in \u001b[0;36m<module>\u001b[0;34m\u001b[0m\n\u001b[1;32m      1\u001b[0m \u001b[0mjr\u001b[0m \u001b[0;34m=\u001b[0m \u001b[0mStudent\u001b[0m\u001b[0;34m(\u001b[0m\u001b[0;34m\"J. R. Smith\"\u001b[0m\u001b[0;34m,\u001b[0m\u001b[0;36m29\u001b[0m\u001b[0;34m,\u001b[0m\u001b[0;36m4\u001b[0m\u001b[0;34m)\u001b[0m\u001b[0;34m\u001b[0m\u001b[0;34m\u001b[0m\u001b[0m\n\u001b[1;32m      2\u001b[0m \u001b[0mprint\u001b[0m\u001b[0;34m(\u001b[0m\u001b[0mjr\u001b[0m\u001b[0;34m)\u001b[0m\u001b[0;34m\u001b[0m\u001b[0;34m\u001b[0m\u001b[0m\n\u001b[0;32m----> 3\u001b[0;31m \u001b[0mjr\u001b[0m\u001b[0;34m.\u001b[0m\u001b[0mchange_supervisor\u001b[0m\u001b[0;34m(\u001b[0m\u001b[0;34m\"Lebron James\"\u001b[0m\u001b[0;34m)\u001b[0m\u001b[0;34m\u001b[0m\u001b[0;34m\u001b[0m\u001b[0m\n\u001b[0m",
      "\u001b[0;31mAttributeError\u001b[0m: 'Student' object has no attribute 'change_supervisor'"
     ]
    }
   ],
   "source": [
    "jr = Student(\"J. R. Smith\",29,4)\n",
    "print(jr)\n",
    "jr.change_supervisor(\"Lebron James\")"
   ]
  },
  {
   "cell_type": "markdown",
   "metadata": {
    "editable": false
   },
   "source": [
    "---"
   ]
  },
  {
   "cell_type": "markdown",
   "metadata": {},
   "source": [
    "# Exercise 18: Customer Database"
   ]
  },
  {
   "cell_type": "markdown",
   "metadata": {},
   "source": [
    "A store decides to track the purchases of its customers to find trends in the products sold over a year.\n",
    "\n",
    "**Create a dictionary with the 12 months of the year as keys, and empty lists as the values. The lists will store the purchases made by one customer for that month.**\n",
    "\n",
    "**Create a class called Customer, with the attributes: Name, Age, Gender and Purchases ( where purchases is the dictionary you defined above). **\n",
    "\n",
    "**Using the class above create 3 fictional customers, assigning them a name, age and gender.**\n",
    "\n",
    "**Write a function to randomly assign them 3 purchases per month for all 12 months from the tuple ```purchaseable_items``` below. **\n",
    "\n",
    "HINT: You may want to write a function which uses a for loop to do this."
   ]
  },
  {
   "cell_type": "markdown",
   "metadata": {},
   "source": []
  },
  {
   "cell_type": "code",
   "execution_count": 210,
   "metadata": {
    "scrolled": true
   },
   "outputs": [
    {
     "name": "stdout",
     "output_type": "stream",
     "text": [
      "Name: snap, Age: 7, Gender: Male, Purchases: {'January': ['carrot', 'bread', 'carrot'], 'February': ['cereal', 'milk', 'egg'], 'March': ['egg', 'banana', 'bread'], 'April': ['apple', 'apple', 'cucumber'], 'May': ['milk', 'juice', 'chocolate'], 'June': ['orange', 'bread', 'bread'], 'July': ['brocoli', 'carrot', 'milk'], 'August': ['milk', 'banana', 'egg'], 'September': ['cereal', 'brocoli', 'banana'], 'October': ['cheese', 'cucumber', 'brocoli'], 'November': ['bread', 'bread', 'bagel'], 'December': ['apple', 'bread', 'orange']} \n",
      "\n",
      "Name: Crackle, Age: 18, Gender: None, Purchases: {'January': ['brocoli', 'chocolate', 'chocolate'], 'February': ['orange', 'juice', 'bagel'], 'March': ['cereal', 'egg', 'apple'], 'April': ['bread', 'bread', 'juice'], 'May': ['apple', 'cucumber', 'brocoli'], 'June': ['carrot', 'banana', 'cereal'], 'July': ['juice', 'orange', 'carrot'], 'August': ['apple', 'bread', 'egg'], 'September': ['cheese', 'cucumber', 'bagel'], 'October': ['orange', 'carrot', 'brocoli'], 'November': ['chocolate', 'chocolate', 'milk'], 'December': ['egg', 'chocolate', 'juice']} \n",
      "\n",
      "Name: pop, Age: 36, Gender: Female, Purchases: {'January': ['banana', 'milk', 'milk'], 'February': ['apple', 'cheese', 'juice'], 'March': ['milk', 'juice', 'banana'], 'April': ['orange', 'chocolate', 'banana'], 'May': ['carrot', 'carrot', 'chocolate'], 'June': ['bagel', 'egg', 'cereal'], 'July': ['apple', 'banana', 'bagel'], 'August': ['cucumber', 'milk', 'carrot'], 'September': ['chocolate', 'cucumber', 'apple'], 'October': ['juice', 'orange', 'carrot'], 'November': ['orange', 'carrot', 'banana'], 'December': ['bread', 'bread', 'juice']} \n",
      "\n"
     ]
    }
   ],
   "source": [
    "import random \n",
    "purchaseable_items = ('egg','milk','bread','chocolate','cereal','orange','banana','apple','juice','cheese','brocoli','cucumber','carrot','bagel')\n",
    "\n",
    "class Customer:    \n",
    "    global purchaseable_items\n",
    "   \n",
    "    def __init__(self, Name, Age, Gender):\n",
    "        self.name, self.age, self.gender = Name, Age, Gender\n",
    "        self.purchases = dict(January=[],February=[],March=[],April=[],May=[],June=[],July=[],August=[],September=[],October=[],November=[],December=[])\n",
    "    \n",
    "        Customer.random_generator(self)\n",
    "    \n",
    "    def print_customer(self):\n",
    "        print(\"Name: {}, Age: {}, Gender: {}, Purchases: {} \\n\".format(self.name, self.age, self.gender, self.purchases))\n",
    "    \n",
    "    def random_generator(self):        \n",
    "        for x in self.purchases:            \n",
    "            for y in range(3):\n",
    "                self.purchases[x].append(purchaseable_items[random.randint(0, 13)])\n",
    "                        \n",
    "        \n",
    "        Customer.print_customer(self)    \n",
    "             \n",
    "snap = Customer(\"snap\", 7, \"Male\")\n",
    "crackle = Customer(\"Crackle\", 18, \"None\")\n",
    "pop = Customer(\"pop\", 36, \"Female\")"
   ]
  },
  {
   "cell_type": "markdown",
   "metadata": {},
   "source": [
    "# End of Lab\n",
    "\n",
    "This is the end of your introduction to Dictionaries, Tuples and Classes. \n",
    "\n",
    "Please note this is not a complete reference but is designed to introduce you to concepts and common misconceptions of the python language, and hopefully some good practice such as variable naming and exhaustive commenting of your code...\n",
    "\n",
    "Please consult the online reference materials to find out more (Canvas has links).\n",
    "\n",
    "Jupyter notebooks are not just for coding; you can write in them too in markup language. So note in the next cell what what you learned/found difficult or easy in the space below.\n",
    "\n",
    "\n",
    "\n"
   ]
  },
  {
   "cell_type": "markdown",
   "metadata": {},
   "source": [
    "**please reflect on your learning below**\n",
    "\n",
    "### I rate this lab (out of 5): 5\n",
    "\n",
    "### What I find easy:\n",
    "Lorem ipsum dolor sit amet, consectetur adipiscing elit, sed do eiusmod tempor incididunt ut labore et dolore magna aliqua.\n",
    "\n",
    "### What I find difficult:\n",
    "Lorem ipsum dolor sit amet, consectetur adipiscing elit, sed do eiusmod tempor incididunt ut labore et dolore magna aliqua.\n",
    "\n",
    "### What I should improve:\n",
    "Lorem ipsum dolor sit amet, consectetur adipiscing elit, sed do eiusmod tempor incididunt ut labore et dolore magna aliqua."
   ]
  },
  {
   "cell_type": "markdown",
   "metadata": {},
   "source": [
    "# Next steps\n",
    "\n",
    "* **Upload this completed .pynb notebook to canvas**\n",
    "* **Progress to the next lab**\n"
   ]
  },
  {
   "cell_type": "markdown",
   "metadata": {},
   "source": [
    "# Python for Engineers\n",
    "(c) 2018,2020 Dr Neil Cooke, School of Engineering, Collaborative Teaching Laboratory, University of Birmingham\n",
    "change log:\n",
    "2018 - original\n",
    "2020 - modified for remote\n",
    "2020 v3 - correct typo exercise 5"
   ]
  },
  {
   "cell_type": "code",
   "execution_count": null,
   "metadata": {},
   "outputs": [],
   "source": []
  }
 ],
 "metadata": {
  "kernelspec": {
   "display_name": "Python 3",
   "language": "python",
   "name": "python3"
  },
  "language_info": {
   "codemirror_mode": {
    "name": "ipython",
    "version": 3
   },
   "file_extension": ".py",
   "mimetype": "text/x-python",
   "name": "python",
   "nbconvert_exporter": "python",
   "pygments_lexer": "ipython3",
   "version": "3.8.3"
  }
 },
 "nbformat": 4,
 "nbformat_minor": 2
}
