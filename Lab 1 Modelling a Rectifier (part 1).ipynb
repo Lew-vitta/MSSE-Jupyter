{
 "cells": [
  {
   "cell_type": "markdown",
   "metadata": {},
   "source": [
    "### Name: Lewis Vitta\n",
    "\n",
    "**please edit the above with your details to personlise this notebook**"
   ]
  },
  {
   "cell_type": "markdown",
   "metadata": {},
   "source": [
    "# Laboratory 1: Modelling a Full-Wave Rectifier (part 1)\n",
    "## Python Basics, Functions and Conditionals"
   ]
  },
  {
   "cell_type": "markdown",
   "metadata": {},
   "source": [
    "# Python for Engineers\n",
    "(c) 2018,2020 Dr Neil Cooke, School of Engineering, Collaborative Teaching Laboratory, University of Birmingham"
   ]
  },
  {
   "cell_type": "markdown",
   "metadata": {},
   "source": [
    "# Introduction\n",
    "\n",
    "* Rectifiers are used to convert a sinusoidal AC voltage into a smooth DC output. \n",
    "* In reality, the output voltage is not perfectly smooth, but has a distinctive ‘ripple’ pattern. \n",
    "* The rectifier circuit features a capacitor, which is charged during the first quarter cycle (until the AC voltage reaches a maximum) then discharges during the region of falling AC voltage to keep the output voltage constant. \n",
    "* The output voltage of the rectifier is not constant and can be modelled by a Fourier series. \n",
    "\n",
    "This lab will have you modelling the output of a rectifier which is operating on a near-zero impedance source (such as the domestic AC mains supply). \n",
    "\n",
    "Each exercise is designed to guide you through developing a large program, function by function.\n",
    "\n",
    "The lab is split into two parts:\n",
    "\n",
    "> *Part 1* builds on the basic concepts covered in Lab 0.\n",
    "\n",
    "> *Part 2* enables you to apply the skills you have learned in this lab.\n",
    "\n",
    "The graphs below show the results you should achieve by the end of this lab. The functions you have built will have a sine wave, a Fourier series, and the approximated ripple voltage for a circuit."
   ]
  },
  {
   "cell_type": "markdown",
   "metadata": {
    "editable": false
   },
   "source": [
    "<img src=\"rectifier_image.JPG\">"
   ]
  },
  {
   "cell_type": "markdown",
   "metadata": {
    "editable": false
   },
   "source": [
    "###### NOTE:\n",
    "Pressing CTRL+Z on a highlighted cell (showing a green bar on the left hand side) will return the cell to a previous state. Use this to undo any changes you have made if you are lost and need to start again."
   ]
  },
  {
   "cell_type": "markdown",
   "metadata": {},
   "source": [
    "## Learning Outcomes\n",
    "\n",
    "\n",
    "This is a *gentle* introduction to the Python language and its syntax assuming that you are newish to python, have some previous programming knowledge, and are studying engineering.\n",
    "\n",
    "In this lab you will experience that ...\n",
    "\n",
    "> Functions are created using the 'def' keyword, and can be written with and without arguments\n",
    "\n",
    "> Keyword arguments can be used to give a function default values to use unless instructed otherwise\n",
    "\n",
    "> To change particular arguments in a function, the parameters can be assigned values in the function call\n",
    "\n",
    "> Local variables only exist inside functions and so cannot be changed outside a function\n",
    "\n",
    "> Local variables with the same name as global variables take priority unless the 'global' keyword is used\n",
    "\n",
    "> Return statements can return multiple values simultaneously, but they must be separate by a comma\n",
    "\n",
    "> There are six mathematical comparison operators: ==, !=, >, <, >= and <=\n",
    "\n",
    "> Comparison operators return a 1 or a 0\n",
    "\n",
    "> The 'in' keyword can be used for multiple data types\n",
    "\n",
    "> 'if' statements are a basic form of control flow and will allow certain pieces of code to be execute if a condition is met\n",
    "\n",
    "> 'elif' statements are used to check alternate conditions if the first first condition of an 'if' statement is not met\n",
    "\n",
    "> 'else' statements can be used to handle exception cases where no specified condition is met\n",
    "\n",
    "> 'if' statements can be 'nested' to check multiple conditions in sequence\n",
    "\n",
    "> 'while loops' are a simple way to repeat sections of code while a certain condition is true\n",
    "\n",
    "> Infinite loops can occur when the terminating condition is not met and should be avoided\n",
    "\n",
    "> The 'range' function can be used to generate a set of numbers to be iterated over in a 'for loop'\n",
    "\n",
    "> The range function does not include the upper limit\n",
    "\n",
    "> For loops can loop through different data types such as lists, dictionaries, strings, tuples etc\n",
    "\n",
    "> Particular elements of a data structure can be indexed using square brackets []\n",
    "\n",
    "\n",
    "**You should complete the pre-lab before attempting this lab**\n",
    "\n",
    "**tasks you are required to do are highlighted in bold throughout this notebook**"
   ]
  },
  {
   "cell_type": "markdown",
   "metadata": {},
   "source": [
    "## Tools to complete this lab\n",
    "\n",
    "* Use this Jupyter notebook and complete/save your work in it. This requires a computing platform capable of running Python 3.x and Jupyter notebook. The anaconda installation is preferred because it contains most modules you need. \n",
    "\n",
    "* NOTE: pressing CTRL+Z on a highlighted cell will return it to itsprevious state. Use this to undo any changes you have made if you get lost and want to start again.\n",
    "\n",
    "* If for whatever reason you do not or cannot use these Jupyter notebooks, then use the PDF document of this as a 'lab sheet' and type / copy the python code into a .py file in the order presented in the sheet, using the IDLE python editor and suitable comments between sections e.g. #Exercise 1. This will require a computing platform with Python 3.x installed. (not recommended)"
   ]
  },
  {
   "cell_type": "markdown",
   "metadata": {},
   "source": [
    "# Exercise 1: Parameters and Return Statements"
   ]
  },
  {
   "cell_type": "markdown",
   "metadata": {
    "editable": false
   },
   "source": [
    "Functions are an efficienct way to write code that needs to be executed multiple times. Functions are always created using the 'def' keyword, followed by the function name with parentheses and a colon. In the parentheses are the arguments, if the function takes any. Here is the syntax for a function definition in Python:"
   ]
  },
  {
   "cell_type": "code",
   "execution_count": 1,
   "metadata": {},
   "outputs": [],
   "source": [
    "# basic syntax for a function (it does nothing)\n",
    "def function_name(argument_1, argument_2,etc):\n",
    "    #code\n",
    "    #code\n",
    "    #code\n",
    "    \n",
    "    return some_value"
   ]
  },
  {
   "cell_type": "markdown",
   "metadata": {},
   "source": [
    "**Correct the following 2 functions so that they run correctly. What do the functions do, and does it matters if you pass in floats or integers?**"
   ]
  },
  {
   "cell_type": "code",
   "execution_count": 2,
   "metadata": {},
   "outputs": [
    {
     "name": "stdout",
     "output_type": "stream",
     "text": [
      "4.375\n"
     ]
    }
   ],
   "source": [
    "def ohms_law(voltage, current):\n",
    "    resistance = voltage / current\n",
    "    return resistance\n",
    "\n",
    "print(ohms_law(10.5,2.4))"
   ]
  },
  {
   "cell_type": "code",
   "execution_count": 3,
   "metadata": {},
   "outputs": [
    {
     "name": "stdout",
     "output_type": "stream",
     "text": [
      "0.9803921568627451\n"
     ]
    }
   ],
   "source": [
    "def efficiency(r_load,r_source):\n",
    "    eff = r_load/(r_load + r_source)\n",
    "    return eff\n",
    "\n",
    "print(efficiency(100,2))"
   ]
  },
  {
   "cell_type": "markdown",
   "metadata": {},
   "source": [
    "**Write a function which takes the arguments: 'voltage', 'current' and 'resistance' and returns the EMF (electromotive force). Print the result where voltage, current and resistance are 10 volts, 5 amps and 0.5 ohms respectively.**\n",
    "\n",
    "The following formula may be useful: $$ \\varepsilon = V + Ir $$"
   ]
  },
  {
   "cell_type": "code",
   "execution_count": 4,
   "metadata": {},
   "outputs": [
    {
     "name": "stdout",
     "output_type": "stream",
     "text": [
      "12.5\n"
     ]
    }
   ],
   "source": [
    "# Create EMF function\n",
    "# Values: voltage = 10, current = 5, resistance = 0.5\n",
    "def EMF(voltage, current, resistance):    \n",
    "    return voltage + (current*resistance)\n",
    "\n",
    "print(EMF(10,5,0.5))"
   ]
  },
  {
   "cell_type": "markdown",
   "metadata": {},
   "source": [
    "# Exercise 2: Keyword Arguments"
   ]
  },
  {
   "cell_type": "markdown",
   "metadata": {},
   "source": [
    "*Functions do not have to take a set number of arguments. \n",
    "*Keyword arguments allow you to write a function using a maximum number of arguments, but if a value is not given one, then a default value is assumed. \n",
    "\n",
    "**load the function below, try calling it with no parameters, 1 parameter, or 2 parameters. \n"
   ]
  },
  {
   "cell_type": "code",
   "execution_count": 5,
   "metadata": {},
   "outputs": [],
   "source": [
    "def angular_frequency(pi = 3.14, cycle_frequency = 50): #default argument values\n",
    "    ''' compute the angular frequency from the cycle frequency '''\n",
    "    omega = 2 * pi * cycle_frequency\n",
    "    return omega\n",
    "\n",
    "\n",
    "# uncommment one of the function calls and observe the result:\n",
    "\n",
    "#angular_frequency()\n",
    "#angular_frequency(3.1415)\n",
    "#angular_frequency(3.1415,60)\n",
    "#angular_frequency(pi=3.1415,60)\n",
    "#angular_frequency(60,pi=3.1415)\n",
    "#angular_frequency(3.1415,cycle_frequency=60)\n",
    "#angular_frequency(pi=3.1415,cycle_frequency=60)\n",
    "#angular_frequency(cycle_frequency=60,pi=3.1415)"
   ]
  },
  {
   "cell_type": "markdown",
   "metadata": {},
   "source": [
    "**Dedeuce the rules for calling functions based on the observed outputs and note them below**\n",
    "\n",
    "* rule 1: () if noithing is inside the function the defualt values will run i.e. what is declared in the function\n",
    "* rule 2: (var1,var2) variables must be placed in the correct order, unless variable name is declared again (b= var2, a = var1) \n",
    "* rule 3: if only a few variables are declared of many, then the first few will fill up and work as normal\n",
    "\n"
   ]
  },
  {
   "cell_type": "markdown",
   "metadata": {},
   "source": [
    "One of the rules you have discovered will have been without entering any values, the function returns 314.0000000000000 - i.e. it uses its default values. If you entered 1 value, only the value of PI changes because pi is the first argument in the function definition. \n",
    "\n",
    "The assignment operator (=) provides the most flexibility but must be used consistently."
   ]
  },
  {
   "cell_type": "markdown",
   "metadata": {},
   "source": [
    "# Exercise 3: Local Variables"
   ]
  },
  {
   "cell_type": "markdown",
   "metadata": {},
   "source": [
    "* Variables created inside a function, or created in another function and passed as an argument, are called 'local variables'.\n",
    "* Local variables only exist inside a function, and so this is the only place they can be changed. \n",
    "* If a variable exists outside of a function it is called a global variable, and can be changed at any point in the program. \n",
    "\n",
    "**Run the program and deduce discuss whether or not PI assigned and used in the function is global or local scope**"
   ]
  },
  {
   "cell_type": "code",
   "execution_count": 6,
   "metadata": {},
   "outputs": [
    {
     "name": "stdout",
     "output_type": "stream",
     "text": [
      "314.159\n",
      "3.14\n"
     ]
    }
   ],
   "source": [
    "PI = 3.14 #global variable\n",
    "\n",
    "def angular_frequency(cycle_frequency = 50): \n",
    "    '''calculate angular frequency with default 50Hz'''\n",
    "    PI = 3.14159 #set value of pi to 5dp\n",
    "    omega = 2 * PI * cycle_frequency #calculate omega\n",
    "    return omega\n",
    "\n",
    "print(angular_frequency())\n",
    "print(PI)"
   ]
  },
  {
   "cell_type": "markdown",
   "metadata": {},
   "source": [
    "You should notice that the value of PI is not changed when printed. \n",
    "This is because the variable PI is a local variable in the function, and different to the global variable PI defined outside the function. \n",
    "\n",
    "Now, what if you need to change the value of a global variable inside a function? \n",
    "This is possible but not generally favoured because using global variables can make debugging a program more difficult; they can be changed at any point in the program. \n",
    "\n",
    "To change a global variable inside a function however, you use the global keyword.\n",
    "\n",
    "**Rewrite the function below to use the global variable throughout**"
   ]
  },
  {
   "cell_type": "code",
   "execution_count": 7,
   "metadata": {},
   "outputs": [
    {
     "name": "stdout",
     "output_type": "stream",
     "text": [
      "(314.159, 3.14159)\n",
      "3.14159\n"
     ]
    }
   ],
   "source": [
    "PI = 3.14\n",
    "\n",
    "def angular_frequency(cycle_frequency = 50):\n",
    "    '''calculate angular frequency with default 50Hz'''\n",
    "    global PI \n",
    "    PI = 3.14159  \n",
    "    \n",
    "    # assign omega \n",
    "    omega = 2 * PI * cycle_frequency     \n",
    "    return omega,PI\n",
    "\n",
    "print(angular_frequency())\n",
    "print(PI)"
   ]
  },
  {
   "cell_type": "markdown",
   "metadata": {},
   "source": [
    "# Exercise 4: Returning Multiple Values"
   ]
  },
  {
   "cell_type": "markdown",
   "metadata": {},
   "source": [
    "* The values returned from functions are called 'return values'. \n",
    "* Common mistakes with return values arise when trying to return more than one. \n",
    "* People often forget that a comma should be used for multiple values, and not words like 'and' - this will *not* cause a syntax error and so is often undetected; 'and' is a logical operator, and will test if two values are greater than zero - this will be a semantic error.\n",
    "\n",
    "**Correct the following program so it returns the local variables as expected.**"
   ]
  },
  {
   "cell_type": "code",
   "execution_count": 8,
   "metadata": {},
   "outputs": [
    {
     "name": "stdout",
     "output_type": "stream",
     "text": [
      "298.15\n",
      "1050000.0\n"
     ]
    }
   ],
   "source": [
    "temp = 25.0 # set temp of 25 degrees \n",
    "press = 1.05 #set the pressure\n",
    "\n",
    "def convert_values(temperature, pressure):\n",
    "    '''convert between temperature and pressure''' \n",
    "    temperature += 273.15\n",
    "    pressure *= 1000000\n",
    "    return temperature, pressure\n",
    "\n",
    "temp, press = convert_values(temp,press)    # Note that if a function returns multiple values in a tuple, multiple variables can be\n",
    "print(temp)                                 # assigned simultaneously by unpacking the tuple\n",
    "print(press)\n",
    "    "
   ]
  },
  {
   "cell_type": "markdown",
   "metadata": {},
   "source": [
    "# Exercise 5: Comparison Operators"
   ]
  },
  {
   "cell_type": "markdown",
   "metadata": {},
   "source": [
    "Python uses six comparison operators which can be used to compare one value to another. As shown above, == is the equality operator, and checks if two values are equal. \n",
    "\n",
    "<center> != is the 'not equals' operator, and checks if one value does not equal another </center>\n",
    "<center> > is the 'greater than' operator, and checks if one value is greater than (but not equal to) another </center>\n",
    "<center> < is the 'less than' operator, and checks if one value is less than (but not equal to) another </center>\n",
    "<center> >= is the ' greater than or equal to' operator and checks if one value is greater than, or equals, another </center>\n",
    "<center> <= is the 'less than or equal to' operator and checks if one value is less than, or equals, another </center>\n",
    "    \n",
    "The result of a comparison operation is a boolean output, a 1 or a 0. If the comparison is true, e.g 5 > 3, then a 1 is returned. If the comparison is not true, then a 0 is returned. In the first cell below, change the values of the variables is that each of the comparisons return a 1. In the second cell, change the operators so that each of the comparisons return a 0.\n",
    "\n",
    "**Change the values in the folllowing comparisons so that they all evalaute true**"
   ]
  },
  {
   "cell_type": "code",
   "execution_count": 9,
   "metadata": {},
   "outputs": [
    {
     "name": "stdout",
     "output_type": "stream",
     "text": [
      "True\n",
      "True\n",
      "True\n"
     ]
    }
   ],
   "source": [
    "\n",
    "# Values\n",
    "ripple_factor = 6\n",
    "max_allowable_ripple = 4\n",
    "\n",
    "rms_current = 4.5\n",
    "peak_to_peak_current = 4.5\n",
    "\n",
    "rms_voltage = 1\n",
    "peak_to_peak_voltage = 1.414\n",
    "\n",
    "\n",
    "#Comparisons\n",
    "print(ripple_factor > max_allowable_ripple)\n",
    "\n",
    "print(rms_current == peak_to_peak_current)\n",
    "\n",
    "print(rms_voltage != peak_to_peak_voltage)\n",
    "\n"
   ]
  },
  {
   "cell_type": "markdown",
   "metadata": {},
   "source": [
    "**Change the signs in the following comparisons so that they all evaluate false**"
   ]
  },
  {
   "cell_type": "code",
   "execution_count": 10,
   "metadata": {},
   "outputs": [
    {
     "name": "stdout",
     "output_type": "stream",
     "text": [
      "False\n",
      "False\n",
      "False\n"
     ]
    }
   ],
   "source": [
    "# Change the signs so that every comparison returns False\n",
    "\n",
    "# Values\n",
    "ripple_factor = 6\n",
    "max_allowable_ripple = 4\n",
    "\n",
    "rms_current = 4.5\n",
    "peak_to_peak_current = 4.5\n",
    "\n",
    "rms_voltage = 1\n",
    "peak_to_peak_voltage = 1.414\n",
    "\n",
    "\n",
    "#Comparisons\n",
    "print(ripple_factor < max_allowable_ripple)\n",
    "\n",
    "print(rms_current != peak_to_peak_current)\n",
    "\n",
    "print(rms_voltage == peak_to_peak_voltage)\n"
   ]
  },
  {
   "cell_type": "markdown",
   "metadata": {},
   "source": [
    "You may want to do more than 2 comparisons when comparing more than 2 variables. for example a > b > c < d. This is called chaining comparisons.\n",
    "\n",
    "**Run the following comparisons and deduce the rules of precedence and priority for comparison operators.**\n"
   ]
  },
  {
   "cell_type": "code",
   "execution_count": 11,
   "metadata": {},
   "outputs": [
    {
     "name": "stdout",
     "output_type": "stream",
     "text": [
      "False\n",
      "False\n",
      "False\n",
      "True\n",
      "True\n"
     ]
    }
   ],
   "source": [
    "# Values\n",
    "ripple_factor = 6\n",
    "max_allowable_ripple = 4\n",
    "\n",
    "rms_current = 4.5\n",
    "peak_to_peak_current = 4.5\n",
    "\n",
    "rms_voltage = 1\n",
    "peak_to_peak_voltage = 1.414\n",
    "\n",
    "#comparisons\n",
    "print(ripple_factor > rms_current == peak_to_peak_current < max_allowable_ripple )\n",
    "print(ripple_factor > rms_current and rms_current == peak_to_peak_current < max_allowable_ripple )\n",
    "print(ripple_factor > rms_current and rms_current == peak_to_peak_current and peak_to_peak_current < max_allowable_ripple )\n",
    "print(ripple_factor > rms_current or rms_current == peak_to_peak_current < max_allowable_ripple )\n",
    "print(ripple_factor > rms_current or rms_current == peak_to_peak_current or peak_to_peak_current < max_allowable_ripple )\n",
    "\n"
   ]
  },
  {
   "cell_type": "markdown",
   "metadata": {},
   "source": [
    "**Note your observation of the rules of predence, and what the role the keyword 'and' is when chaining comparisons**\n",
    "\n",
    "your answer:comeback\n"
   ]
  },
  {
   "cell_type": "markdown",
   "metadata": {},
   "source": [
    "# Exercise 6: The 'in' Keyword"
   ]
  },
  {
   "cell_type": "markdown",
   "metadata": {},
   "source": [
    "* The keyword 'in' is a useful feature of Python. \n",
    "* This lets you check if one variable contains another. \n",
    "* This mean differents things for different data types. \n",
    "* For example, you can use 'in' to check is a number is in an array. \n",
    "\n",
    "**By removing the comments in turn, run each of the case below to see which data types support the 'in' keyword.**"
   ]
  },
  {
   "cell_type": "code",
   "execution_count": 12,
   "metadata": {},
   "outputs": [
    {
     "name": "stdout",
     "output_type": "stream",
     "text": [
      "x_coords is a <class 'dict'>\n",
      "It doesn't work!\n"
     ]
    }
   ],
   "source": [
    "#x_coords = 103 #int\n",
    "#x_coords = 1.04 #floats\n",
    "#x_coords = [1,4,6,8,9,13,16,23,28,49,51,52] #lists\n",
    "#x_coords = (1,4,6,8,9,13,16,23,28,49,51,52) # tuples\n",
    "#x_coords = \"1,4,6,8,9,13,16,23,28,49,51,52,75\" #string\n",
    "x_coords = {1:4,6:8,9:13,16:23,28:49,51:52} # dictionary\n",
    "\n",
    "print('x_coords is a',type(x_coords))\n",
    "\n",
    "if 13 in x_coords:\n",
    "    print(\"It works!\")\n",
    "else:\n",
    "    print(\"It doesn't work!\")\n"
   ]
  },
  {
   "cell_type": "markdown",
   "metadata": {},
   "source": [
    "**Note that not all datatypes support the 'in' keyword; some datatypes raise exceptions. Consider each datatype below and give reasons whether it supports or raises an exception:**\n",
    "\n",
    "* [Doesn't work. can't contain multiple numbers so == instead] int \n",
    "* [Doesn't work, see ints] floats\n",
    "* [Works, had to remove \"\"quoation marks from if statement surronding '1'] lists\n",
    "* [Works, again like lists, both contain multiple numbers thus you can find a variable inside] tuples\n",
    "* [Place the quoatation marks back at it works, because the number was within the string] string\n",
    "* [works for the first number, but not the second for each csv. Because you can only call on the first] dictionary\n",
    "\n",
    "\n",
    "\n"
   ]
  },
  {
   "cell_type": "markdown",
   "metadata": {},
   "source": [
    "# Exercise 7: Conditionals"
   ]
  },
  {
   "cell_type": "markdown",
   "metadata": {},
   "source": [
    "* As you should observe in other programming languages such as C, writing code sequentially (where each line runs after the previous) is not always the best way to go about solving a problem. \n",
    "* Sometimes it is best to repeat certain sections of code, and sometimes code should only run if a certain condition is true.\n",
    "* These concepts are called *Iteration*, *Recurrsion*, and *Control Flow* (or simply *Conditional Programming*). \n",
    "\n",
    "\n",
    "* Control flow is a useful concept, and works well with the comparison operators used above. \n",
    "* The main conditional statement in Python is the *if* statement and has the following syntax:"
   ]
  },
  {
   "cell_type": "code",
   "execution_count": 13,
   "metadata": {},
   "outputs": [
    {
     "ename": "SyntaxError",
     "evalue": "unexpected EOF while parsing (<ipython-input-13-dd21f53f451b>, line 3)",
     "output_type": "error",
     "traceback": [
      "\u001b[0;36m  File \u001b[0;32m\"<ipython-input-13-dd21f53f451b>\"\u001b[0;36m, line \u001b[0;32m3\u001b[0m\n\u001b[0;31m    #code\u001b[0m\n\u001b[0m         ^\u001b[0m\n\u001b[0;31mSyntaxError\u001b[0m\u001b[0;31m:\u001b[0m unexpected EOF while parsing\n"
     ]
    }
   ],
   "source": [
    "if condition:\n",
    "    #code\n",
    "    #code"
   ]
  },
  {
   "cell_type": "markdown",
   "metadata": {},
   "source": [
    "The condition returns a boolean (True or 1 / False or 0). If the condition returns a 1, the code inside the 'if' statement is executed. Otherwise, the code is skipped over and the lines below begin to run. Technically as the statement only looks for a 1 or a 0, the following code is valid:\n",
    "\n",
    "**run the code below**"
   ]
  },
  {
   "cell_type": "code",
   "execution_count": null,
   "metadata": {},
   "outputs": [
    {
     "name": "stdout",
     "output_type": "stream",
     "text": [
      "This will always run\n"
     ]
    }
   ],
   "source": [
    "if 1:\n",
    "    print(\"This will always run\") #a reachable branch\n",
    "    \n",
    "if 0:\n",
    "    print(\"This will never run\") #an unreachable branch - poor programming!"
   ]
  },
  {
   "cell_type": "markdown",
   "metadata": {},
   "source": [
    "**Complete the program below, such that the variable power_enabled is set to True on the condition that the variable button_pressed is True.**"
   ]
  },
  {
   "cell_type": "code",
   "execution_count": null,
   "metadata": {},
   "outputs": [],
   "source": [
    "button_pressed = False   # Note that True and False MUST start with a capital letter\n",
    "power_enabled = False\n",
    "\n",
    "if button_pressed == True:\n",
    "    power_enabled = True\n",
    "\n",
    "    # Set variable equal to true\n",
    "    \n"
   ]
  },
  {
   "cell_type": "markdown",
   "metadata": {},
   "source": [
    "# Exercise 8: Else statements"
   ]
  },
  {
   "cell_type": "markdown",
   "metadata": {},
   "source": [
    "* It is often necessary to specify what should happen if a condition is false. \n",
    "* This can be solved by writing another 'if' statement with the opposite condition. \n",
    "* However, it is not necessary to do so because Python uses the keyword 'else'. \n",
    "* This MUST follow an 'if' statement and be on the same level as indentation to be associated with that 'if' statement. \n",
    "* The syntax for 'if'/'else' statements is:"
   ]
  },
  {
   "cell_type": "code",
   "execution_count": null,
   "metadata": {},
   "outputs": [],
   "source": [
    "if condition:\n",
    "    #code\n",
    "    #code\n",
    "else:\n",
    "    #code\n",
    "    #code"
   ]
  },
  {
   "cell_type": "markdown",
   "metadata": {},
   "source": [
    "You should never write a condition in the 'else' statement, this will return an error. \n",
    "\n",
    "**Building on the program above, modify the cell below to set power_enabled equal to False in the case that button_pressed is NOT true.** "
   ]
  },
  {
   "cell_type": "code",
   "execution_count": null,
   "metadata": {},
   "outputs": [],
   "source": [
    "button_pressed = False   # Note that True and False are reserved keywords and MUST start with a capital letter\n",
    "power_enabled = False # Python is case sensitive - never forget!!\n",
    "\n",
    "if button_pressed==True:\n",
    "    power_enabled=True\n",
    "else:\n",
    "    power_enabled=False"
   ]
  },
  {
   "cell_type": "markdown",
   "metadata": {},
   "source": [
    "# Exercise 9: Elif Statements"
   ]
  },
  {
   "cell_type": "markdown",
   "metadata": {},
   "source": [
    "Sometimes it is necessary to test multiple conditions before defaulting to the 'else' case. This can be done using the 'elif' statement. This is a combination of the words 'else' and 'if' and does exactly as it sounds. \n",
    "The structure for 'elif' statements is as follows:"
   ]
  },
  {
   "cell_type": "code",
   "execution_count": null,
   "metadata": {},
   "outputs": [],
   "source": [
    "if condition:\n",
    "    #code\n",
    "    #code\n",
    "elif condition:            # There is no limit on the amount of 'elif' statements\n",
    "    #code\n",
    "    #code\n",
    "elif condition:\n",
    "    #code\n",
    "    #code\n",
    "elif condition:\n",
    "    #code\n",
    "    #code\n",
    "else:\n",
    "    #code\n",
    "    #code"
   ]
  },
  {
   "cell_type": "markdown",
   "metadata": {},
   "source": [
    "**Write a program that checks the following outcomes for the roll of a die:**\n",
    "**Be careful how you state multiple conditions**\n",
    "\n",
    "If the die rolls a 1, output \"This is the lowest result\"\n",
    "\n",
    "If the die rolls a 2 or 4, output \"This is an even number\"\n",
    "\n",
    "If the die rolls a 3 or 5, output \"This is an odd number\"\n",
    "\n",
    "If the die rolls a 6, output \"This is the highest result\""
   ]
  },
  {
   "cell_type": "code",
   "execution_count": null,
   "metadata": {},
   "outputs": [
    {
     "name": "stdout",
     "output_type": "stream",
     "text": [
      "6\n",
      "This is the highest result\n"
     ]
    }
   ],
   "source": [
    "import random\n",
    "a = random.randint(1, 6)\n",
    "print(a)\n",
    "if a==1:\n",
    "    print(\"This is the lowest result\")\n",
    "\n",
    "elif a==2 or a==4:\n",
    "    print(\"This is an even number\")\n",
    "\n",
    "elif a==3 or a==5:\n",
    "    print(\"This is an odd number\")\n",
    "\n",
    "else:\n",
    "    print(\"This is the highest result\")"
   ]
  },
  {
   "cell_type": "markdown",
   "metadata": {},
   "source": [
    "# Exercise 10: Nested 'if' Statements"
   ]
  },
  {
   "cell_type": "markdown",
   "metadata": {
    "editable": false
   },
   "source": [
    "'if' statements can be written inside 'if' statements to test multiple conditions, given a previous condition is true. Writing conditionals in such a way is called 'nested' coding, so this is an example of 'nested if statements'. Nested code can use all the same features as unested code, so it is not uncommon to see an 'if' statement nested inside another, with 'elif' and 'else' statements inside too.\n",
    "\n",
    "\n",
    "Write a program which checks whether the variable voltage_high is True. If True, check whether the voltage is below 5V, equal to 5V or greater than 5V. In each case write a print statement to describe the state of the voltage. If voltage_high is False, print some text to say the voltage is 0V.\n"
   ]
  },
  {
   "cell_type": "code",
   "execution_count": null,
   "metadata": {},
   "outputs": [
    {
     "name": "stdout",
     "output_type": "stream",
     "text": [
      "7\n",
      "Voltage is greater than 5V\n"
     ]
    }
   ],
   "source": [
    "import random\n",
    "voltage_high = random.randint(0, 10)\n",
    "print(voltage_high)\n",
    "\n",
    "if voltage_high != 0:\n",
    "    if voltage_high > 5:\n",
    "        print(\"Voltage is greater than 5V\")\n",
    "    if voltage_high < 5:\n",
    "        print(\"Voltage is less than 5V\")\n",
    "    elif voltage_high == 5 :\n",
    "        print(\"Voltage is 5V\")\n",
    "    \n",
    "    \n",
    "else:\n",
    "    print(\"Voltage is 0V\")"
   ]
  },
  {
   "cell_type": "markdown",
   "metadata": {},
   "source": [
    "# Exercise 11: While Loops"
   ]
  },
  {
   "cell_type": "markdown",
   "metadata": {
    "editable": false
   },
   "source": [
    "As mentioned above, writing code sequentially can be quite limiting, as well as making scripts longer and harder to read. 'While' loops are a simple solution to this problem. The code written inside the loop will continue being execute, *while* a condition is true.\n",
    "\n",
    "At the end of each cycle, the loop will check the condition again to see if it is still true. If it is, the loop will run again, if not, the loop will terminate.\n",
    "\n",
    "The syntax for a 'while' loop is shown below:"
   ]
  },
  {
   "cell_type": "code",
   "execution_count": null,
   "metadata": {},
   "outputs": [],
   "source": [
    "while condition:\n",
    "    #code\n",
    "    #code\n",
    "    #code\n",
    "    "
   ]
  },
  {
   "cell_type": "markdown",
   "metadata": {
    "editable": false
   },
   "source": [
    "Similar to the 'if' statement, the condition returns a 1 or a 0, so the following loops are valid:"
   ]
  },
  {
   "cell_type": "code",
   "execution_count": null,
   "metadata": {},
   "outputs": [],
   "source": [
    "while 1:             # This will loop forever\n",
    "    #code\n",
    "    #code\n",
    "    #code\n",
    "    \n",
    "    \n",
    "while 0:             # This will never loop\n",
    "    #code\n",
    "    #code\n",
    "    #code"
   ]
  },
  {
   "cell_type": "markdown",
   "metadata": {},
   "source": [
    "**Write a program which counts from 0 to 10 in a while loop and prints the result. Hint: use the while loop to check the value of the number being printed, and increment the number at the end of each cycle.**"
   ]
  },
  {
   "cell_type": "code",
   "execution_count": null,
   "metadata": {
    "scrolled": true
   },
   "outputs": [
    {
     "name": "stdout",
     "output_type": "stream",
     "text": [
      "1\n",
      "2\n",
      "3\n",
      "4\n",
      "5\n",
      "6\n",
      "7\n",
      "8\n",
      "9\n",
      "10\n"
     ]
    }
   ],
   "source": [
    "num = 0\n",
    "\n",
    "while num < 10:\n",
    "    num += 1\n",
    "    print(num)\n"
   ]
  },
  {
   "cell_type": "markdown",
   "metadata": {},
   "source": [
    "# Exercise 12: Infinite Loops"
   ]
  },
  {
   "cell_type": "markdown",
   "metadata": {
    "editable": false
   },
   "source": [
    "It is important to make sure that the condition can be met so that the loop does not continue infinitely. There are exceptions, for example a loop that takes user input. This will wait for the user to input data and so runs intermittently. However, not making the end-condition reachable is generally a bad idea. This will cause a lot of strain on the system and use a lot of memory. On a small embedded system, this could be a critical use of resources and cause the system to fail.\n",
    "\n",
    "In the cell below , fix the program so that the loop ends."
   ]
  },
  {
   "cell_type": "code",
   "execution_count": null,
   "metadata": {},
   "outputs": [
    {
     "name": "stdout",
     "output_type": "stream",
     "text": [
      "loop_count is less than 10\n",
      "loop_count is less than 10\n",
      "loop_count is less than 10\n",
      "loop_count is less than 10\n",
      "loop_count is less than 10\n",
      "loop_count is less than 10\n",
      "loop_count is less than 10\n",
      "loop_count is less than 10\n",
      "loop_count is less than 10\n",
      "loop_count is less than 10\n",
      "loop_count = 10. The loop has ended!\n"
     ]
    }
   ],
   "source": [
    "loop_count = 0\n",
    "\n",
    "while loop_count < 10:\n",
    "    print(\"loop_count is less than 10\")\n",
    "    loop_count += 1\n",
    "    \n",
    "print(\"loop_count = {0}. The loop has ended!\".format(loop_count))"
   ]
  },
  {
   "cell_type": "markdown",
   "metadata": {},
   "source": [
    "# Exercise 13: For Loops"
   ]
  },
  {
   "cell_type": "markdown",
   "metadata": {},
   "source": [
    "* 'While' loops are a simple way to loop code, but require an extra line to update a counter usually to make sure the loop does not become infinite. \n",
    "* Another way to loop is to use a 'for' loop. This loops over a specified range and so cannot run to infinity. The syntax for a for loop is as follows:"
   ]
  },
  {
   "cell_type": "code",
   "execution_count": null,
   "metadata": {},
   "outputs": [],
   "source": [
    "for count_variable in range(#start_number,#end_number,#increment):\n",
    "    #code\n",
    "    #code\n",
    "    #code\n",
    "    "
   ]
  },
  {
   "cell_type": "markdown",
   "metadata": {},
   "source": [
    "count_varaible keeps track of the cycle number, the name is not significant and can be called anything you like. This example used the 'in' keyword and the 'range' function. This is because the range function will generate a set of numbers from a lower limit to and upper limit. An increment can also be specified. \n",
    "\n",
    "**Run the cell below, Can you understand how the range function behaves to enable the upper limit to be reached?**"
   ]
  },
  {
   "cell_type": "code",
   "execution_count": null,
   "metadata": {},
   "outputs": [
    {
     "name": "stdout",
     "output_type": "stream",
     "text": [
      "2\n",
      "6\n",
      "10\n",
      "14\n",
      "18\n",
      "22\n"
     ]
    }
   ],
   "source": [
    "for num in range(2,23,4): \n",
    "    print(num)\n",
    "    \n",
    "# The variable 'num' will take the values 2 in the first cycle, 6 in the second cycle... up to 18 in the final cycle."
   ]
  },
  {
   "cell_type": "markdown",
   "metadata": {
    "editable": false
   },
   "source": [
    "The range function does not require all 3 arguments.\n",
    "\n",
    "1 argument: the function will assume this is the upper limit, starts from 0 and increments by 1 each cycle\n",
    "    \n",
    "2 arguments: the function assumes these are the lower and upper limits, in that order. Again the variable will increment by 1 each cycle\n",
    "\n",
    "3 arguments: the values take the role of lower limit, upper limit and increment in that order\n",
    "\n",
    "NOTE: The upper limit is NOT included. You will have seen this in the cell above, where you would expect the loop to print '22', but the upper limit is not included in the range."
   ]
  },
  {
   "cell_type": "markdown",
   "metadata": {},
   "source": [
    "**Given considerations of upper limits, write a loop which loops from 0 to 102 (inclusive) and prints all the numbers which are divisible by 3.**"
   ]
  },
  {
   "cell_type": "code",
   "execution_count": null,
   "metadata": {
    "scrolled": true
   },
   "outputs": [
    {
     "name": "stdout",
     "output_type": "stream",
     "text": [
      "0\n",
      "3\n",
      "6\n",
      "9\n",
      "12\n",
      "15\n",
      "18\n",
      "21\n",
      "24\n",
      "27\n",
      "30\n",
      "33\n",
      "36\n",
      "39\n",
      "42\n",
      "45\n",
      "48\n",
      "51\n",
      "54\n",
      "57\n",
      "60\n",
      "63\n",
      "66\n",
      "69\n",
      "72\n",
      "75\n",
      "78\n",
      "81\n",
      "84\n",
      "87\n",
      "90\n",
      "93\n",
      "96\n",
      "99\n",
      "102\n"
     ]
    }
   ],
   "source": [
    "for x in range(0,103,1):\n",
    "    if x%3 == 0:\n",
    "        print(x)\n",
    "    x += 1\n",
    "\n"
   ]
  },
  {
   "cell_type": "markdown",
   "metadata": {},
   "source": [
    "# Exercise 14: Looping though Data Structures"
   ]
  },
  {
   "cell_type": "markdown",
   "metadata": {},
   "source": [
    "For loops aren't limited to looping through a series of numbers, and the range function is not the only way to generate these numbers. \n",
    "\n",
    "For loops can be used with many structures, including lists, tuples, dictionaries, strings etc.\n",
    "\n",
    "**uncomment each variable assignment in turn and observe how the for loop interates over the structure without requiring an index**"
   ]
  },
  {
   "cell_type": "code",
   "execution_count": null,
   "metadata": {},
   "outputs": [
    {
     "name": "stdout",
     "output_type": "stream",
     "text": [
      "a\n",
      "b\n",
      "c\n",
      "d\n",
      "e\n",
      "f\n",
      "g\n",
      "h\n",
      "i\n",
      "j\n",
      "k\n",
      "l\n",
      "m\n",
      "n\n",
      "o\n",
      "p\n",
      "q\n",
      "r\n",
      "s\n",
      "t\n",
      "u\n",
      "v\n",
      "w\n",
      "x\n",
      "y\n",
      "z\n"
     ]
    }
   ],
   "source": [
    "#values = [2,5,9,14,18,33,36,42,46,49,50,56,78,99]\n",
    "#values = (2,5,9,14,18,33,36,42,46,49,50,56,78,99)\n",
    "#values = {2:5,9:14,18:33,36:42,46:49,50:56,78:99}\n",
    "values = \"abcdefghijklmnopqrstuvwxyz\"\n",
    "\n",
    "for x in values:\n",
    "    print(x)"
   ]
  },
  {
   "cell_type": "markdown",
   "metadata": {},
   "source": [
    "Sometimes when iterating through a data structure it is useful to access particular elements. This is done through 'indexing'. This is using square brackets [] to manipulate one datum in a structure.\n",
    "\n",
    "**Run the program below with the indexed assignment commented out, then uncomment and run the program again. Observe how the output changes.**"
   ]
  },
  {
   "cell_type": "code",
   "execution_count": null,
   "metadata": {},
   "outputs": [
    {
     "name": "stdout",
     "output_type": "stream",
     "text": [
      "[0, 1, 4, 9, 16]\n"
     ]
    }
   ],
   "source": [
    "numbers = [1,2,3,4,5]\n",
    "\n",
    "for x in range(5):\n",
    "    numbers[x] = x*x\n",
    "    continue #this keyword is required if you have an empty branch and skip the rest of the code in the branch See also 'break'\n",
    "    print('this code in the branch is never reached due to the continue')\n",
    "    \n",
    "print(numbers)  "
   ]
  },
  {
   "cell_type": "markdown",
   "metadata": {},
   "source": [
    "**Write a program to loop through a string and print each character.**"
   ]
  },
  {
   "cell_type": "code",
   "execution_count": null,
   "metadata": {},
   "outputs": [
    {
     "name": "stdout",
     "output_type": "stream",
     "text": [
      "q\n",
      "w\n",
      "e\n",
      "r\n",
      "t\n",
      "y\n",
      "u\n",
      "i\n",
      "o\n",
      "p\n"
     ]
    }
   ],
   "source": [
    "test_string = \"qwertyuiop\"\n",
    "\n",
    "for x in test_string:\n",
    "    print(x)\n"
   ]
  },
  {
   "cell_type": "markdown",
   "metadata": {},
   "source": [
    "# Exercise: 15 The len() Function"
   ]
  },
  {
   "cell_type": "markdown",
   "metadata": {},
   "source": [
    "Finally, it is useful to know the length of a list of string. This will let you create a loop with the exact amount of cycles to manipulate each element. This can be achieved using the 'len()' function.\n",
    "\n",
    "**run the code below to see len() in action**"
   ]
  },
  {
   "cell_type": "code",
   "execution_count": null,
   "metadata": {},
   "outputs": [
    {
     "name": "stdout",
     "output_type": "stream",
     "text": [
      "7\n",
      "7\n",
      "7\n",
      "9\n"
     ]
    }
   ],
   "source": [
    "my_array = [1,1,2,5,8,13,21]\n",
    "my_tuple = (1,1,2,5,8,13,21)\n",
    "my_dict = {1:1,2:1,3:2,4:5,5:8,6:13,7:21}\n",
    "my_string = \"fibonacci\"\n",
    "\n",
    "print(len(my_array))\n",
    "print(len(my_tuple))\n",
    "print(len(my_dict))\n",
    "print(len(my_string))\n"
   ]
  },
  {
   "cell_type": "markdown",
   "metadata": {},
   "source": [
    "Exercise 14 gives and example program which loops through an array and returns replaces each element with its value squared. This program only works however for arrays of length 5. \n",
    "This is because the for loop will only execute 5 times. If an array of a different size is used, the program no longer works.\n",
    "\n",
    "This means the program is not 'scalable'. \n",
    "This is poor programming practice and should be avoided. \n",
    "\n",
    "**Using the range() and len() functions, rewrite your program in exercise 14 so that the loop will iterate enough times to manipulate every element in any sized array:**"
   ]
  },
  {
   "cell_type": "code",
   "execution_count": null,
   "metadata": {},
   "outputs": [
    {
     "name": "stdout",
     "output_type": "stream",
     "text": [
      "q\n",
      "w\n",
      "e\n",
      "r\n",
      "t\n",
      "y\n",
      "u\n",
      "i\n",
      "o\n",
      "p\n"
     ]
    }
   ],
   "source": [
    "# unsure what the question is asking\n",
    "\n",
    "test_string = \"qwertyuiop\"\n",
    "x = len(test_string)\n",
    "\n",
    "for y in range(x):\n",
    "    print(test_string[y])\n",
    "\n"
   ]
  },
  {
   "cell_type": "markdown",
   "metadata": {},
   "source": [
    "# End of Lab 1\n",
    "\n",
    "This is the end of Lab 1\n",
    "\n",
    "Please note this is not a complete reference but is designed to introduce you to concepts and common misconceptions of the python language and allow you to relate coding to engineering applications.\n",
    "\n",
    "Please consult the other course materials to enhance your understanding.\n",
    "\n",
    "As you've discovered, Jupyter notebooks are not just for coding; you can write in them too in markup language. \n",
    "\n",
    "So note in the next cell what what you learned/found difficult or easy in the space below.\n",
    "\n"
   ]
  },
  {
   "cell_type": "markdown",
   "metadata": {},
   "source": [
    "**please reflect on your learning below**\n",
    "\n",
    "### I rate this lab (out of 5): 5\n",
    "\n",
    "### What I find easy:\n",
    "Lorem ipsum dolor sit amet, consectetur adipiscing elit, sed do eiusmod tempor incididunt ut labore et dolore magna aliqua.\n",
    "\n",
    "### What I find difficult:\n",
    "Lorem ipsum dolor sit amet, consectetur adipiscing elit, sed do eiusmod tempor incididunt ut labore et dolore magna aliqua.\n",
    "\n",
    "### What I should improve:\n",
    "Lorem ipsum dolor sit amet, consectetur adipiscing elit, sed do eiusmod tempor incididunt ut labore et dolore magna aliqua."
   ]
  },
  {
   "cell_type": "markdown",
   "metadata": {},
   "source": [
    "# Next Learning Steps\n",
    "\n",
    "* **Upload this completed ipynb notebook to canvas**\n",
    "* **Proceed to Lab 2**"
   ]
  },
  {
   "cell_type": "markdown",
   "metadata": {},
   "source": [
    "# Python for Engineers\n",
    "(c) 2018,2020 Dr Neil Cooke, School of Engineering, Collaborative Teaching Laboratory, University of Birmingham"
   ]
  },
  {
   "cell_type": "code",
   "execution_count": null,
   "metadata": {},
   "outputs": [],
   "source": []
  }
 ],
 "metadata": {
  "interpreter": {
   "hash": "9f49c31180a4b6471a07c710615d5ea1e76e765b37aeebf7bf36938b11a4a7a3"
  },
  "kernelspec": {
   "display_name": "Python 3.8.8 64-bit ('base': conda)",
   "name": "python3"
  },
  "language_info": {
   "codemirror_mode": {
    "name": "ipython",
    "version": 3
   },
   "file_extension": ".py",
   "mimetype": "text/x-python",
   "name": "python",
   "nbconvert_exporter": "python",
   "pygments_lexer": "ipython3",
   "version": "3.8.8"
  }
 },
 "nbformat": 4,
 "nbformat_minor": 1
}
